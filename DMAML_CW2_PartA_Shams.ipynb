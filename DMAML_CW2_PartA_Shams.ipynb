{
  "nbformat": 4,
  "nbformat_minor": 0,
  "metadata": {
    "colab": {
      "name": "DMAML_CW2_PartA_Shams.ipynb",
      "provenance": [],
      "collapsed_sections": []
    },
    "kernelspec": {
      "name": "python3",
      "display_name": "Python 3"
    },
    "language_info": {
      "name": "python"
    },
    "widgets": {
      "application/vnd.jupyter.widget-state+json": {
        "f4a944b5f2064a7ca618f6a4022b22f7": {
          "model_module": "@jupyter-widgets/controls",
          "model_name": "HBoxModel",
          "model_module_version": "1.5.0",
          "state": {
            "_dom_classes": [],
            "_model_module": "@jupyter-widgets/controls",
            "_model_module_version": "1.5.0",
            "_model_name": "HBoxModel",
            "_view_count": null,
            "_view_module": "@jupyter-widgets/controls",
            "_view_module_version": "1.5.0",
            "_view_name": "HBoxView",
            "box_style": "",
            "children": [
              "IPY_MODEL_fc70e6d7917a47fa81879be014bd3471",
              "IPY_MODEL_7bb497c1c64c400b836794c65a47b239",
              "IPY_MODEL_65dea2dd00e94970abb5a0f43428b58f"
            ],
            "layout": "IPY_MODEL_eeae4b2958e4426b9d255235495b9720"
          }
        },
        "fc70e6d7917a47fa81879be014bd3471": {
          "model_module": "@jupyter-widgets/controls",
          "model_name": "HTMLModel",
          "model_module_version": "1.5.0",
          "state": {
            "_dom_classes": [],
            "_model_module": "@jupyter-widgets/controls",
            "_model_module_version": "1.5.0",
            "_model_name": "HTMLModel",
            "_view_count": null,
            "_view_module": "@jupyter-widgets/controls",
            "_view_module_version": "1.5.0",
            "_view_name": "HTMLView",
            "description": "",
            "description_tooltip": null,
            "layout": "IPY_MODEL_f63c29e3acb944869f55bd1866a17205",
            "placeholder": "​",
            "style": "IPY_MODEL_fe5cbd3bb01e4097b0f0ff306c613f0c",
            "value": "Summarize dataset: 100%"
          }
        },
        "7bb497c1c64c400b836794c65a47b239": {
          "model_module": "@jupyter-widgets/controls",
          "model_name": "FloatProgressModel",
          "model_module_version": "1.5.0",
          "state": {
            "_dom_classes": [],
            "_model_module": "@jupyter-widgets/controls",
            "_model_module_version": "1.5.0",
            "_model_name": "FloatProgressModel",
            "_view_count": null,
            "_view_module": "@jupyter-widgets/controls",
            "_view_module_version": "1.5.0",
            "_view_name": "ProgressView",
            "bar_style": "success",
            "description": "",
            "description_tooltip": null,
            "layout": "IPY_MODEL_f505f0a9c7084502be04db5abdc9c785",
            "max": 5,
            "min": 0,
            "orientation": "horizontal",
            "style": "IPY_MODEL_5dafe3aaf8d74117bddab0cb73435a8c",
            "value": 5
          }
        },
        "65dea2dd00e94970abb5a0f43428b58f": {
          "model_module": "@jupyter-widgets/controls",
          "model_name": "HTMLModel",
          "model_module_version": "1.5.0",
          "state": {
            "_dom_classes": [],
            "_model_module": "@jupyter-widgets/controls",
            "_model_module_version": "1.5.0",
            "_model_name": "HTMLModel",
            "_view_count": null,
            "_view_module": "@jupyter-widgets/controls",
            "_view_module_version": "1.5.0",
            "_view_name": "HTMLView",
            "description": "",
            "description_tooltip": null,
            "layout": "IPY_MODEL_cf971036309d4e37929174ba9a62ddad",
            "placeholder": "​",
            "style": "IPY_MODEL_a27b8e0f564f4b59a1643a473decff11",
            "value": " 290/290 [01:10&lt;00:00,  4.43it/s, Completed]"
          }
        },
        "eeae4b2958e4426b9d255235495b9720": {
          "model_module": "@jupyter-widgets/base",
          "model_name": "LayoutModel",
          "model_module_version": "1.2.0",
          "state": {
            "_model_module": "@jupyter-widgets/base",
            "_model_module_version": "1.2.0",
            "_model_name": "LayoutModel",
            "_view_count": null,
            "_view_module": "@jupyter-widgets/base",
            "_view_module_version": "1.2.0",
            "_view_name": "LayoutView",
            "align_content": null,
            "align_items": null,
            "align_self": null,
            "border": null,
            "bottom": null,
            "display": null,
            "flex": null,
            "flex_flow": null,
            "grid_area": null,
            "grid_auto_columns": null,
            "grid_auto_flow": null,
            "grid_auto_rows": null,
            "grid_column": null,
            "grid_gap": null,
            "grid_row": null,
            "grid_template_areas": null,
            "grid_template_columns": null,
            "grid_template_rows": null,
            "height": null,
            "justify_content": null,
            "justify_items": null,
            "left": null,
            "margin": null,
            "max_height": null,
            "max_width": null,
            "min_height": null,
            "min_width": null,
            "object_fit": null,
            "object_position": null,
            "order": null,
            "overflow": null,
            "overflow_x": null,
            "overflow_y": null,
            "padding": null,
            "right": null,
            "top": null,
            "visibility": null,
            "width": null
          }
        },
        "f63c29e3acb944869f55bd1866a17205": {
          "model_module": "@jupyter-widgets/base",
          "model_name": "LayoutModel",
          "model_module_version": "1.2.0",
          "state": {
            "_model_module": "@jupyter-widgets/base",
            "_model_module_version": "1.2.0",
            "_model_name": "LayoutModel",
            "_view_count": null,
            "_view_module": "@jupyter-widgets/base",
            "_view_module_version": "1.2.0",
            "_view_name": "LayoutView",
            "align_content": null,
            "align_items": null,
            "align_self": null,
            "border": null,
            "bottom": null,
            "display": null,
            "flex": null,
            "flex_flow": null,
            "grid_area": null,
            "grid_auto_columns": null,
            "grid_auto_flow": null,
            "grid_auto_rows": null,
            "grid_column": null,
            "grid_gap": null,
            "grid_row": null,
            "grid_template_areas": null,
            "grid_template_columns": null,
            "grid_template_rows": null,
            "height": null,
            "justify_content": null,
            "justify_items": null,
            "left": null,
            "margin": null,
            "max_height": null,
            "max_width": null,
            "min_height": null,
            "min_width": null,
            "object_fit": null,
            "object_position": null,
            "order": null,
            "overflow": null,
            "overflow_x": null,
            "overflow_y": null,
            "padding": null,
            "right": null,
            "top": null,
            "visibility": null,
            "width": null
          }
        },
        "fe5cbd3bb01e4097b0f0ff306c613f0c": {
          "model_module": "@jupyter-widgets/controls",
          "model_name": "DescriptionStyleModel",
          "model_module_version": "1.5.0",
          "state": {
            "_model_module": "@jupyter-widgets/controls",
            "_model_module_version": "1.5.0",
            "_model_name": "DescriptionStyleModel",
            "_view_count": null,
            "_view_module": "@jupyter-widgets/base",
            "_view_module_version": "1.2.0",
            "_view_name": "StyleView",
            "description_width": ""
          }
        },
        "f505f0a9c7084502be04db5abdc9c785": {
          "model_module": "@jupyter-widgets/base",
          "model_name": "LayoutModel",
          "model_module_version": "1.2.0",
          "state": {
            "_model_module": "@jupyter-widgets/base",
            "_model_module_version": "1.2.0",
            "_model_name": "LayoutModel",
            "_view_count": null,
            "_view_module": "@jupyter-widgets/base",
            "_view_module_version": "1.2.0",
            "_view_name": "LayoutView",
            "align_content": null,
            "align_items": null,
            "align_self": null,
            "border": null,
            "bottom": null,
            "display": null,
            "flex": null,
            "flex_flow": null,
            "grid_area": null,
            "grid_auto_columns": null,
            "grid_auto_flow": null,
            "grid_auto_rows": null,
            "grid_column": null,
            "grid_gap": null,
            "grid_row": null,
            "grid_template_areas": null,
            "grid_template_columns": null,
            "grid_template_rows": null,
            "height": null,
            "justify_content": null,
            "justify_items": null,
            "left": null,
            "margin": null,
            "max_height": null,
            "max_width": null,
            "min_height": null,
            "min_width": null,
            "object_fit": null,
            "object_position": null,
            "order": null,
            "overflow": null,
            "overflow_x": null,
            "overflow_y": null,
            "padding": null,
            "right": null,
            "top": null,
            "visibility": null,
            "width": null
          }
        },
        "5dafe3aaf8d74117bddab0cb73435a8c": {
          "model_module": "@jupyter-widgets/controls",
          "model_name": "ProgressStyleModel",
          "model_module_version": "1.5.0",
          "state": {
            "_model_module": "@jupyter-widgets/controls",
            "_model_module_version": "1.5.0",
            "_model_name": "ProgressStyleModel",
            "_view_count": null,
            "_view_module": "@jupyter-widgets/base",
            "_view_module_version": "1.2.0",
            "_view_name": "StyleView",
            "bar_color": null,
            "description_width": ""
          }
        },
        "cf971036309d4e37929174ba9a62ddad": {
          "model_module": "@jupyter-widgets/base",
          "model_name": "LayoutModel",
          "model_module_version": "1.2.0",
          "state": {
            "_model_module": "@jupyter-widgets/base",
            "_model_module_version": "1.2.0",
            "_model_name": "LayoutModel",
            "_view_count": null,
            "_view_module": "@jupyter-widgets/base",
            "_view_module_version": "1.2.0",
            "_view_name": "LayoutView",
            "align_content": null,
            "align_items": null,
            "align_self": null,
            "border": null,
            "bottom": null,
            "display": null,
            "flex": null,
            "flex_flow": null,
            "grid_area": null,
            "grid_auto_columns": null,
            "grid_auto_flow": null,
            "grid_auto_rows": null,
            "grid_column": null,
            "grid_gap": null,
            "grid_row": null,
            "grid_template_areas": null,
            "grid_template_columns": null,
            "grid_template_rows": null,
            "height": null,
            "justify_content": null,
            "justify_items": null,
            "left": null,
            "margin": null,
            "max_height": null,
            "max_width": null,
            "min_height": null,
            "min_width": null,
            "object_fit": null,
            "object_position": null,
            "order": null,
            "overflow": null,
            "overflow_x": null,
            "overflow_y": null,
            "padding": null,
            "right": null,
            "top": null,
            "visibility": null,
            "width": null
          }
        },
        "a27b8e0f564f4b59a1643a473decff11": {
          "model_module": "@jupyter-widgets/controls",
          "model_name": "DescriptionStyleModel",
          "model_module_version": "1.5.0",
          "state": {
            "_model_module": "@jupyter-widgets/controls",
            "_model_module_version": "1.5.0",
            "_model_name": "DescriptionStyleModel",
            "_view_count": null,
            "_view_module": "@jupyter-widgets/base",
            "_view_module_version": "1.2.0",
            "_view_name": "StyleView",
            "description_width": ""
          }
        },
        "7bdf1ac3e4ee4af0a278aaaff587ae6d": {
          "model_module": "@jupyter-widgets/controls",
          "model_name": "HBoxModel",
          "model_module_version": "1.5.0",
          "state": {
            "_dom_classes": [],
            "_model_module": "@jupyter-widgets/controls",
            "_model_module_version": "1.5.0",
            "_model_name": "HBoxModel",
            "_view_count": null,
            "_view_module": "@jupyter-widgets/controls",
            "_view_module_version": "1.5.0",
            "_view_name": "HBoxView",
            "box_style": "",
            "children": [
              "IPY_MODEL_830f2e3b93b04f33933d900236b1248e",
              "IPY_MODEL_1173d3c036d448e8bdac243220f37881",
              "IPY_MODEL_224432fa12b84aa58cd2c865e28d5a5c"
            ],
            "layout": "IPY_MODEL_e7693b7ac7dd408abf1affbbe2c75e06"
          }
        },
        "830f2e3b93b04f33933d900236b1248e": {
          "model_module": "@jupyter-widgets/controls",
          "model_name": "HTMLModel",
          "model_module_version": "1.5.0",
          "state": {
            "_dom_classes": [],
            "_model_module": "@jupyter-widgets/controls",
            "_model_module_version": "1.5.0",
            "_model_name": "HTMLModel",
            "_view_count": null,
            "_view_module": "@jupyter-widgets/controls",
            "_view_module_version": "1.5.0",
            "_view_name": "HTMLView",
            "description": "",
            "description_tooltip": null,
            "layout": "IPY_MODEL_b8ae425fba9544799566a976e0b72046",
            "placeholder": "​",
            "style": "IPY_MODEL_a699f74a4a934b3cac6c484af9ad32db",
            "value": "Generate report structure: 100%"
          }
        },
        "1173d3c036d448e8bdac243220f37881": {
          "model_module": "@jupyter-widgets/controls",
          "model_name": "FloatProgressModel",
          "model_module_version": "1.5.0",
          "state": {
            "_dom_classes": [],
            "_model_module": "@jupyter-widgets/controls",
            "_model_module_version": "1.5.0",
            "_model_name": "FloatProgressModel",
            "_view_count": null,
            "_view_module": "@jupyter-widgets/controls",
            "_view_module_version": "1.5.0",
            "_view_name": "ProgressView",
            "bar_style": "success",
            "description": "",
            "description_tooltip": null,
            "layout": "IPY_MODEL_9351d2a9c3304abcb63df45f396504cc",
            "max": 1,
            "min": 0,
            "orientation": "horizontal",
            "style": "IPY_MODEL_b8983706291248cab4977d8bdd196184",
            "value": 1
          }
        },
        "224432fa12b84aa58cd2c865e28d5a5c": {
          "model_module": "@jupyter-widgets/controls",
          "model_name": "HTMLModel",
          "model_module_version": "1.5.0",
          "state": {
            "_dom_classes": [],
            "_model_module": "@jupyter-widgets/controls",
            "_model_module_version": "1.5.0",
            "_model_name": "HTMLModel",
            "_view_count": null,
            "_view_module": "@jupyter-widgets/controls",
            "_view_module_version": "1.5.0",
            "_view_name": "HTMLView",
            "description": "",
            "description_tooltip": null,
            "layout": "IPY_MODEL_b76f88d6239f4649a338696acc5955a8",
            "placeholder": "​",
            "style": "IPY_MODEL_ceb9e2d7b0f9498294603b3ec86fd525",
            "value": " 1/1 [00:10&lt;00:00, 10.57s/it]"
          }
        },
        "e7693b7ac7dd408abf1affbbe2c75e06": {
          "model_module": "@jupyter-widgets/base",
          "model_name": "LayoutModel",
          "model_module_version": "1.2.0",
          "state": {
            "_model_module": "@jupyter-widgets/base",
            "_model_module_version": "1.2.0",
            "_model_name": "LayoutModel",
            "_view_count": null,
            "_view_module": "@jupyter-widgets/base",
            "_view_module_version": "1.2.0",
            "_view_name": "LayoutView",
            "align_content": null,
            "align_items": null,
            "align_self": null,
            "border": null,
            "bottom": null,
            "display": null,
            "flex": null,
            "flex_flow": null,
            "grid_area": null,
            "grid_auto_columns": null,
            "grid_auto_flow": null,
            "grid_auto_rows": null,
            "grid_column": null,
            "grid_gap": null,
            "grid_row": null,
            "grid_template_areas": null,
            "grid_template_columns": null,
            "grid_template_rows": null,
            "height": null,
            "justify_content": null,
            "justify_items": null,
            "left": null,
            "margin": null,
            "max_height": null,
            "max_width": null,
            "min_height": null,
            "min_width": null,
            "object_fit": null,
            "object_position": null,
            "order": null,
            "overflow": null,
            "overflow_x": null,
            "overflow_y": null,
            "padding": null,
            "right": null,
            "top": null,
            "visibility": null,
            "width": null
          }
        },
        "b8ae425fba9544799566a976e0b72046": {
          "model_module": "@jupyter-widgets/base",
          "model_name": "LayoutModel",
          "model_module_version": "1.2.0",
          "state": {
            "_model_module": "@jupyter-widgets/base",
            "_model_module_version": "1.2.0",
            "_model_name": "LayoutModel",
            "_view_count": null,
            "_view_module": "@jupyter-widgets/base",
            "_view_module_version": "1.2.0",
            "_view_name": "LayoutView",
            "align_content": null,
            "align_items": null,
            "align_self": null,
            "border": null,
            "bottom": null,
            "display": null,
            "flex": null,
            "flex_flow": null,
            "grid_area": null,
            "grid_auto_columns": null,
            "grid_auto_flow": null,
            "grid_auto_rows": null,
            "grid_column": null,
            "grid_gap": null,
            "grid_row": null,
            "grid_template_areas": null,
            "grid_template_columns": null,
            "grid_template_rows": null,
            "height": null,
            "justify_content": null,
            "justify_items": null,
            "left": null,
            "margin": null,
            "max_height": null,
            "max_width": null,
            "min_height": null,
            "min_width": null,
            "object_fit": null,
            "object_position": null,
            "order": null,
            "overflow": null,
            "overflow_x": null,
            "overflow_y": null,
            "padding": null,
            "right": null,
            "top": null,
            "visibility": null,
            "width": null
          }
        },
        "a699f74a4a934b3cac6c484af9ad32db": {
          "model_module": "@jupyter-widgets/controls",
          "model_name": "DescriptionStyleModel",
          "model_module_version": "1.5.0",
          "state": {
            "_model_module": "@jupyter-widgets/controls",
            "_model_module_version": "1.5.0",
            "_model_name": "DescriptionStyleModel",
            "_view_count": null,
            "_view_module": "@jupyter-widgets/base",
            "_view_module_version": "1.2.0",
            "_view_name": "StyleView",
            "description_width": ""
          }
        },
        "9351d2a9c3304abcb63df45f396504cc": {
          "model_module": "@jupyter-widgets/base",
          "model_name": "LayoutModel",
          "model_module_version": "1.2.0",
          "state": {
            "_model_module": "@jupyter-widgets/base",
            "_model_module_version": "1.2.0",
            "_model_name": "LayoutModel",
            "_view_count": null,
            "_view_module": "@jupyter-widgets/base",
            "_view_module_version": "1.2.0",
            "_view_name": "LayoutView",
            "align_content": null,
            "align_items": null,
            "align_self": null,
            "border": null,
            "bottom": null,
            "display": null,
            "flex": null,
            "flex_flow": null,
            "grid_area": null,
            "grid_auto_columns": null,
            "grid_auto_flow": null,
            "grid_auto_rows": null,
            "grid_column": null,
            "grid_gap": null,
            "grid_row": null,
            "grid_template_areas": null,
            "grid_template_columns": null,
            "grid_template_rows": null,
            "height": null,
            "justify_content": null,
            "justify_items": null,
            "left": null,
            "margin": null,
            "max_height": null,
            "max_width": null,
            "min_height": null,
            "min_width": null,
            "object_fit": null,
            "object_position": null,
            "order": null,
            "overflow": null,
            "overflow_x": null,
            "overflow_y": null,
            "padding": null,
            "right": null,
            "top": null,
            "visibility": null,
            "width": null
          }
        },
        "b8983706291248cab4977d8bdd196184": {
          "model_module": "@jupyter-widgets/controls",
          "model_name": "ProgressStyleModel",
          "model_module_version": "1.5.0",
          "state": {
            "_model_module": "@jupyter-widgets/controls",
            "_model_module_version": "1.5.0",
            "_model_name": "ProgressStyleModel",
            "_view_count": null,
            "_view_module": "@jupyter-widgets/base",
            "_view_module_version": "1.2.0",
            "_view_name": "StyleView",
            "bar_color": null,
            "description_width": ""
          }
        },
        "b76f88d6239f4649a338696acc5955a8": {
          "model_module": "@jupyter-widgets/base",
          "model_name": "LayoutModel",
          "model_module_version": "1.2.0",
          "state": {
            "_model_module": "@jupyter-widgets/base",
            "_model_module_version": "1.2.0",
            "_model_name": "LayoutModel",
            "_view_count": null,
            "_view_module": "@jupyter-widgets/base",
            "_view_module_version": "1.2.0",
            "_view_name": "LayoutView",
            "align_content": null,
            "align_items": null,
            "align_self": null,
            "border": null,
            "bottom": null,
            "display": null,
            "flex": null,
            "flex_flow": null,
            "grid_area": null,
            "grid_auto_columns": null,
            "grid_auto_flow": null,
            "grid_auto_rows": null,
            "grid_column": null,
            "grid_gap": null,
            "grid_row": null,
            "grid_template_areas": null,
            "grid_template_columns": null,
            "grid_template_rows": null,
            "height": null,
            "justify_content": null,
            "justify_items": null,
            "left": null,
            "margin": null,
            "max_height": null,
            "max_width": null,
            "min_height": null,
            "min_width": null,
            "object_fit": null,
            "object_position": null,
            "order": null,
            "overflow": null,
            "overflow_x": null,
            "overflow_y": null,
            "padding": null,
            "right": null,
            "top": null,
            "visibility": null,
            "width": null
          }
        },
        "ceb9e2d7b0f9498294603b3ec86fd525": {
          "model_module": "@jupyter-widgets/controls",
          "model_name": "DescriptionStyleModel",
          "model_module_version": "1.5.0",
          "state": {
            "_model_module": "@jupyter-widgets/controls",
            "_model_module_version": "1.5.0",
            "_model_name": "DescriptionStyleModel",
            "_view_count": null,
            "_view_module": "@jupyter-widgets/base",
            "_view_module_version": "1.2.0",
            "_view_name": "StyleView",
            "description_width": ""
          }
        },
        "bf35788957a24fc68bf257bdbdbce91b": {
          "model_module": "@jupyter-widgets/controls",
          "model_name": "HBoxModel",
          "model_module_version": "1.5.0",
          "state": {
            "_dom_classes": [],
            "_model_module": "@jupyter-widgets/controls",
            "_model_module_version": "1.5.0",
            "_model_name": "HBoxModel",
            "_view_count": null,
            "_view_module": "@jupyter-widgets/controls",
            "_view_module_version": "1.5.0",
            "_view_name": "HBoxView",
            "box_style": "",
            "children": [
              "IPY_MODEL_6bf6957e9f9648429632c4380703a5da",
              "IPY_MODEL_f24910d41f32431dbdc5eb45772c6042",
              "IPY_MODEL_3c572d5e7e3b4f31a43b756d211227ec"
            ],
            "layout": "IPY_MODEL_62db580346024ad08f94785cdc4ab97b"
          }
        },
        "6bf6957e9f9648429632c4380703a5da": {
          "model_module": "@jupyter-widgets/controls",
          "model_name": "HTMLModel",
          "model_module_version": "1.5.0",
          "state": {
            "_dom_classes": [],
            "_model_module": "@jupyter-widgets/controls",
            "_model_module_version": "1.5.0",
            "_model_name": "HTMLModel",
            "_view_count": null,
            "_view_module": "@jupyter-widgets/controls",
            "_view_module_version": "1.5.0",
            "_view_name": "HTMLView",
            "description": "",
            "description_tooltip": null,
            "layout": "IPY_MODEL_a11795d2c5ee4d02a0321bf8678841b6",
            "placeholder": "​",
            "style": "IPY_MODEL_8db7cdc64c15480ab7b3c102d7b76caf",
            "value": "Render HTML: 100%"
          }
        },
        "f24910d41f32431dbdc5eb45772c6042": {
          "model_module": "@jupyter-widgets/controls",
          "model_name": "FloatProgressModel",
          "model_module_version": "1.5.0",
          "state": {
            "_dom_classes": [],
            "_model_module": "@jupyter-widgets/controls",
            "_model_module_version": "1.5.0",
            "_model_name": "FloatProgressModel",
            "_view_count": null,
            "_view_module": "@jupyter-widgets/controls",
            "_view_module_version": "1.5.0",
            "_view_name": "ProgressView",
            "bar_style": "success",
            "description": "",
            "description_tooltip": null,
            "layout": "IPY_MODEL_d20169105aaa466ca0fa563f576258b5",
            "max": 1,
            "min": 0,
            "orientation": "horizontal",
            "style": "IPY_MODEL_b1241412db03466785b93d712b7eb25f",
            "value": 1
          }
        },
        "3c572d5e7e3b4f31a43b756d211227ec": {
          "model_module": "@jupyter-widgets/controls",
          "model_name": "HTMLModel",
          "model_module_version": "1.5.0",
          "state": {
            "_dom_classes": [],
            "_model_module": "@jupyter-widgets/controls",
            "_model_module_version": "1.5.0",
            "_model_name": "HTMLModel",
            "_view_count": null,
            "_view_module": "@jupyter-widgets/controls",
            "_view_module_version": "1.5.0",
            "_view_name": "HTMLView",
            "description": "",
            "description_tooltip": null,
            "layout": "IPY_MODEL_20b9c54ec93943dfb06834a423d5b8b9",
            "placeholder": "​",
            "style": "IPY_MODEL_bdc07b46741d467e80d5137bb98dfc0b",
            "value": " 1/1 [00:17&lt;00:00, 17.01s/it]"
          }
        },
        "62db580346024ad08f94785cdc4ab97b": {
          "model_module": "@jupyter-widgets/base",
          "model_name": "LayoutModel",
          "model_module_version": "1.2.0",
          "state": {
            "_model_module": "@jupyter-widgets/base",
            "_model_module_version": "1.2.0",
            "_model_name": "LayoutModel",
            "_view_count": null,
            "_view_module": "@jupyter-widgets/base",
            "_view_module_version": "1.2.0",
            "_view_name": "LayoutView",
            "align_content": null,
            "align_items": null,
            "align_self": null,
            "border": null,
            "bottom": null,
            "display": null,
            "flex": null,
            "flex_flow": null,
            "grid_area": null,
            "grid_auto_columns": null,
            "grid_auto_flow": null,
            "grid_auto_rows": null,
            "grid_column": null,
            "grid_gap": null,
            "grid_row": null,
            "grid_template_areas": null,
            "grid_template_columns": null,
            "grid_template_rows": null,
            "height": null,
            "justify_content": null,
            "justify_items": null,
            "left": null,
            "margin": null,
            "max_height": null,
            "max_width": null,
            "min_height": null,
            "min_width": null,
            "object_fit": null,
            "object_position": null,
            "order": null,
            "overflow": null,
            "overflow_x": null,
            "overflow_y": null,
            "padding": null,
            "right": null,
            "top": null,
            "visibility": null,
            "width": null
          }
        },
        "a11795d2c5ee4d02a0321bf8678841b6": {
          "model_module": "@jupyter-widgets/base",
          "model_name": "LayoutModel",
          "model_module_version": "1.2.0",
          "state": {
            "_model_module": "@jupyter-widgets/base",
            "_model_module_version": "1.2.0",
            "_model_name": "LayoutModel",
            "_view_count": null,
            "_view_module": "@jupyter-widgets/base",
            "_view_module_version": "1.2.0",
            "_view_name": "LayoutView",
            "align_content": null,
            "align_items": null,
            "align_self": null,
            "border": null,
            "bottom": null,
            "display": null,
            "flex": null,
            "flex_flow": null,
            "grid_area": null,
            "grid_auto_columns": null,
            "grid_auto_flow": null,
            "grid_auto_rows": null,
            "grid_column": null,
            "grid_gap": null,
            "grid_row": null,
            "grid_template_areas": null,
            "grid_template_columns": null,
            "grid_template_rows": null,
            "height": null,
            "justify_content": null,
            "justify_items": null,
            "left": null,
            "margin": null,
            "max_height": null,
            "max_width": null,
            "min_height": null,
            "min_width": null,
            "object_fit": null,
            "object_position": null,
            "order": null,
            "overflow": null,
            "overflow_x": null,
            "overflow_y": null,
            "padding": null,
            "right": null,
            "top": null,
            "visibility": null,
            "width": null
          }
        },
        "8db7cdc64c15480ab7b3c102d7b76caf": {
          "model_module": "@jupyter-widgets/controls",
          "model_name": "DescriptionStyleModel",
          "model_module_version": "1.5.0",
          "state": {
            "_model_module": "@jupyter-widgets/controls",
            "_model_module_version": "1.5.0",
            "_model_name": "DescriptionStyleModel",
            "_view_count": null,
            "_view_module": "@jupyter-widgets/base",
            "_view_module_version": "1.2.0",
            "_view_name": "StyleView",
            "description_width": ""
          }
        },
        "d20169105aaa466ca0fa563f576258b5": {
          "model_module": "@jupyter-widgets/base",
          "model_name": "LayoutModel",
          "model_module_version": "1.2.0",
          "state": {
            "_model_module": "@jupyter-widgets/base",
            "_model_module_version": "1.2.0",
            "_model_name": "LayoutModel",
            "_view_count": null,
            "_view_module": "@jupyter-widgets/base",
            "_view_module_version": "1.2.0",
            "_view_name": "LayoutView",
            "align_content": null,
            "align_items": null,
            "align_self": null,
            "border": null,
            "bottom": null,
            "display": null,
            "flex": null,
            "flex_flow": null,
            "grid_area": null,
            "grid_auto_columns": null,
            "grid_auto_flow": null,
            "grid_auto_rows": null,
            "grid_column": null,
            "grid_gap": null,
            "grid_row": null,
            "grid_template_areas": null,
            "grid_template_columns": null,
            "grid_template_rows": null,
            "height": null,
            "justify_content": null,
            "justify_items": null,
            "left": null,
            "margin": null,
            "max_height": null,
            "max_width": null,
            "min_height": null,
            "min_width": null,
            "object_fit": null,
            "object_position": null,
            "order": null,
            "overflow": null,
            "overflow_x": null,
            "overflow_y": null,
            "padding": null,
            "right": null,
            "top": null,
            "visibility": null,
            "width": null
          }
        },
        "b1241412db03466785b93d712b7eb25f": {
          "model_module": "@jupyter-widgets/controls",
          "model_name": "ProgressStyleModel",
          "model_module_version": "1.5.0",
          "state": {
            "_model_module": "@jupyter-widgets/controls",
            "_model_module_version": "1.5.0",
            "_model_name": "ProgressStyleModel",
            "_view_count": null,
            "_view_module": "@jupyter-widgets/base",
            "_view_module_version": "1.2.0",
            "_view_name": "StyleView",
            "bar_color": null,
            "description_width": ""
          }
        },
        "20b9c54ec93943dfb06834a423d5b8b9": {
          "model_module": "@jupyter-widgets/base",
          "model_name": "LayoutModel",
          "model_module_version": "1.2.0",
          "state": {
            "_model_module": "@jupyter-widgets/base",
            "_model_module_version": "1.2.0",
            "_model_name": "LayoutModel",
            "_view_count": null,
            "_view_module": "@jupyter-widgets/base",
            "_view_module_version": "1.2.0",
            "_view_name": "LayoutView",
            "align_content": null,
            "align_items": null,
            "align_self": null,
            "border": null,
            "bottom": null,
            "display": null,
            "flex": null,
            "flex_flow": null,
            "grid_area": null,
            "grid_auto_columns": null,
            "grid_auto_flow": null,
            "grid_auto_rows": null,
            "grid_column": null,
            "grid_gap": null,
            "grid_row": null,
            "grid_template_areas": null,
            "grid_template_columns": null,
            "grid_template_rows": null,
            "height": null,
            "justify_content": null,
            "justify_items": null,
            "left": null,
            "margin": null,
            "max_height": null,
            "max_width": null,
            "min_height": null,
            "min_width": null,
            "object_fit": null,
            "object_position": null,
            "order": null,
            "overflow": null,
            "overflow_x": null,
            "overflow_y": null,
            "padding": null,
            "right": null,
            "top": null,
            "visibility": null,
            "width": null
          }
        },
        "bdc07b46741d467e80d5137bb98dfc0b": {
          "model_module": "@jupyter-widgets/controls",
          "model_name": "DescriptionStyleModel",
          "model_module_version": "1.5.0",
          "state": {
            "_model_module": "@jupyter-widgets/controls",
            "_model_module_version": "1.5.0",
            "_model_name": "DescriptionStyleModel",
            "_view_count": null,
            "_view_module": "@jupyter-widgets/base",
            "_view_module_version": "1.2.0",
            "_view_name": "StyleView",
            "description_width": ""
          }
        },
        "721c7817b3db416d809aca8ba941e490": {
          "model_module": "@jupyter-widgets/controls",
          "model_name": "HBoxModel",
          "model_module_version": "1.5.0",
          "state": {
            "_dom_classes": [],
            "_model_module": "@jupyter-widgets/controls",
            "_model_module_version": "1.5.0",
            "_model_name": "HBoxModel",
            "_view_count": null,
            "_view_module": "@jupyter-widgets/controls",
            "_view_module_version": "1.5.0",
            "_view_name": "HBoxView",
            "box_style": "",
            "children": [
              "IPY_MODEL_2ba2731e3c6b46d49eb3f111a64630e3",
              "IPY_MODEL_b395e1baec6249a3ac4e3a435c82688d",
              "IPY_MODEL_17f35ada071f4c5793595763f6160357"
            ],
            "layout": "IPY_MODEL_885aa607ce974e768e2847bf6ec1f807"
          }
        },
        "2ba2731e3c6b46d49eb3f111a64630e3": {
          "model_module": "@jupyter-widgets/controls",
          "model_name": "HTMLModel",
          "model_module_version": "1.5.0",
          "state": {
            "_dom_classes": [],
            "_model_module": "@jupyter-widgets/controls",
            "_model_module_version": "1.5.0",
            "_model_name": "HTMLModel",
            "_view_count": null,
            "_view_module": "@jupyter-widgets/controls",
            "_view_module_version": "1.5.0",
            "_view_name": "HTMLView",
            "description": "",
            "description_tooltip": null,
            "layout": "IPY_MODEL_7f6fab9fa04848da9073e8b70e3bb653",
            "placeholder": "​",
            "style": "IPY_MODEL_3de2e0f787bb4291a32eb8e80242f3a0",
            "value": "Export report to file: 100%"
          }
        },
        "b395e1baec6249a3ac4e3a435c82688d": {
          "model_module": "@jupyter-widgets/controls",
          "model_name": "FloatProgressModel",
          "model_module_version": "1.5.0",
          "state": {
            "_dom_classes": [],
            "_model_module": "@jupyter-widgets/controls",
            "_model_module_version": "1.5.0",
            "_model_name": "FloatProgressModel",
            "_view_count": null,
            "_view_module": "@jupyter-widgets/controls",
            "_view_module_version": "1.5.0",
            "_view_name": "ProgressView",
            "bar_style": "success",
            "description": "",
            "description_tooltip": null,
            "layout": "IPY_MODEL_1462ebce94664640a2bc96225551e4a0",
            "max": 1,
            "min": 0,
            "orientation": "horizontal",
            "style": "IPY_MODEL_76dd05cf45ad4f648b49ee4b12f96e42",
            "value": 1
          }
        },
        "17f35ada071f4c5793595763f6160357": {
          "model_module": "@jupyter-widgets/controls",
          "model_name": "HTMLModel",
          "model_module_version": "1.5.0",
          "state": {
            "_dom_classes": [],
            "_model_module": "@jupyter-widgets/controls",
            "_model_module_version": "1.5.0",
            "_model_name": "HTMLModel",
            "_view_count": null,
            "_view_module": "@jupyter-widgets/controls",
            "_view_module_version": "1.5.0",
            "_view_name": "HTMLView",
            "description": "",
            "description_tooltip": null,
            "layout": "IPY_MODEL_acaf0fb797664cbb91639ea220ec1527",
            "placeholder": "​",
            "style": "IPY_MODEL_43b5fbca2fe94673bcb29dbc266d66c8",
            "value": " 1/1 [00:00&lt;00:00,  3.60it/s]"
          }
        },
        "885aa607ce974e768e2847bf6ec1f807": {
          "model_module": "@jupyter-widgets/base",
          "model_name": "LayoutModel",
          "model_module_version": "1.2.0",
          "state": {
            "_model_module": "@jupyter-widgets/base",
            "_model_module_version": "1.2.0",
            "_model_name": "LayoutModel",
            "_view_count": null,
            "_view_module": "@jupyter-widgets/base",
            "_view_module_version": "1.2.0",
            "_view_name": "LayoutView",
            "align_content": null,
            "align_items": null,
            "align_self": null,
            "border": null,
            "bottom": null,
            "display": null,
            "flex": null,
            "flex_flow": null,
            "grid_area": null,
            "grid_auto_columns": null,
            "grid_auto_flow": null,
            "grid_auto_rows": null,
            "grid_column": null,
            "grid_gap": null,
            "grid_row": null,
            "grid_template_areas": null,
            "grid_template_columns": null,
            "grid_template_rows": null,
            "height": null,
            "justify_content": null,
            "justify_items": null,
            "left": null,
            "margin": null,
            "max_height": null,
            "max_width": null,
            "min_height": null,
            "min_width": null,
            "object_fit": null,
            "object_position": null,
            "order": null,
            "overflow": null,
            "overflow_x": null,
            "overflow_y": null,
            "padding": null,
            "right": null,
            "top": null,
            "visibility": null,
            "width": null
          }
        },
        "7f6fab9fa04848da9073e8b70e3bb653": {
          "model_module": "@jupyter-widgets/base",
          "model_name": "LayoutModel",
          "model_module_version": "1.2.0",
          "state": {
            "_model_module": "@jupyter-widgets/base",
            "_model_module_version": "1.2.0",
            "_model_name": "LayoutModel",
            "_view_count": null,
            "_view_module": "@jupyter-widgets/base",
            "_view_module_version": "1.2.0",
            "_view_name": "LayoutView",
            "align_content": null,
            "align_items": null,
            "align_self": null,
            "border": null,
            "bottom": null,
            "display": null,
            "flex": null,
            "flex_flow": null,
            "grid_area": null,
            "grid_auto_columns": null,
            "grid_auto_flow": null,
            "grid_auto_rows": null,
            "grid_column": null,
            "grid_gap": null,
            "grid_row": null,
            "grid_template_areas": null,
            "grid_template_columns": null,
            "grid_template_rows": null,
            "height": null,
            "justify_content": null,
            "justify_items": null,
            "left": null,
            "margin": null,
            "max_height": null,
            "max_width": null,
            "min_height": null,
            "min_width": null,
            "object_fit": null,
            "object_position": null,
            "order": null,
            "overflow": null,
            "overflow_x": null,
            "overflow_y": null,
            "padding": null,
            "right": null,
            "top": null,
            "visibility": null,
            "width": null
          }
        },
        "3de2e0f787bb4291a32eb8e80242f3a0": {
          "model_module": "@jupyter-widgets/controls",
          "model_name": "DescriptionStyleModel",
          "model_module_version": "1.5.0",
          "state": {
            "_model_module": "@jupyter-widgets/controls",
            "_model_module_version": "1.5.0",
            "_model_name": "DescriptionStyleModel",
            "_view_count": null,
            "_view_module": "@jupyter-widgets/base",
            "_view_module_version": "1.2.0",
            "_view_name": "StyleView",
            "description_width": ""
          }
        },
        "1462ebce94664640a2bc96225551e4a0": {
          "model_module": "@jupyter-widgets/base",
          "model_name": "LayoutModel",
          "model_module_version": "1.2.0",
          "state": {
            "_model_module": "@jupyter-widgets/base",
            "_model_module_version": "1.2.0",
            "_model_name": "LayoutModel",
            "_view_count": null,
            "_view_module": "@jupyter-widgets/base",
            "_view_module_version": "1.2.0",
            "_view_name": "LayoutView",
            "align_content": null,
            "align_items": null,
            "align_self": null,
            "border": null,
            "bottom": null,
            "display": null,
            "flex": null,
            "flex_flow": null,
            "grid_area": null,
            "grid_auto_columns": null,
            "grid_auto_flow": null,
            "grid_auto_rows": null,
            "grid_column": null,
            "grid_gap": null,
            "grid_row": null,
            "grid_template_areas": null,
            "grid_template_columns": null,
            "grid_template_rows": null,
            "height": null,
            "justify_content": null,
            "justify_items": null,
            "left": null,
            "margin": null,
            "max_height": null,
            "max_width": null,
            "min_height": null,
            "min_width": null,
            "object_fit": null,
            "object_position": null,
            "order": null,
            "overflow": null,
            "overflow_x": null,
            "overflow_y": null,
            "padding": null,
            "right": null,
            "top": null,
            "visibility": null,
            "width": null
          }
        },
        "76dd05cf45ad4f648b49ee4b12f96e42": {
          "model_module": "@jupyter-widgets/controls",
          "model_name": "ProgressStyleModel",
          "model_module_version": "1.5.0",
          "state": {
            "_model_module": "@jupyter-widgets/controls",
            "_model_module_version": "1.5.0",
            "_model_name": "ProgressStyleModel",
            "_view_count": null,
            "_view_module": "@jupyter-widgets/base",
            "_view_module_version": "1.2.0",
            "_view_name": "StyleView",
            "bar_color": null,
            "description_width": ""
          }
        },
        "acaf0fb797664cbb91639ea220ec1527": {
          "model_module": "@jupyter-widgets/base",
          "model_name": "LayoutModel",
          "model_module_version": "1.2.0",
          "state": {
            "_model_module": "@jupyter-widgets/base",
            "_model_module_version": "1.2.0",
            "_model_name": "LayoutModel",
            "_view_count": null,
            "_view_module": "@jupyter-widgets/base",
            "_view_module_version": "1.2.0",
            "_view_name": "LayoutView",
            "align_content": null,
            "align_items": null,
            "align_self": null,
            "border": null,
            "bottom": null,
            "display": null,
            "flex": null,
            "flex_flow": null,
            "grid_area": null,
            "grid_auto_columns": null,
            "grid_auto_flow": null,
            "grid_auto_rows": null,
            "grid_column": null,
            "grid_gap": null,
            "grid_row": null,
            "grid_template_areas": null,
            "grid_template_columns": null,
            "grid_template_rows": null,
            "height": null,
            "justify_content": null,
            "justify_items": null,
            "left": null,
            "margin": null,
            "max_height": null,
            "max_width": null,
            "min_height": null,
            "min_width": null,
            "object_fit": null,
            "object_position": null,
            "order": null,
            "overflow": null,
            "overflow_x": null,
            "overflow_y": null,
            "padding": null,
            "right": null,
            "top": null,
            "visibility": null,
            "width": null
          }
        },
        "43b5fbca2fe94673bcb29dbc266d66c8": {
          "model_module": "@jupyter-widgets/controls",
          "model_name": "DescriptionStyleModel",
          "model_module_version": "1.5.0",
          "state": {
            "_model_module": "@jupyter-widgets/controls",
            "_model_module_version": "1.5.0",
            "_model_name": "DescriptionStyleModel",
            "_view_count": null,
            "_view_module": "@jupyter-widgets/base",
            "_view_module_version": "1.2.0",
            "_view_name": "StyleView",
            "description_width": ""
          }
        }
      }
    }
  },
  "cells": [
    {
      "cell_type": "code",
      "source": [
        "! pip install https://github.com/pandas-profiling/pandas-profiling/archive/master.zip "
      ],
      "metadata": {
        "colab": {
          "base_uri": "https://localhost:8080/"
        },
        "id": "DxwkwdLQnTw0",
        "outputId": "2bc5d09c-bce7-454a-fd25-1d8761bd71ec"
      },
      "execution_count": 1,
      "outputs": [
        {
          "output_type": "stream",
          "name": "stdout",
          "text": [
            "Collecting https://github.com/pandas-profiling/pandas-profiling/archive/master.zip\n",
            "  Using cached https://github.com/pandas-profiling/pandas-profiling/archive/master.zip\n",
            "Requirement already satisfied: joblib~=1.1.0 in /usr/local/lib/python3.7/dist-packages (from pandas-profiling==3.1.1) (1.1.0)\n",
            "Requirement already satisfied: scipy>=1.4.1 in /usr/local/lib/python3.7/dist-packages (from pandas-profiling==3.1.1) (1.7.3)\n",
            "Requirement already satisfied: pandas!=1.0.0,!=1.0.1,!=1.0.2,!=1.1.0,>=0.25.3 in /usr/local/lib/python3.7/dist-packages (from pandas-profiling==3.1.1) (1.3.5)\n",
            "Requirement already satisfied: matplotlib>=3.2.0 in /usr/local/lib/python3.7/dist-packages (from pandas-profiling==3.1.1) (3.2.2)\n",
            "Requirement already satisfied: pydantic>=1.8.1 in /usr/local/lib/python3.7/dist-packages (from pandas-profiling==3.1.1) (1.9.0)\n",
            "Requirement already satisfied: PyYAML>=5.0.0 in /usr/local/lib/python3.7/dist-packages (from pandas-profiling==3.1.1) (6.0)\n",
            "Requirement already satisfied: jinja2>=2.11.1 in /usr/local/lib/python3.7/dist-packages (from pandas-profiling==3.1.1) (2.11.3)\n",
            "Requirement already satisfied: markupsafe~=2.0.1 in /usr/local/lib/python3.7/dist-packages (from pandas-profiling==3.1.1) (2.0.1)\n",
            "Requirement already satisfied: visions[type_image_path]==0.7.4 in /usr/local/lib/python3.7/dist-packages (from pandas-profiling==3.1.1) (0.7.4)\n",
            "Requirement already satisfied: numpy>=1.16.0 in /usr/local/lib/python3.7/dist-packages (from pandas-profiling==3.1.1) (1.21.6)\n",
            "Requirement already satisfied: htmlmin>=0.1.12 in /usr/local/lib/python3.7/dist-packages (from pandas-profiling==3.1.1) (0.1.12)\n",
            "Requirement already satisfied: missingno>=0.4.2 in /usr/local/lib/python3.7/dist-packages (from pandas-profiling==3.1.1) (0.5.1)\n",
            "Requirement already satisfied: phik>=0.11.1 in /usr/local/lib/python3.7/dist-packages (from pandas-profiling==3.1.1) (0.12.2)\n",
            "Requirement already satisfied: tangled-up-in-unicode==0.2.0 in /usr/local/lib/python3.7/dist-packages (from pandas-profiling==3.1.1) (0.2.0)\n",
            "Requirement already satisfied: requests>=2.24.0 in /usr/local/lib/python3.7/dist-packages (from pandas-profiling==3.1.1) (2.27.1)\n",
            "Requirement already satisfied: tqdm>=4.48.2 in /usr/local/lib/python3.7/dist-packages (from pandas-profiling==3.1.1) (4.64.0)\n",
            "Requirement already satisfied: seaborn>=0.10.1 in /usr/local/lib/python3.7/dist-packages (from pandas-profiling==3.1.1) (0.11.2)\n",
            "Requirement already satisfied: multimethod>=1.4 in /usr/local/lib/python3.7/dist-packages (from pandas-profiling==3.1.1) (1.8)\n",
            "Requirement already satisfied: attrs>=19.3.0 in /usr/local/lib/python3.7/dist-packages (from visions[type_image_path]==0.7.4->pandas-profiling==3.1.1) (21.4.0)\n",
            "Requirement already satisfied: networkx>=2.4 in /usr/local/lib/python3.7/dist-packages (from visions[type_image_path]==0.7.4->pandas-profiling==3.1.1) (2.6.3)\n",
            "Requirement already satisfied: imagehash in /usr/local/lib/python3.7/dist-packages (from visions[type_image_path]==0.7.4->pandas-profiling==3.1.1) (4.2.1)\n",
            "Requirement already satisfied: Pillow in /usr/local/lib/python3.7/dist-packages (from visions[type_image_path]==0.7.4->pandas-profiling==3.1.1) (7.1.2)\n",
            "Requirement already satisfied: kiwisolver>=1.0.1 in /usr/local/lib/python3.7/dist-packages (from matplotlib>=3.2.0->pandas-profiling==3.1.1) (1.4.2)\n",
            "Requirement already satisfied: cycler>=0.10 in /usr/local/lib/python3.7/dist-packages (from matplotlib>=3.2.0->pandas-profiling==3.1.1) (0.11.0)\n",
            "Requirement already satisfied: python-dateutil>=2.1 in /usr/local/lib/python3.7/dist-packages (from matplotlib>=3.2.0->pandas-profiling==3.1.1) (2.8.2)\n",
            "Requirement already satisfied: pyparsing!=2.0.4,!=2.1.2,!=2.1.6,>=2.0.1 in /usr/local/lib/python3.7/dist-packages (from matplotlib>=3.2.0->pandas-profiling==3.1.1) (3.0.8)\n",
            "Requirement already satisfied: typing-extensions in /usr/local/lib/python3.7/dist-packages (from kiwisolver>=1.0.1->matplotlib>=3.2.0->pandas-profiling==3.1.1) (4.1.1)\n",
            "Requirement already satisfied: pytz>=2017.3 in /usr/local/lib/python3.7/dist-packages (from pandas!=1.0.0,!=1.0.1,!=1.0.2,!=1.1.0,>=0.25.3->pandas-profiling==3.1.1) (2022.1)\n",
            "Requirement already satisfied: six>=1.5 in /usr/local/lib/python3.7/dist-packages (from python-dateutil>=2.1->matplotlib>=3.2.0->pandas-profiling==3.1.1) (1.15.0)\n",
            "Requirement already satisfied: certifi>=2017.4.17 in /usr/local/lib/python3.7/dist-packages (from requests>=2.24.0->pandas-profiling==3.1.1) (2021.10.8)\n",
            "Requirement already satisfied: idna<4,>=2.5 in /usr/local/lib/python3.7/dist-packages (from requests>=2.24.0->pandas-profiling==3.1.1) (2.10)\n",
            "Requirement already satisfied: charset-normalizer~=2.0.0 in /usr/local/lib/python3.7/dist-packages (from requests>=2.24.0->pandas-profiling==3.1.1) (2.0.12)\n",
            "Requirement already satisfied: urllib3<1.27,>=1.21.1 in /usr/local/lib/python3.7/dist-packages (from requests>=2.24.0->pandas-profiling==3.1.1) (1.24.3)\n",
            "Requirement already satisfied: PyWavelets in /usr/local/lib/python3.7/dist-packages (from imagehash->visions[type_image_path]==0.7.4->pandas-profiling==3.1.1) (1.3.0)\n"
          ]
        }
      ]
    },
    {
      "cell_type": "code",
      "source": [
        "!pip install scikit-plot"
      ],
      "metadata": {
        "colab": {
          "base_uri": "https://localhost:8080/"
        },
        "id": "bucsjSfReCxb",
        "outputId": "97d404e5-c58d-4ad8-f989-732763d7f8ae"
      },
      "execution_count": 2,
      "outputs": [
        {
          "output_type": "stream",
          "name": "stdout",
          "text": [
            "Requirement already satisfied: scikit-plot in /usr/local/lib/python3.7/dist-packages (0.3.7)\n",
            "Requirement already satisfied: joblib>=0.10 in /usr/local/lib/python3.7/dist-packages (from scikit-plot) (1.1.0)\n",
            "Requirement already satisfied: scipy>=0.9 in /usr/local/lib/python3.7/dist-packages (from scikit-plot) (1.7.3)\n",
            "Requirement already satisfied: matplotlib>=1.4.0 in /usr/local/lib/python3.7/dist-packages (from scikit-plot) (3.2.2)\n",
            "Requirement already satisfied: scikit-learn>=0.18 in /usr/local/lib/python3.7/dist-packages (from scikit-plot) (1.0.2)\n",
            "Requirement already satisfied: cycler>=0.10 in /usr/local/lib/python3.7/dist-packages (from matplotlib>=1.4.0->scikit-plot) (0.11.0)\n",
            "Requirement already satisfied: kiwisolver>=1.0.1 in /usr/local/lib/python3.7/dist-packages (from matplotlib>=1.4.0->scikit-plot) (1.4.2)\n",
            "Requirement already satisfied: numpy>=1.11 in /usr/local/lib/python3.7/dist-packages (from matplotlib>=1.4.0->scikit-plot) (1.21.6)\n",
            "Requirement already satisfied: python-dateutil>=2.1 in /usr/local/lib/python3.7/dist-packages (from matplotlib>=1.4.0->scikit-plot) (2.8.2)\n",
            "Requirement already satisfied: pyparsing!=2.0.4,!=2.1.2,!=2.1.6,>=2.0.1 in /usr/local/lib/python3.7/dist-packages (from matplotlib>=1.4.0->scikit-plot) (3.0.8)\n",
            "Requirement already satisfied: typing-extensions in /usr/local/lib/python3.7/dist-packages (from kiwisolver>=1.0.1->matplotlib>=1.4.0->scikit-plot) (4.1.1)\n",
            "Requirement already satisfied: six>=1.5 in /usr/local/lib/python3.7/dist-packages (from python-dateutil>=2.1->matplotlib>=1.4.0->scikit-plot) (1.15.0)\n",
            "Requirement already satisfied: threadpoolctl>=2.0.0 in /usr/local/lib/python3.7/dist-packages (from scikit-learn>=0.18->scikit-plot) (3.1.0)\n"
          ]
        }
      ]
    },
    {
      "cell_type": "markdown",
      "source": [
        "Import necessary modules and necessary libraries"
      ],
      "metadata": {
        "id": "HgGDAX5jc0Op"
      }
    },
    {
      "cell_type": "code",
      "execution_count": 3,
      "metadata": {
        "id": "sw1L4iL0_Q6G"
      },
      "outputs": [],
      "source": [
        "from sklearn.cluster import KMeans\n",
        "from sklearn.preprocessing import StandardScaler\n",
        "from yellowbrick.cluster import KElbowVisualizer\n",
        "import pandas as pd\n",
        "import numpy as np\n",
        "import matplotlib\n",
        "import matplotlib.pyplot as plt\n",
        "import seaborn as sns\n",
        "from matplotlib import style\n",
        "import pandas_profiling\n",
        "from pandas_profiling import ProfileReport\n",
        "import sklearn\n",
        "from sklearn import metrics\n",
        "import scikitplot as skplt\n",
        "from sklearn.model_selection import train_test_split\n",
        "from sklearn.model_selection import KFold\n",
        "from sklearn.metrics import mean_squared_error\n",
        "from math import sqrt\n",
        "from sklearn.metrics import r2_score\n",
        "from sklearn.model_selection import GridSearchCV\n",
        "from sklearn.ensemble import RandomForestClassifier\n",
        "from sklearn.preprocessing import StandardScaler\n",
        "from sklearn.neighbors import KNeighborsClassifier\n",
        "from sklearn.svm import SVC\n",
        "from sklearn.linear_model import LogisticRegression\n",
        "from sklearn.metrics import accuracy_score\n",
        "from sklearn.metrics import confusion_matrix\n",
        "from sklearn.metrics import classification_report\n",
        "from sklearn.metrics import RocCurveDisplay\n",
        "from sklearn.metrics import plot_roc_curve\n",
        "from sklearn.ensemble import VotingClassifier\n",
        "from sklearn import datasets\n",
        "from sklearn.metrics import roc_curve, auc\n",
        "from sklearn.model_selection import train_test_split\n",
        "from sklearn.preprocessing import label_binarize\n",
        "from sklearn.multiclass import OneVsRestClassifier\n",
        "from sklearn.metrics import roc_auc_score\n",
        "from pandas import DataFrame\n"
      ]
    },
    {
      "cell_type": "markdown",
      "source": [
        "Import The dataset into variable called facebook first version"
      ],
      "metadata": {
        "id": "SnUHyWp5czF2"
      }
    },
    {
      "cell_type": "code",
      "source": [
        "Facebook_first_version = pd.read_csv('CW2_Facebook_metrics.csv')"
      ],
      "metadata": {
        "id": "Mg3OCjBmeoKc"
      },
      "execution_count": 4,
      "outputs": []
    },
    {
      "cell_type": "markdown",
      "source": [
        "Understand the data set"
      ],
      "metadata": {
        "id": "4eg0Hl_0k1fN"
      }
    },
    {
      "cell_type": "code",
      "source": [
        "Facebook_first_version.info()\n"
      ],
      "metadata": {
        "colab": {
          "base_uri": "https://localhost:8080/"
        },
        "id": "YdGZCPbEfM55",
        "outputId": "5bd981b1-a496-4674-f556-8d75cc2b87c9"
      },
      "execution_count": 5,
      "outputs": [
        {
          "output_type": "stream",
          "name": "stdout",
          "text": [
            "<class 'pandas.core.frame.DataFrame'>\n",
            "RangeIndex: 500 entries, 0 to 499\n",
            "Data columns (total 19 columns):\n",
            " #   Column                                                               Non-Null Count  Dtype  \n",
            "---  ------                                                               --------------  -----  \n",
            " 0   Page total likes                                                     500 non-null    int64  \n",
            " 1   Type                                                                 500 non-null    object \n",
            " 2   Category                                                             500 non-null    int64  \n",
            " 3   Post Month                                                           500 non-null    int64  \n",
            " 4   Post Weekday                                                         500 non-null    int64  \n",
            " 5   Post Hour                                                            500 non-null    int64  \n",
            " 6   Paid                                                                 499 non-null    float64\n",
            " 7   Lifetime Post Total Reach                                            500 non-null    int64  \n",
            " 8   Lifetime Post Total Impressions                                      500 non-null    int64  \n",
            " 9   Lifetime Engaged Users                                               500 non-null    int64  \n",
            " 10  Lifetime Post Consumers                                              500 non-null    int64  \n",
            " 11  Lifetime Post Consumptions                                           500 non-null    int64  \n",
            " 12  Lifetime Post Impressions by people who have liked your Page         500 non-null    int64  \n",
            " 13  Lifetime Post reach by people who like your Page                     500 non-null    int64  \n",
            " 14  Lifetime People who have liked your Page and engaged with your post  500 non-null    int64  \n",
            " 15  Comments                                                             500 non-null    int64  \n",
            " 16  Likes                                                                499 non-null    float64\n",
            " 17  Shares                                                               496 non-null    float64\n",
            " 18  Total Interactions                                                   500 non-null    int64  \n",
            "dtypes: float64(3), int64(15), object(1)\n",
            "memory usage: 74.3+ KB\n"
          ]
        }
      ]
    },
    {
      "cell_type": "code",
      "source": [
        "Facebook_first_version.shape"
      ],
      "metadata": {
        "colab": {
          "base_uri": "https://localhost:8080/"
        },
        "id": "1OCT_rgim9dK",
        "outputId": "90b1a579-8803-475d-ecb2-dc16e752b9dc"
      },
      "execution_count": 6,
      "outputs": [
        {
          "output_type": "execute_result",
          "data": {
            "text/plain": [
              "(500, 19)"
            ]
          },
          "metadata": {},
          "execution_count": 6
        }
      ]
    },
    {
      "cell_type": "markdown",
      "source": [
        "Profile report to understand the data"
      ],
      "metadata": {
        "id": "nLRE4EelmqaK"
      }
    },
    {
      "cell_type": "code",
      "source": [
        "report = ProfileReport(Facebook_first_version, title='Pandas Profiling Report Task A dataset CW2', explorative=True)\n",
        "report.to_file(output_file=\"CW2_Data_statistics.html\")"
      ],
      "metadata": {
        "colab": {
          "base_uri": "https://localhost:8080/",
          "height": 144,
          "referenced_widgets": [
            "f4a944b5f2064a7ca618f6a4022b22f7",
            "fc70e6d7917a47fa81879be014bd3471",
            "7bb497c1c64c400b836794c65a47b239",
            "65dea2dd00e94970abb5a0f43428b58f",
            "eeae4b2958e4426b9d255235495b9720",
            "f63c29e3acb944869f55bd1866a17205",
            "fe5cbd3bb01e4097b0f0ff306c613f0c",
            "f505f0a9c7084502be04db5abdc9c785",
            "5dafe3aaf8d74117bddab0cb73435a8c",
            "cf971036309d4e37929174ba9a62ddad",
            "a27b8e0f564f4b59a1643a473decff11",
            "7bdf1ac3e4ee4af0a278aaaff587ae6d",
            "830f2e3b93b04f33933d900236b1248e",
            "1173d3c036d448e8bdac243220f37881",
            "224432fa12b84aa58cd2c865e28d5a5c",
            "e7693b7ac7dd408abf1affbbe2c75e06",
            "b8ae425fba9544799566a976e0b72046",
            "a699f74a4a934b3cac6c484af9ad32db",
            "9351d2a9c3304abcb63df45f396504cc",
            "b8983706291248cab4977d8bdd196184",
            "b76f88d6239f4649a338696acc5955a8",
            "ceb9e2d7b0f9498294603b3ec86fd525",
            "bf35788957a24fc68bf257bdbdbce91b",
            "6bf6957e9f9648429632c4380703a5da",
            "f24910d41f32431dbdc5eb45772c6042",
            "3c572d5e7e3b4f31a43b756d211227ec",
            "62db580346024ad08f94785cdc4ab97b",
            "a11795d2c5ee4d02a0321bf8678841b6",
            "8db7cdc64c15480ab7b3c102d7b76caf",
            "d20169105aaa466ca0fa563f576258b5",
            "b1241412db03466785b93d712b7eb25f",
            "20b9c54ec93943dfb06834a423d5b8b9",
            "bdc07b46741d467e80d5137bb98dfc0b",
            "721c7817b3db416d809aca8ba941e490",
            "2ba2731e3c6b46d49eb3f111a64630e3",
            "b395e1baec6249a3ac4e3a435c82688d",
            "17f35ada071f4c5793595763f6160357",
            "885aa607ce974e768e2847bf6ec1f807",
            "7f6fab9fa04848da9073e8b70e3bb653",
            "3de2e0f787bb4291a32eb8e80242f3a0",
            "1462ebce94664640a2bc96225551e4a0",
            "76dd05cf45ad4f648b49ee4b12f96e42",
            "acaf0fb797664cbb91639ea220ec1527",
            "43b5fbca2fe94673bcb29dbc266d66c8"
          ]
        },
        "id": "b9un5G40mm8a",
        "outputId": "eb960ace-5c6b-4cc9-cef5-2bb51fd062f7"
      },
      "execution_count": 7,
      "outputs": [
        {
          "output_type": "display_data",
          "data": {
            "text/plain": [
              "Summarize dataset:   0%|          | 0/5 [00:00<?, ?it/s]"
            ],
            "application/vnd.jupyter.widget-view+json": {
              "version_major": 2,
              "version_minor": 0,
              "model_id": "f4a944b5f2064a7ca618f6a4022b22f7"
            }
          },
          "metadata": {}
        },
        {
          "output_type": "display_data",
          "data": {
            "text/plain": [
              "Generate report structure:   0%|          | 0/1 [00:00<?, ?it/s]"
            ],
            "application/vnd.jupyter.widget-view+json": {
              "version_major": 2,
              "version_minor": 0,
              "model_id": "7bdf1ac3e4ee4af0a278aaaff587ae6d"
            }
          },
          "metadata": {}
        },
        {
          "output_type": "display_data",
          "data": {
            "text/plain": [
              "Render HTML:   0%|          | 0/1 [00:00<?, ?it/s]"
            ],
            "application/vnd.jupyter.widget-view+json": {
              "version_major": 2,
              "version_minor": 0,
              "model_id": "bf35788957a24fc68bf257bdbdbce91b"
            }
          },
          "metadata": {}
        },
        {
          "output_type": "display_data",
          "data": {
            "text/plain": [
              "Export report to file:   0%|          | 0/1 [00:00<?, ?it/s]"
            ],
            "application/vnd.jupyter.widget-view+json": {
              "version_major": 2,
              "version_minor": 0,
              "model_id": "721c7817b3db416d809aca8ba941e490"
            }
          },
          "metadata": {}
        }
      ]
    },
    {
      "cell_type": "code",
      "source": [
        "Facebook_first_version.head()"
      ],
      "metadata": {
        "colab": {
          "base_uri": "https://localhost:8080/",
          "height": 336
        },
        "id": "jIWim8WwoQKm",
        "outputId": "4100effd-29c5-4a54-acea-9dd956bceec3"
      },
      "execution_count": 8,
      "outputs": [
        {
          "output_type": "execute_result",
          "data": {
            "text/plain": [
              "   Page total likes    Type  Category  Post Month  Post Weekday  Post Hour  \\\n",
              "0            139441   Photo         2          12             4          3   \n",
              "1            139441  Status         2          12             3         10   \n",
              "2            139441   Photo         3          12             3          3   \n",
              "3            139441   Photo         2          12             2         10   \n",
              "4            139441   Photo         2          12             2          3   \n",
              "\n",
              "   Paid  Lifetime Post Total Reach  Lifetime Post Total Impressions  \\\n",
              "0   0.0                       2752                             5091   \n",
              "1   0.0                      10460                            19057   \n",
              "2   0.0                       2413                             4373   \n",
              "3   1.0                      50128                            87991   \n",
              "4   0.0                       7244                            13594   \n",
              "\n",
              "   Lifetime Engaged Users  Lifetime Post Consumers  \\\n",
              "0                     178                      109   \n",
              "1                    1457                     1361   \n",
              "2                     177                      113   \n",
              "3                    2211                      790   \n",
              "4                     671                      410   \n",
              "\n",
              "   Lifetime Post Consumptions  \\\n",
              "0                         159   \n",
              "1                        1674   \n",
              "2                         154   \n",
              "3                        1119   \n",
              "4                         580   \n",
              "\n",
              "   Lifetime Post Impressions by people who have liked your Page  \\\n",
              "0                                               3078              \n",
              "1                                              11710              \n",
              "2                                               2812              \n",
              "3                                              61027              \n",
              "4                                               6228              \n",
              "\n",
              "   Lifetime Post reach by people who like your Page  \\\n",
              "0                                              1640   \n",
              "1                                              6112   \n",
              "2                                              1503   \n",
              "3                                             32048   \n",
              "4                                              3200   \n",
              "\n",
              "   Lifetime People who have liked your Page and engaged with your post  \\\n",
              "0                                                119                     \n",
              "1                                               1108                     \n",
              "2                                                132                     \n",
              "3                                               1386                     \n",
              "4                                                396                     \n",
              "\n",
              "   Comments   Likes  Shares  Total Interactions  \n",
              "0         4    79.0    17.0                 100  \n",
              "1         5   130.0    29.0                 164  \n",
              "2         0    66.0    14.0                  80  \n",
              "3        58  1572.0   147.0                1777  \n",
              "4        19   325.0    49.0                 393  "
            ],
            "text/html": [
              "\n",
              "  <div id=\"df-69c22763-6fd7-4c5d-a993-0975f4a60cfa\">\n",
              "    <div class=\"colab-df-container\">\n",
              "      <div>\n",
              "<style scoped>\n",
              "    .dataframe tbody tr th:only-of-type {\n",
              "        vertical-align: middle;\n",
              "    }\n",
              "\n",
              "    .dataframe tbody tr th {\n",
              "        vertical-align: top;\n",
              "    }\n",
              "\n",
              "    .dataframe thead th {\n",
              "        text-align: right;\n",
              "    }\n",
              "</style>\n",
              "<table border=\"1\" class=\"dataframe\">\n",
              "  <thead>\n",
              "    <tr style=\"text-align: right;\">\n",
              "      <th></th>\n",
              "      <th>Page total likes</th>\n",
              "      <th>Type</th>\n",
              "      <th>Category</th>\n",
              "      <th>Post Month</th>\n",
              "      <th>Post Weekday</th>\n",
              "      <th>Post Hour</th>\n",
              "      <th>Paid</th>\n",
              "      <th>Lifetime Post Total Reach</th>\n",
              "      <th>Lifetime Post Total Impressions</th>\n",
              "      <th>Lifetime Engaged Users</th>\n",
              "      <th>Lifetime Post Consumers</th>\n",
              "      <th>Lifetime Post Consumptions</th>\n",
              "      <th>Lifetime Post Impressions by people who have liked your Page</th>\n",
              "      <th>Lifetime Post reach by people who like your Page</th>\n",
              "      <th>Lifetime People who have liked your Page and engaged with your post</th>\n",
              "      <th>Comments</th>\n",
              "      <th>Likes</th>\n",
              "      <th>Shares</th>\n",
              "      <th>Total Interactions</th>\n",
              "    </tr>\n",
              "  </thead>\n",
              "  <tbody>\n",
              "    <tr>\n",
              "      <th>0</th>\n",
              "      <td>139441</td>\n",
              "      <td>Photo</td>\n",
              "      <td>2</td>\n",
              "      <td>12</td>\n",
              "      <td>4</td>\n",
              "      <td>3</td>\n",
              "      <td>0.0</td>\n",
              "      <td>2752</td>\n",
              "      <td>5091</td>\n",
              "      <td>178</td>\n",
              "      <td>109</td>\n",
              "      <td>159</td>\n",
              "      <td>3078</td>\n",
              "      <td>1640</td>\n",
              "      <td>119</td>\n",
              "      <td>4</td>\n",
              "      <td>79.0</td>\n",
              "      <td>17.0</td>\n",
              "      <td>100</td>\n",
              "    </tr>\n",
              "    <tr>\n",
              "      <th>1</th>\n",
              "      <td>139441</td>\n",
              "      <td>Status</td>\n",
              "      <td>2</td>\n",
              "      <td>12</td>\n",
              "      <td>3</td>\n",
              "      <td>10</td>\n",
              "      <td>0.0</td>\n",
              "      <td>10460</td>\n",
              "      <td>19057</td>\n",
              "      <td>1457</td>\n",
              "      <td>1361</td>\n",
              "      <td>1674</td>\n",
              "      <td>11710</td>\n",
              "      <td>6112</td>\n",
              "      <td>1108</td>\n",
              "      <td>5</td>\n",
              "      <td>130.0</td>\n",
              "      <td>29.0</td>\n",
              "      <td>164</td>\n",
              "    </tr>\n",
              "    <tr>\n",
              "      <th>2</th>\n",
              "      <td>139441</td>\n",
              "      <td>Photo</td>\n",
              "      <td>3</td>\n",
              "      <td>12</td>\n",
              "      <td>3</td>\n",
              "      <td>3</td>\n",
              "      <td>0.0</td>\n",
              "      <td>2413</td>\n",
              "      <td>4373</td>\n",
              "      <td>177</td>\n",
              "      <td>113</td>\n",
              "      <td>154</td>\n",
              "      <td>2812</td>\n",
              "      <td>1503</td>\n",
              "      <td>132</td>\n",
              "      <td>0</td>\n",
              "      <td>66.0</td>\n",
              "      <td>14.0</td>\n",
              "      <td>80</td>\n",
              "    </tr>\n",
              "    <tr>\n",
              "      <th>3</th>\n",
              "      <td>139441</td>\n",
              "      <td>Photo</td>\n",
              "      <td>2</td>\n",
              "      <td>12</td>\n",
              "      <td>2</td>\n",
              "      <td>10</td>\n",
              "      <td>1.0</td>\n",
              "      <td>50128</td>\n",
              "      <td>87991</td>\n",
              "      <td>2211</td>\n",
              "      <td>790</td>\n",
              "      <td>1119</td>\n",
              "      <td>61027</td>\n",
              "      <td>32048</td>\n",
              "      <td>1386</td>\n",
              "      <td>58</td>\n",
              "      <td>1572.0</td>\n",
              "      <td>147.0</td>\n",
              "      <td>1777</td>\n",
              "    </tr>\n",
              "    <tr>\n",
              "      <th>4</th>\n",
              "      <td>139441</td>\n",
              "      <td>Photo</td>\n",
              "      <td>2</td>\n",
              "      <td>12</td>\n",
              "      <td>2</td>\n",
              "      <td>3</td>\n",
              "      <td>0.0</td>\n",
              "      <td>7244</td>\n",
              "      <td>13594</td>\n",
              "      <td>671</td>\n",
              "      <td>410</td>\n",
              "      <td>580</td>\n",
              "      <td>6228</td>\n",
              "      <td>3200</td>\n",
              "      <td>396</td>\n",
              "      <td>19</td>\n",
              "      <td>325.0</td>\n",
              "      <td>49.0</td>\n",
              "      <td>393</td>\n",
              "    </tr>\n",
              "  </tbody>\n",
              "</table>\n",
              "</div>\n",
              "      <button class=\"colab-df-convert\" onclick=\"convertToInteractive('df-69c22763-6fd7-4c5d-a993-0975f4a60cfa')\"\n",
              "              title=\"Convert this dataframe to an interactive table.\"\n",
              "              style=\"display:none;\">\n",
              "        \n",
              "  <svg xmlns=\"http://www.w3.org/2000/svg\" height=\"24px\"viewBox=\"0 0 24 24\"\n",
              "       width=\"24px\">\n",
              "    <path d=\"M0 0h24v24H0V0z\" fill=\"none\"/>\n",
              "    <path d=\"M18.56 5.44l.94 2.06.94-2.06 2.06-.94-2.06-.94-.94-2.06-.94 2.06-2.06.94zm-11 1L8.5 8.5l.94-2.06 2.06-.94-2.06-.94L8.5 2.5l-.94 2.06-2.06.94zm10 10l.94 2.06.94-2.06 2.06-.94-2.06-.94-.94-2.06-.94 2.06-2.06.94z\"/><path d=\"M17.41 7.96l-1.37-1.37c-.4-.4-.92-.59-1.43-.59-.52 0-1.04.2-1.43.59L10.3 9.45l-7.72 7.72c-.78.78-.78 2.05 0 2.83L4 21.41c.39.39.9.59 1.41.59.51 0 1.02-.2 1.41-.59l7.78-7.78 2.81-2.81c.8-.78.8-2.07 0-2.86zM5.41 20L4 18.59l7.72-7.72 1.47 1.35L5.41 20z\"/>\n",
              "  </svg>\n",
              "      </button>\n",
              "      \n",
              "  <style>\n",
              "    .colab-df-container {\n",
              "      display:flex;\n",
              "      flex-wrap:wrap;\n",
              "      gap: 12px;\n",
              "    }\n",
              "\n",
              "    .colab-df-convert {\n",
              "      background-color: #E8F0FE;\n",
              "      border: none;\n",
              "      border-radius: 50%;\n",
              "      cursor: pointer;\n",
              "      display: none;\n",
              "      fill: #1967D2;\n",
              "      height: 32px;\n",
              "      padding: 0 0 0 0;\n",
              "      width: 32px;\n",
              "    }\n",
              "\n",
              "    .colab-df-convert:hover {\n",
              "      background-color: #E2EBFA;\n",
              "      box-shadow: 0px 1px 2px rgba(60, 64, 67, 0.3), 0px 1px 3px 1px rgba(60, 64, 67, 0.15);\n",
              "      fill: #174EA6;\n",
              "    }\n",
              "\n",
              "    [theme=dark] .colab-df-convert {\n",
              "      background-color: #3B4455;\n",
              "      fill: #D2E3FC;\n",
              "    }\n",
              "\n",
              "    [theme=dark] .colab-df-convert:hover {\n",
              "      background-color: #434B5C;\n",
              "      box-shadow: 0px 1px 3px 1px rgba(0, 0, 0, 0.15);\n",
              "      filter: drop-shadow(0px 1px 2px rgba(0, 0, 0, 0.3));\n",
              "      fill: #FFFFFF;\n",
              "    }\n",
              "  </style>\n",
              "\n",
              "      <script>\n",
              "        const buttonEl =\n",
              "          document.querySelector('#df-69c22763-6fd7-4c5d-a993-0975f4a60cfa button.colab-df-convert');\n",
              "        buttonEl.style.display =\n",
              "          google.colab.kernel.accessAllowed ? 'block' : 'none';\n",
              "\n",
              "        async function convertToInteractive(key) {\n",
              "          const element = document.querySelector('#df-69c22763-6fd7-4c5d-a993-0975f4a60cfa');\n",
              "          const dataTable =\n",
              "            await google.colab.kernel.invokeFunction('convertToInteractive',\n",
              "                                                     [key], {});\n",
              "          if (!dataTable) return;\n",
              "\n",
              "          const docLinkHtml = 'Like what you see? Visit the ' +\n",
              "            '<a target=\"_blank\" href=https://colab.research.google.com/notebooks/data_table.ipynb>data table notebook</a>'\n",
              "            + ' to learn more about interactive tables.';\n",
              "          element.innerHTML = '';\n",
              "          dataTable['output_type'] = 'display_data';\n",
              "          await google.colab.output.renderOutput(dataTable, element);\n",
              "          const docLink = document.createElement('div');\n",
              "          docLink.innerHTML = docLinkHtml;\n",
              "          element.appendChild(docLink);\n",
              "        }\n",
              "      </script>\n",
              "    </div>\n",
              "  </div>\n",
              "  "
            ]
          },
          "metadata": {},
          "execution_count": 8
        }
      ]
    },
    {
      "cell_type": "code",
      "source": [
        "Facebook_first_version.dtypes"
      ],
      "metadata": {
        "colab": {
          "base_uri": "https://localhost:8080/"
        },
        "id": "GACg9mbeoSFx",
        "outputId": "6e4e3866-8de5-4313-a367-817b18852be2"
      },
      "execution_count": 9,
      "outputs": [
        {
          "output_type": "execute_result",
          "data": {
            "text/plain": [
              "Page total likes                                                         int64\n",
              "Type                                                                    object\n",
              "Category                                                                 int64\n",
              "Post Month                                                               int64\n",
              "Post Weekday                                                             int64\n",
              "Post Hour                                                                int64\n",
              "Paid                                                                   float64\n",
              "Lifetime Post Total Reach                                                int64\n",
              "Lifetime Post Total Impressions                                          int64\n",
              "Lifetime Engaged Users                                                   int64\n",
              "Lifetime Post Consumers                                                  int64\n",
              "Lifetime Post Consumptions                                               int64\n",
              "Lifetime Post Impressions by people who have liked your Page             int64\n",
              "Lifetime Post reach by people who like your Page                         int64\n",
              "Lifetime People who have liked your Page and engaged with your post      int64\n",
              "Comments                                                                 int64\n",
              "Likes                                                                  float64\n",
              "Shares                                                                 float64\n",
              "Total Interactions                                                       int64\n",
              "dtype: object"
            ]
          },
          "metadata": {},
          "execution_count": 9
        }
      ]
    },
    {
      "cell_type": "code",
      "source": [
        "Facebook_first_version.describe()"
      ],
      "metadata": {
        "colab": {
          "base_uri": "https://localhost:8080/",
          "height": 485
        },
        "id": "QNFIpwWMoh4T",
        "outputId": "c0f59c8a-669b-4975-e2b2-975530300fc6"
      },
      "execution_count": 10,
      "outputs": [
        {
          "output_type": "execute_result",
          "data": {
            "text/plain": [
              "       Page total likes    Category  Post Month  Post Weekday   Post Hour  \\\n",
              "count        500.000000  500.000000  500.000000    500.000000  500.000000   \n",
              "mean      123194.176000    1.880000    7.038000      4.150000    7.840000   \n",
              "std        16272.813214    0.852675    3.307936      2.030701    4.368589   \n",
              "min        81370.000000    1.000000    1.000000      1.000000    1.000000   \n",
              "25%       112676.000000    1.000000    4.000000      2.000000    3.000000   \n",
              "50%       129600.000000    2.000000    7.000000      4.000000    9.000000   \n",
              "75%       136393.000000    3.000000   10.000000      6.000000   11.000000   \n",
              "max       139441.000000    3.000000   12.000000      7.000000   23.000000   \n",
              "\n",
              "             Paid  Lifetime Post Total Reach  Lifetime Post Total Impressions  \\\n",
              "count  499.000000                  500.00000                     5.000000e+02   \n",
              "mean     0.278557                13903.36000                     2.958595e+04   \n",
              "std      0.448739                22740.78789                     7.680325e+04   \n",
              "min      0.000000                  238.00000                     5.700000e+02   \n",
              "25%      0.000000                 3315.00000                     5.694750e+03   \n",
              "50%      0.000000                 5281.00000                     9.051000e+03   \n",
              "75%      1.000000                13168.00000                     2.208550e+04   \n",
              "max      1.000000               180480.00000                     1.110282e+06   \n",
              "\n",
              "       Lifetime Engaged Users  Lifetime Post Consumers  \\\n",
              "count              500.000000               500.000000   \n",
              "mean               920.344000               798.772000   \n",
              "std                985.016636               882.505013   \n",
              "min                  9.000000                 9.000000   \n",
              "25%                393.750000               332.500000   \n",
              "50%                625.500000               551.500000   \n",
              "75%               1062.000000               955.500000   \n",
              "max              11452.000000             11328.000000   \n",
              "\n",
              "       Lifetime Post Consumptions  \\\n",
              "count                  500.000000   \n",
              "mean                  1415.130000   \n",
              "std                   2000.594118   \n",
              "min                      9.000000   \n",
              "25%                    509.250000   \n",
              "50%                    851.000000   \n",
              "75%                   1463.000000   \n",
              "max                  19779.000000   \n",
              "\n",
              "       Lifetime Post Impressions by people who have liked your Page  \\\n",
              "count                                       5.000000e+02              \n",
              "mean                                        1.676638e+04              \n",
              "std                                         5.979102e+04              \n",
              "min                                         5.670000e+02              \n",
              "25%                                         3.969750e+03              \n",
              "50%                                         6.255500e+03              \n",
              "75%                                         1.486050e+04              \n",
              "max                                         1.107833e+06              \n",
              "\n",
              "       Lifetime Post reach by people who like your Page  \\\n",
              "count                                        500.000000   \n",
              "mean                                        6585.488000   \n",
              "std                                         7682.009405   \n",
              "min                                          236.000000   \n",
              "25%                                         2181.500000   \n",
              "50%                                         3417.000000   \n",
              "75%                                         7989.000000   \n",
              "max                                        51456.000000   \n",
              "\n",
              "       Lifetime People who have liked your Page and engaged with your post  \\\n",
              "count                                         500.000000                     \n",
              "mean                                          609.986000                     \n",
              "std                                           612.725618                     \n",
              "min                                             9.000000                     \n",
              "25%                                           291.000000                     \n",
              "50%                                           412.000000                     \n",
              "75%                                           656.250000                     \n",
              "max                                          4376.000000                     \n",
              "\n",
              "        Comments        Likes      Shares  Total Interactions  \n",
              "count  500.00000   499.000000  496.000000          500.000000  \n",
              "mean     7.48200   177.945892   27.266129          212.120000  \n",
              "std     21.18091   323.398742   42.613292          380.233118  \n",
              "min      0.00000     0.000000    0.000000            0.000000  \n",
              "25%      1.00000    56.500000   10.000000           71.000000  \n",
              "50%      3.00000   101.000000   19.000000          123.500000  \n",
              "75%      7.00000   187.500000   32.250000          228.500000  \n",
              "max    372.00000  5172.000000  790.000000         6334.000000  "
            ],
            "text/html": [
              "\n",
              "  <div id=\"df-ee021003-5a71-406a-b148-af3b97cb6922\">\n",
              "    <div class=\"colab-df-container\">\n",
              "      <div>\n",
              "<style scoped>\n",
              "    .dataframe tbody tr th:only-of-type {\n",
              "        vertical-align: middle;\n",
              "    }\n",
              "\n",
              "    .dataframe tbody tr th {\n",
              "        vertical-align: top;\n",
              "    }\n",
              "\n",
              "    .dataframe thead th {\n",
              "        text-align: right;\n",
              "    }\n",
              "</style>\n",
              "<table border=\"1\" class=\"dataframe\">\n",
              "  <thead>\n",
              "    <tr style=\"text-align: right;\">\n",
              "      <th></th>\n",
              "      <th>Page total likes</th>\n",
              "      <th>Category</th>\n",
              "      <th>Post Month</th>\n",
              "      <th>Post Weekday</th>\n",
              "      <th>Post Hour</th>\n",
              "      <th>Paid</th>\n",
              "      <th>Lifetime Post Total Reach</th>\n",
              "      <th>Lifetime Post Total Impressions</th>\n",
              "      <th>Lifetime Engaged Users</th>\n",
              "      <th>Lifetime Post Consumers</th>\n",
              "      <th>Lifetime Post Consumptions</th>\n",
              "      <th>Lifetime Post Impressions by people who have liked your Page</th>\n",
              "      <th>Lifetime Post reach by people who like your Page</th>\n",
              "      <th>Lifetime People who have liked your Page and engaged with your post</th>\n",
              "      <th>Comments</th>\n",
              "      <th>Likes</th>\n",
              "      <th>Shares</th>\n",
              "      <th>Total Interactions</th>\n",
              "    </tr>\n",
              "  </thead>\n",
              "  <tbody>\n",
              "    <tr>\n",
              "      <th>count</th>\n",
              "      <td>500.000000</td>\n",
              "      <td>500.000000</td>\n",
              "      <td>500.000000</td>\n",
              "      <td>500.000000</td>\n",
              "      <td>500.000000</td>\n",
              "      <td>499.000000</td>\n",
              "      <td>500.00000</td>\n",
              "      <td>5.000000e+02</td>\n",
              "      <td>500.000000</td>\n",
              "      <td>500.000000</td>\n",
              "      <td>500.000000</td>\n",
              "      <td>5.000000e+02</td>\n",
              "      <td>500.000000</td>\n",
              "      <td>500.000000</td>\n",
              "      <td>500.00000</td>\n",
              "      <td>499.000000</td>\n",
              "      <td>496.000000</td>\n",
              "      <td>500.000000</td>\n",
              "    </tr>\n",
              "    <tr>\n",
              "      <th>mean</th>\n",
              "      <td>123194.176000</td>\n",
              "      <td>1.880000</td>\n",
              "      <td>7.038000</td>\n",
              "      <td>4.150000</td>\n",
              "      <td>7.840000</td>\n",
              "      <td>0.278557</td>\n",
              "      <td>13903.36000</td>\n",
              "      <td>2.958595e+04</td>\n",
              "      <td>920.344000</td>\n",
              "      <td>798.772000</td>\n",
              "      <td>1415.130000</td>\n",
              "      <td>1.676638e+04</td>\n",
              "      <td>6585.488000</td>\n",
              "      <td>609.986000</td>\n",
              "      <td>7.48200</td>\n",
              "      <td>177.945892</td>\n",
              "      <td>27.266129</td>\n",
              "      <td>212.120000</td>\n",
              "    </tr>\n",
              "    <tr>\n",
              "      <th>std</th>\n",
              "      <td>16272.813214</td>\n",
              "      <td>0.852675</td>\n",
              "      <td>3.307936</td>\n",
              "      <td>2.030701</td>\n",
              "      <td>4.368589</td>\n",
              "      <td>0.448739</td>\n",
              "      <td>22740.78789</td>\n",
              "      <td>7.680325e+04</td>\n",
              "      <td>985.016636</td>\n",
              "      <td>882.505013</td>\n",
              "      <td>2000.594118</td>\n",
              "      <td>5.979102e+04</td>\n",
              "      <td>7682.009405</td>\n",
              "      <td>612.725618</td>\n",
              "      <td>21.18091</td>\n",
              "      <td>323.398742</td>\n",
              "      <td>42.613292</td>\n",
              "      <td>380.233118</td>\n",
              "    </tr>\n",
              "    <tr>\n",
              "      <th>min</th>\n",
              "      <td>81370.000000</td>\n",
              "      <td>1.000000</td>\n",
              "      <td>1.000000</td>\n",
              "      <td>1.000000</td>\n",
              "      <td>1.000000</td>\n",
              "      <td>0.000000</td>\n",
              "      <td>238.00000</td>\n",
              "      <td>5.700000e+02</td>\n",
              "      <td>9.000000</td>\n",
              "      <td>9.000000</td>\n",
              "      <td>9.000000</td>\n",
              "      <td>5.670000e+02</td>\n",
              "      <td>236.000000</td>\n",
              "      <td>9.000000</td>\n",
              "      <td>0.00000</td>\n",
              "      <td>0.000000</td>\n",
              "      <td>0.000000</td>\n",
              "      <td>0.000000</td>\n",
              "    </tr>\n",
              "    <tr>\n",
              "      <th>25%</th>\n",
              "      <td>112676.000000</td>\n",
              "      <td>1.000000</td>\n",
              "      <td>4.000000</td>\n",
              "      <td>2.000000</td>\n",
              "      <td>3.000000</td>\n",
              "      <td>0.000000</td>\n",
              "      <td>3315.00000</td>\n",
              "      <td>5.694750e+03</td>\n",
              "      <td>393.750000</td>\n",
              "      <td>332.500000</td>\n",
              "      <td>509.250000</td>\n",
              "      <td>3.969750e+03</td>\n",
              "      <td>2181.500000</td>\n",
              "      <td>291.000000</td>\n",
              "      <td>1.00000</td>\n",
              "      <td>56.500000</td>\n",
              "      <td>10.000000</td>\n",
              "      <td>71.000000</td>\n",
              "    </tr>\n",
              "    <tr>\n",
              "      <th>50%</th>\n",
              "      <td>129600.000000</td>\n",
              "      <td>2.000000</td>\n",
              "      <td>7.000000</td>\n",
              "      <td>4.000000</td>\n",
              "      <td>9.000000</td>\n",
              "      <td>0.000000</td>\n",
              "      <td>5281.00000</td>\n",
              "      <td>9.051000e+03</td>\n",
              "      <td>625.500000</td>\n",
              "      <td>551.500000</td>\n",
              "      <td>851.000000</td>\n",
              "      <td>6.255500e+03</td>\n",
              "      <td>3417.000000</td>\n",
              "      <td>412.000000</td>\n",
              "      <td>3.00000</td>\n",
              "      <td>101.000000</td>\n",
              "      <td>19.000000</td>\n",
              "      <td>123.500000</td>\n",
              "    </tr>\n",
              "    <tr>\n",
              "      <th>75%</th>\n",
              "      <td>136393.000000</td>\n",
              "      <td>3.000000</td>\n",
              "      <td>10.000000</td>\n",
              "      <td>6.000000</td>\n",
              "      <td>11.000000</td>\n",
              "      <td>1.000000</td>\n",
              "      <td>13168.00000</td>\n",
              "      <td>2.208550e+04</td>\n",
              "      <td>1062.000000</td>\n",
              "      <td>955.500000</td>\n",
              "      <td>1463.000000</td>\n",
              "      <td>1.486050e+04</td>\n",
              "      <td>7989.000000</td>\n",
              "      <td>656.250000</td>\n",
              "      <td>7.00000</td>\n",
              "      <td>187.500000</td>\n",
              "      <td>32.250000</td>\n",
              "      <td>228.500000</td>\n",
              "    </tr>\n",
              "    <tr>\n",
              "      <th>max</th>\n",
              "      <td>139441.000000</td>\n",
              "      <td>3.000000</td>\n",
              "      <td>12.000000</td>\n",
              "      <td>7.000000</td>\n",
              "      <td>23.000000</td>\n",
              "      <td>1.000000</td>\n",
              "      <td>180480.00000</td>\n",
              "      <td>1.110282e+06</td>\n",
              "      <td>11452.000000</td>\n",
              "      <td>11328.000000</td>\n",
              "      <td>19779.000000</td>\n",
              "      <td>1.107833e+06</td>\n",
              "      <td>51456.000000</td>\n",
              "      <td>4376.000000</td>\n",
              "      <td>372.00000</td>\n",
              "      <td>5172.000000</td>\n",
              "      <td>790.000000</td>\n",
              "      <td>6334.000000</td>\n",
              "    </tr>\n",
              "  </tbody>\n",
              "</table>\n",
              "</div>\n",
              "      <button class=\"colab-df-convert\" onclick=\"convertToInteractive('df-ee021003-5a71-406a-b148-af3b97cb6922')\"\n",
              "              title=\"Convert this dataframe to an interactive table.\"\n",
              "              style=\"display:none;\">\n",
              "        \n",
              "  <svg xmlns=\"http://www.w3.org/2000/svg\" height=\"24px\"viewBox=\"0 0 24 24\"\n",
              "       width=\"24px\">\n",
              "    <path d=\"M0 0h24v24H0V0z\" fill=\"none\"/>\n",
              "    <path d=\"M18.56 5.44l.94 2.06.94-2.06 2.06-.94-2.06-.94-.94-2.06-.94 2.06-2.06.94zm-11 1L8.5 8.5l.94-2.06 2.06-.94-2.06-.94L8.5 2.5l-.94 2.06-2.06.94zm10 10l.94 2.06.94-2.06 2.06-.94-2.06-.94-.94-2.06-.94 2.06-2.06.94z\"/><path d=\"M17.41 7.96l-1.37-1.37c-.4-.4-.92-.59-1.43-.59-.52 0-1.04.2-1.43.59L10.3 9.45l-7.72 7.72c-.78.78-.78 2.05 0 2.83L4 21.41c.39.39.9.59 1.41.59.51 0 1.02-.2 1.41-.59l7.78-7.78 2.81-2.81c.8-.78.8-2.07 0-2.86zM5.41 20L4 18.59l7.72-7.72 1.47 1.35L5.41 20z\"/>\n",
              "  </svg>\n",
              "      </button>\n",
              "      \n",
              "  <style>\n",
              "    .colab-df-container {\n",
              "      display:flex;\n",
              "      flex-wrap:wrap;\n",
              "      gap: 12px;\n",
              "    }\n",
              "\n",
              "    .colab-df-convert {\n",
              "      background-color: #E8F0FE;\n",
              "      border: none;\n",
              "      border-radius: 50%;\n",
              "      cursor: pointer;\n",
              "      display: none;\n",
              "      fill: #1967D2;\n",
              "      height: 32px;\n",
              "      padding: 0 0 0 0;\n",
              "      width: 32px;\n",
              "    }\n",
              "\n",
              "    .colab-df-convert:hover {\n",
              "      background-color: #E2EBFA;\n",
              "      box-shadow: 0px 1px 2px rgba(60, 64, 67, 0.3), 0px 1px 3px 1px rgba(60, 64, 67, 0.15);\n",
              "      fill: #174EA6;\n",
              "    }\n",
              "\n",
              "    [theme=dark] .colab-df-convert {\n",
              "      background-color: #3B4455;\n",
              "      fill: #D2E3FC;\n",
              "    }\n",
              "\n",
              "    [theme=dark] .colab-df-convert:hover {\n",
              "      background-color: #434B5C;\n",
              "      box-shadow: 0px 1px 3px 1px rgba(0, 0, 0, 0.15);\n",
              "      filter: drop-shadow(0px 1px 2px rgba(0, 0, 0, 0.3));\n",
              "      fill: #FFFFFF;\n",
              "    }\n",
              "  </style>\n",
              "\n",
              "      <script>\n",
              "        const buttonEl =\n",
              "          document.querySelector('#df-ee021003-5a71-406a-b148-af3b97cb6922 button.colab-df-convert');\n",
              "        buttonEl.style.display =\n",
              "          google.colab.kernel.accessAllowed ? 'block' : 'none';\n",
              "\n",
              "        async function convertToInteractive(key) {\n",
              "          const element = document.querySelector('#df-ee021003-5a71-406a-b148-af3b97cb6922');\n",
              "          const dataTable =\n",
              "            await google.colab.kernel.invokeFunction('convertToInteractive',\n",
              "                                                     [key], {});\n",
              "          if (!dataTable) return;\n",
              "\n",
              "          const docLinkHtml = 'Like what you see? Visit the ' +\n",
              "            '<a target=\"_blank\" href=https://colab.research.google.com/notebooks/data_table.ipynb>data table notebook</a>'\n",
              "            + ' to learn more about interactive tables.';\n",
              "          element.innerHTML = '';\n",
              "          dataTable['output_type'] = 'display_data';\n",
              "          await google.colab.output.renderOutput(dataTable, element);\n",
              "          const docLink = document.createElement('div');\n",
              "          docLink.innerHTML = docLinkHtml;\n",
              "          element.appendChild(docLink);\n",
              "        }\n",
              "      </script>\n",
              "    </div>\n",
              "  </div>\n",
              "  "
            ]
          },
          "metadata": {},
          "execution_count": 10
        }
      ]
    },
    {
      "cell_type": "markdown",
      "source": [
        "Understand the number of missing values in each column by the number of them"
      ],
      "metadata": {
        "id": "VYzUjNQooZQi"
      }
    },
    {
      "cell_type": "code",
      "source": [
        "Facebook_first_version.isna().sum()"
      ],
      "metadata": {
        "colab": {
          "base_uri": "https://localhost:8080/"
        },
        "id": "x0rJ_qj5oTzK",
        "outputId": "2ab7b21b-1c44-4082-f86c-3394fdeeda38"
      },
      "execution_count": 11,
      "outputs": [
        {
          "output_type": "execute_result",
          "data": {
            "text/plain": [
              "Page total likes                                                       0\n",
              "Type                                                                   0\n",
              "Category                                                               0\n",
              "Post Month                                                             0\n",
              "Post Weekday                                                           0\n",
              "Post Hour                                                              0\n",
              "Paid                                                                   1\n",
              "Lifetime Post Total Reach                                              0\n",
              "Lifetime Post Total Impressions                                        0\n",
              "Lifetime Engaged Users                                                 0\n",
              "Lifetime Post Consumers                                                0\n",
              "Lifetime Post Consumptions                                             0\n",
              "Lifetime Post Impressions by people who have liked your Page           0\n",
              "Lifetime Post reach by people who like your Page                       0\n",
              "Lifetime People who have liked your Page and engaged with your post    0\n",
              "Comments                                                               0\n",
              "Likes                                                                  1\n",
              "Shares                                                                 4\n",
              "Total Interactions                                                     0\n",
              "dtype: int64"
            ]
          },
          "metadata": {},
          "execution_count": 11
        }
      ]
    },
    {
      "cell_type": "markdown",
      "source": [
        "Treatment of null values, Dropping them is a good way to treat them based on the amount of null values"
      ],
      "metadata": {
        "id": "ZiuVa9S4osYl"
      }
    },
    {
      "cell_type": "code",
      "source": [
        "Facebook_first_version = Facebook_first_version.dropna()\n",
        "Facebook_first_version.reset_index(drop=True, inplace=True)\n",
        "Facebook_first_version.isna().sum()"
      ],
      "metadata": {
        "colab": {
          "base_uri": "https://localhost:8080/"
        },
        "id": "tUr4ISniov_J",
        "outputId": "c0845ed1-1443-446f-bc75-03f90f376057"
      },
      "execution_count": 12,
      "outputs": [
        {
          "output_type": "execute_result",
          "data": {
            "text/plain": [
              "Page total likes                                                       0\n",
              "Type                                                                   0\n",
              "Category                                                               0\n",
              "Post Month                                                             0\n",
              "Post Weekday                                                           0\n",
              "Post Hour                                                              0\n",
              "Paid                                                                   0\n",
              "Lifetime Post Total Reach                                              0\n",
              "Lifetime Post Total Impressions                                        0\n",
              "Lifetime Engaged Users                                                 0\n",
              "Lifetime Post Consumers                                                0\n",
              "Lifetime Post Consumptions                                             0\n",
              "Lifetime Post Impressions by people who have liked your Page           0\n",
              "Lifetime Post reach by people who like your Page                       0\n",
              "Lifetime People who have liked your Page and engaged with your post    0\n",
              "Comments                                                               0\n",
              "Likes                                                                  0\n",
              "Shares                                                                 0\n",
              "Total Interactions                                                     0\n",
              "dtype: int64"
            ]
          },
          "metadata": {},
          "execution_count": 12
        }
      ]
    },
    {
      "cell_type": "markdown",
      "source": [
        "Change datatype of Type column to integer"
      ],
      "metadata": {
        "id": "3UxeDmzYo9BR"
      }
    },
    {
      "cell_type": "code",
      "source": [
        "print(\"Type unique: \", len(Facebook_first_version.Type.unique()))\n",
        "print(Facebook_first_version[\"Type\"].value_counts())"
      ],
      "metadata": {
        "colab": {
          "base_uri": "https://localhost:8080/"
        },
        "id": "BMYH2daZo4wu",
        "outputId": "772ec370-c80b-4c27-9f8d-3065f0f0449b"
      },
      "execution_count": 13,
      "outputs": [
        {
          "output_type": "stream",
          "name": "stdout",
          "text": [
            "Type unique:  4\n",
            "Photo     421\n",
            "Status     45\n",
            "Link       22\n",
            "Video       7\n",
            "Name: Type, dtype: int64\n"
          ]
        }
      ]
    },
    {
      "cell_type": "code",
      "source": [
        "conditions = [\n",
        "    (Facebook_first_version[\"Type\"] == 'Photo'),\n",
        "    (Facebook_first_version[\"Type\"] == 'Status'),\n",
        "    (Facebook_first_version[\"Type\"] == 'Link'),\n",
        "    (Facebook_first_version[\"Type\"] == 'Video')\n",
        "    ]\n",
        "\n",
        "# create a list of the values we want to assign for each condition\n",
        "value = [0,1,2,3]\n",
        "Facebook_first_version['Type to numeric'] = np.select(conditions, value)"
      ],
      "metadata": {
        "colab": {
          "base_uri": "https://localhost:8080/"
        },
        "id": "nWRVU0cgpI3q",
        "outputId": "fdabb1ed-3194-48b7-f921-56d9b752e2d6"
      },
      "execution_count": 14,
      "outputs": [
        {
          "output_type": "stream",
          "name": "stderr",
          "text": [
            "/usr/local/lib/python3.7/dist-packages/ipykernel_launcher.py:10: SettingWithCopyWarning: \n",
            "A value is trying to be set on a copy of a slice from a DataFrame.\n",
            "Try using .loc[row_indexer,col_indexer] = value instead\n",
            "\n",
            "See the caveats in the documentation: https://pandas.pydata.org/pandas-docs/stable/user_guide/indexing.html#returning-a-view-versus-a-copy\n",
            "  # Remove the CWD from sys.path while we load stuff.\n"
          ]
        }
      ]
    },
    {
      "cell_type": "markdown",
      "source": [
        "Check the change datatype of Type column to integer"
      ],
      "metadata": {
        "id": "CgOzwAnWpU2h"
      }
    },
    {
      "cell_type": "code",
      "source": [
        "print(\"Type unique: \", len(Facebook_first_version['Type to numeric'].unique()))\n",
        "print(Facebook_first_version['Type to numeric'].value_counts())"
      ],
      "metadata": {
        "colab": {
          "base_uri": "https://localhost:8080/"
        },
        "id": "dy9Yih3qpa2C",
        "outputId": "362a7650-c0ef-46e0-d2e8-c0770f4a2a7a"
      },
      "execution_count": 15,
      "outputs": [
        {
          "output_type": "stream",
          "name": "stdout",
          "text": [
            "Type unique:  4\n",
            "0    421\n",
            "1     45\n",
            "2     22\n",
            "3      7\n",
            "Name: Type to numeric, dtype: int64\n"
          ]
        }
      ]
    },
    {
      "cell_type": "markdown",
      "source": [
        "Another way is Changing data type of Type column into 4 columns and use hot encoding to replace it"
      ],
      "metadata": {
        "id": "PMflsiFjpkyi"
      }
    },
    {
      "cell_type": "code",
      "source": [
        "pd.get_dummies(Facebook_first_version, columns=[\"Type\"]).head()\n",
        "Facebook_second_version = pd.get_dummies(Facebook_first_version, columns=[\"Type\"])"
      ],
      "metadata": {
        "id": "6SJMXxo0puW3"
      },
      "execution_count": 16,
      "outputs": []
    },
    {
      "cell_type": "markdown",
      "source": [
        "Datatype is recovered and lets see if the changes are applied"
      ],
      "metadata": {
        "id": "LCRG4H5hp1Xd"
      }
    },
    {
      "cell_type": "code",
      "source": [
        "Facebook_second_version.dtypes"
      ],
      "metadata": {
        "colab": {
          "base_uri": "https://localhost:8080/"
        },
        "id": "xkQFwuqTp0vS",
        "outputId": "7dc13166-115a-4c66-f637-03dcde460986"
      },
      "execution_count": 17,
      "outputs": [
        {
          "output_type": "execute_result",
          "data": {
            "text/plain": [
              "Page total likes                                                         int64\n",
              "Category                                                                 int64\n",
              "Post Month                                                               int64\n",
              "Post Weekday                                                             int64\n",
              "Post Hour                                                                int64\n",
              "Paid                                                                   float64\n",
              "Lifetime Post Total Reach                                                int64\n",
              "Lifetime Post Total Impressions                                          int64\n",
              "Lifetime Engaged Users                                                   int64\n",
              "Lifetime Post Consumers                                                  int64\n",
              "Lifetime Post Consumptions                                               int64\n",
              "Lifetime Post Impressions by people who have liked your Page             int64\n",
              "Lifetime Post reach by people who like your Page                         int64\n",
              "Lifetime People who have liked your Page and engaged with your post      int64\n",
              "Comments                                                                 int64\n",
              "Likes                                                                  float64\n",
              "Shares                                                                 float64\n",
              "Total Interactions                                                       int64\n",
              "Type to numeric                                                          int64\n",
              "Type_Link                                                                uint8\n",
              "Type_Photo                                                               uint8\n",
              "Type_Status                                                              uint8\n",
              "Type_Video                                                               uint8\n",
              "dtype: object"
            ]
          },
          "metadata": {},
          "execution_count": 17
        }
      ]
    },
    {
      "cell_type": "markdown",
      "source": [
        "Treatment of outliers:\n",
        "First define a boxplot to see every column distribution and see if there is any outliers"
      ],
      "metadata": {
        "id": "9cTBKFU3qCAC"
      }
    },
    {
      "cell_type": "code",
      "source": [
        "def plot_boxplot(dataframe, feature):\n",
        "  dataframe.boxplot(column=[feature])\n",
        "  plt.grid(False)\n",
        "  "
      ],
      "metadata": {
        "id": "jHOAV609qBsh"
      },
      "execution_count": 18,
      "outputs": []
    },
    {
      "cell_type": "code",
      "source": [
        "for column in  Facebook_second_version.columns:\n",
        "  plot_boxplot(Facebook_second_version, column)\n",
        "  plt.grid(False)\n",
        "  plt.savefig(\"Boxplot for \" + column + \".png\")\n",
        "  plt.show()\n",
        "  plt.clf()\n"
      ],
      "metadata": {
        "id": "r4bk4enCp9e5"
      },
      "execution_count": 19,
      "outputs": []
    },
    {
      "cell_type": "markdown",
      "source": [
        "Create a function for detecting outliers"
      ],
      "metadata": {
        "id": "XA193lLvkyPI"
      }
    },
    {
      "cell_type": "code",
      "source": [
        "def outliers(dataframe, feature):\n",
        "    q1 = dataframe[feature].quantile(0.25)\n",
        "    q3 = dataframe[feature].quantile(0.75)\n",
        "    iqr = q3 - q1\n",
        "    lower_bound = q1 - 1.5 * iqr\n",
        "    upper_bound = q3 + 1.5 * iqr\n",
        "\n",
        "    ls = dataframe.index[ (dataframe[feature] < lower_bound) | (dataframe[feature] > upper_bound) ]\n",
        "    return ls\n"
      ],
      "metadata": {
        "id": "94Q9-JtqkwOk"
      },
      "execution_count": 20,
      "outputs": []
    },
    {
      "cell_type": "markdown",
      "source": [
        "Create a list to see the indexes of outliers for second version and also only detect outliers for the columns that are going to be used in analysis"
      ],
      "metadata": {
        "id": "57_WK5fjlX4v"
      }
    },
    {
      "cell_type": "code",
      "source": [
        "outliers_index_secondV = []\n",
        "for column in ['Page total likes', 'Category', 'Post Month', 'Post Weekday','Post Hour', 'Paid','Lifetime Post Consumers']:\n",
        "  outliers_index_secondV.extend(outliers(Facebook_second_version, column))\n",
        "outliers_index_secondV,len(outliers_index_secondV)"
      ],
      "metadata": {
        "colab": {
          "base_uri": "https://localhost:8080/"
        },
        "id": "Et2Y7mhWlqEl",
        "outputId": "aa42f455-e9e6-4107-c76b-2975bb68cfd1"
      },
      "execution_count": 21,
      "outputs": [
        {
          "output_type": "execute_result",
          "data": {
            "text/plain": [
              "([10,\n",
              "  26,\n",
              "  38,\n",
              "  42,\n",
              "  46,\n",
              "  80,\n",
              "  98,\n",
              "  105,\n",
              "  109,\n",
              "  119,\n",
              "  138,\n",
              "  139,\n",
              "  147,\n",
              "  164,\n",
              "  168,\n",
              "  171,\n",
              "  179,\n",
              "  219,\n",
              "  221,\n",
              "  238,\n",
              "  239,\n",
              "  240,\n",
              "  249,\n",
              "  268,\n",
              "  271,\n",
              "  275,\n",
              "  278,\n",
              "  367,\n",
              "  375,\n",
              "  442,\n",
              "  443,\n",
              "  445,\n",
              "  453,\n",
              "  456,\n",
              "  460,\n",
              "  472,\n",
              "  478],\n",
              " 37)"
            ]
          },
          "metadata": {},
          "execution_count": 21
        }
      ]
    },
    {
      "cell_type": "markdown",
      "source": [
        "Create a function for deleting outliers based on their indexes"
      ],
      "metadata": {
        "id": "vLtfJho7mApb"
      }
    },
    {
      "cell_type": "code",
      "source": [
        "def remove(df,ls):\n",
        "    ls = sorted(set(ls))\n",
        "    df = df.drop(ls)\n",
        "    return df\n",
        "Facebook_second_version_cleaned = remove(Facebook_second_version,outliers_index_secondV)\n",
        "Facebook_second_version_cleaned.reset_index(drop=True, inplace=True)\n"
      ],
      "metadata": {
        "id": "WlYiggUvmH6K"
      },
      "execution_count": 22,
      "outputs": []
    },
    {
      "cell_type": "markdown",
      "source": [
        "See howe many outliers were detected and deleted"
      ],
      "metadata": {
        "id": "2DZKuN23mTbu"
      }
    },
    {
      "cell_type": "code",
      "source": [
        "print(len(Facebook_second_version_cleaned))\n",
        "print(len(Facebook_second_version))"
      ],
      "metadata": {
        "colab": {
          "base_uri": "https://localhost:8080/"
        },
        "id": "VcQTW5WlmT6T",
        "outputId": "19db7669-8388-4d62-88a6-a22c26966cee"
      },
      "execution_count": 23,
      "outputs": [
        {
          "output_type": "stream",
          "name": "stdout",
          "text": [
            "458\n",
            "495\n"
          ]
        }
      ]
    },
    {
      "cell_type": "code",
      "source": [
        "Facebook_second_version_cleaned.describe()"
      ],
      "metadata": {
        "colab": {
          "base_uri": "https://localhost:8080/",
          "height": 514
        },
        "id": "KuR6UqR4qMHK",
        "outputId": "36000449-e597-4e5f-f263-e3a1299ed72a"
      },
      "execution_count": 24,
      "outputs": [
        {
          "output_type": "execute_result",
          "data": {
            "text/plain": [
              "       Page total likes    Category  Post Month  Post Weekday   Post Hour  \\\n",
              "count        458.000000  458.000000  458.000000    458.000000  458.000000   \n",
              "mean      123122.395197    1.901747    7.006550      4.122271    7.799127   \n",
              "std        16075.297857    0.865809    3.290787      2.035330    4.425785   \n",
              "min        81370.000000    1.000000    1.000000      1.000000    1.000000   \n",
              "25%       111972.000000    1.000000    4.000000      2.000000    3.000000   \n",
              "50%       129600.000000    2.000000    7.000000      4.000000    9.000000   \n",
              "75%       136393.000000    3.000000   10.000000      6.000000   11.000000   \n",
              "max       139441.000000    3.000000   12.000000      7.000000   23.000000   \n",
              "\n",
              "             Paid  Lifetime Post Total Reach  Lifetime Post Total Impressions  \\\n",
              "count  458.000000                 458.000000                     4.580000e+02   \n",
              "mean     0.272926               11921.794760                     2.519002e+04   \n",
              "std      0.445950               19131.504289                     6.894823e+04   \n",
              "min      0.000000                 238.000000                     5.700000e+02   \n",
              "25%      0.000000                3217.500000                     5.562250e+03   \n",
              "50%      0.000000                4924.000000                     8.516000e+03   \n",
              "75%      1.000000               10676.000000                     1.881525e+04   \n",
              "max      1.000000              153536.000000                     1.110282e+06   \n",
              "\n",
              "       Lifetime Engaged Users  Lifetime Post Consumers  ...  \\\n",
              "count              458.000000               458.000000  ...   \n",
              "mean               723.766376               618.711790  ...   \n",
              "std                481.706008               404.965957  ...   \n",
              "min                  9.000000                 9.000000  ...   \n",
              "25%                386.000000               323.250000  ...   \n",
              "50%                597.000000               522.500000  ...   \n",
              "75%                949.000000               837.750000  ...   \n",
              "max               3000.000000              1912.000000  ...   \n",
              "\n",
              "       Lifetime People who have liked your Page and engaged with your post  \\\n",
              "count                                         458.000000                     \n",
              "mean                                          486.921397                     \n",
              "std                                           339.647614                     \n",
              "min                                             9.000000                     \n",
              "25%                                           284.000000                     \n",
              "50%                                           398.000000                     \n",
              "75%                                           570.000000                     \n",
              "max                                          1978.000000                     \n",
              "\n",
              "         Comments        Likes      Shares  Total Interactions  \\\n",
              "count  458.000000   458.000000  458.000000          458.000000   \n",
              "mean     5.696507   150.545852   23.325328          179.567686   \n",
              "std      9.671046   196.649437   20.734147          218.514752   \n",
              "min      0.000000     0.000000    0.000000            0.000000   \n",
              "25%      1.000000    55.000000   10.000000           70.000000   \n",
              "50%      2.500000    98.000000   18.000000          119.000000   \n",
              "75%      6.000000   171.000000   31.000000          210.750000   \n",
              "max    103.000000  1639.000000  147.000000         1806.000000   \n",
              "\n",
              "       Type to numeric   Type_Link  Type_Photo  Type_Status  Type_Video  \n",
              "count       458.000000  458.000000  458.000000   458.000000  458.000000  \n",
              "mean          0.185590    0.048035    0.884279     0.056769    0.010917  \n",
              "std           0.559824    0.214074    0.320239     0.231653    0.104026  \n",
              "min           0.000000    0.000000    0.000000     0.000000    0.000000  \n",
              "25%           0.000000    0.000000    1.000000     0.000000    0.000000  \n",
              "50%           0.000000    0.000000    1.000000     0.000000    0.000000  \n",
              "75%           0.000000    0.000000    1.000000     0.000000    0.000000  \n",
              "max           3.000000    1.000000    1.000000     1.000000    1.000000  \n",
              "\n",
              "[8 rows x 23 columns]"
            ],
            "text/html": [
              "\n",
              "  <div id=\"df-75a17ae0-2820-4886-b5b3-ce5165f40c1e\">\n",
              "    <div class=\"colab-df-container\">\n",
              "      <div>\n",
              "<style scoped>\n",
              "    .dataframe tbody tr th:only-of-type {\n",
              "        vertical-align: middle;\n",
              "    }\n",
              "\n",
              "    .dataframe tbody tr th {\n",
              "        vertical-align: top;\n",
              "    }\n",
              "\n",
              "    .dataframe thead th {\n",
              "        text-align: right;\n",
              "    }\n",
              "</style>\n",
              "<table border=\"1\" class=\"dataframe\">\n",
              "  <thead>\n",
              "    <tr style=\"text-align: right;\">\n",
              "      <th></th>\n",
              "      <th>Page total likes</th>\n",
              "      <th>Category</th>\n",
              "      <th>Post Month</th>\n",
              "      <th>Post Weekday</th>\n",
              "      <th>Post Hour</th>\n",
              "      <th>Paid</th>\n",
              "      <th>Lifetime Post Total Reach</th>\n",
              "      <th>Lifetime Post Total Impressions</th>\n",
              "      <th>Lifetime Engaged Users</th>\n",
              "      <th>Lifetime Post Consumers</th>\n",
              "      <th>...</th>\n",
              "      <th>Lifetime People who have liked your Page and engaged with your post</th>\n",
              "      <th>Comments</th>\n",
              "      <th>Likes</th>\n",
              "      <th>Shares</th>\n",
              "      <th>Total Interactions</th>\n",
              "      <th>Type to numeric</th>\n",
              "      <th>Type_Link</th>\n",
              "      <th>Type_Photo</th>\n",
              "      <th>Type_Status</th>\n",
              "      <th>Type_Video</th>\n",
              "    </tr>\n",
              "  </thead>\n",
              "  <tbody>\n",
              "    <tr>\n",
              "      <th>count</th>\n",
              "      <td>458.000000</td>\n",
              "      <td>458.000000</td>\n",
              "      <td>458.000000</td>\n",
              "      <td>458.000000</td>\n",
              "      <td>458.000000</td>\n",
              "      <td>458.000000</td>\n",
              "      <td>458.000000</td>\n",
              "      <td>4.580000e+02</td>\n",
              "      <td>458.000000</td>\n",
              "      <td>458.000000</td>\n",
              "      <td>...</td>\n",
              "      <td>458.000000</td>\n",
              "      <td>458.000000</td>\n",
              "      <td>458.000000</td>\n",
              "      <td>458.000000</td>\n",
              "      <td>458.000000</td>\n",
              "      <td>458.000000</td>\n",
              "      <td>458.000000</td>\n",
              "      <td>458.000000</td>\n",
              "      <td>458.000000</td>\n",
              "      <td>458.000000</td>\n",
              "    </tr>\n",
              "    <tr>\n",
              "      <th>mean</th>\n",
              "      <td>123122.395197</td>\n",
              "      <td>1.901747</td>\n",
              "      <td>7.006550</td>\n",
              "      <td>4.122271</td>\n",
              "      <td>7.799127</td>\n",
              "      <td>0.272926</td>\n",
              "      <td>11921.794760</td>\n",
              "      <td>2.519002e+04</td>\n",
              "      <td>723.766376</td>\n",
              "      <td>618.711790</td>\n",
              "      <td>...</td>\n",
              "      <td>486.921397</td>\n",
              "      <td>5.696507</td>\n",
              "      <td>150.545852</td>\n",
              "      <td>23.325328</td>\n",
              "      <td>179.567686</td>\n",
              "      <td>0.185590</td>\n",
              "      <td>0.048035</td>\n",
              "      <td>0.884279</td>\n",
              "      <td>0.056769</td>\n",
              "      <td>0.010917</td>\n",
              "    </tr>\n",
              "    <tr>\n",
              "      <th>std</th>\n",
              "      <td>16075.297857</td>\n",
              "      <td>0.865809</td>\n",
              "      <td>3.290787</td>\n",
              "      <td>2.035330</td>\n",
              "      <td>4.425785</td>\n",
              "      <td>0.445950</td>\n",
              "      <td>19131.504289</td>\n",
              "      <td>6.894823e+04</td>\n",
              "      <td>481.706008</td>\n",
              "      <td>404.965957</td>\n",
              "      <td>...</td>\n",
              "      <td>339.647614</td>\n",
              "      <td>9.671046</td>\n",
              "      <td>196.649437</td>\n",
              "      <td>20.734147</td>\n",
              "      <td>218.514752</td>\n",
              "      <td>0.559824</td>\n",
              "      <td>0.214074</td>\n",
              "      <td>0.320239</td>\n",
              "      <td>0.231653</td>\n",
              "      <td>0.104026</td>\n",
              "    </tr>\n",
              "    <tr>\n",
              "      <th>min</th>\n",
              "      <td>81370.000000</td>\n",
              "      <td>1.000000</td>\n",
              "      <td>1.000000</td>\n",
              "      <td>1.000000</td>\n",
              "      <td>1.000000</td>\n",
              "      <td>0.000000</td>\n",
              "      <td>238.000000</td>\n",
              "      <td>5.700000e+02</td>\n",
              "      <td>9.000000</td>\n",
              "      <td>9.000000</td>\n",
              "      <td>...</td>\n",
              "      <td>9.000000</td>\n",
              "      <td>0.000000</td>\n",
              "      <td>0.000000</td>\n",
              "      <td>0.000000</td>\n",
              "      <td>0.000000</td>\n",
              "      <td>0.000000</td>\n",
              "      <td>0.000000</td>\n",
              "      <td>0.000000</td>\n",
              "      <td>0.000000</td>\n",
              "      <td>0.000000</td>\n",
              "    </tr>\n",
              "    <tr>\n",
              "      <th>25%</th>\n",
              "      <td>111972.000000</td>\n",
              "      <td>1.000000</td>\n",
              "      <td>4.000000</td>\n",
              "      <td>2.000000</td>\n",
              "      <td>3.000000</td>\n",
              "      <td>0.000000</td>\n",
              "      <td>3217.500000</td>\n",
              "      <td>5.562250e+03</td>\n",
              "      <td>386.000000</td>\n",
              "      <td>323.250000</td>\n",
              "      <td>...</td>\n",
              "      <td>284.000000</td>\n",
              "      <td>1.000000</td>\n",
              "      <td>55.000000</td>\n",
              "      <td>10.000000</td>\n",
              "      <td>70.000000</td>\n",
              "      <td>0.000000</td>\n",
              "      <td>0.000000</td>\n",
              "      <td>1.000000</td>\n",
              "      <td>0.000000</td>\n",
              "      <td>0.000000</td>\n",
              "    </tr>\n",
              "    <tr>\n",
              "      <th>50%</th>\n",
              "      <td>129600.000000</td>\n",
              "      <td>2.000000</td>\n",
              "      <td>7.000000</td>\n",
              "      <td>4.000000</td>\n",
              "      <td>9.000000</td>\n",
              "      <td>0.000000</td>\n",
              "      <td>4924.000000</td>\n",
              "      <td>8.516000e+03</td>\n",
              "      <td>597.000000</td>\n",
              "      <td>522.500000</td>\n",
              "      <td>...</td>\n",
              "      <td>398.000000</td>\n",
              "      <td>2.500000</td>\n",
              "      <td>98.000000</td>\n",
              "      <td>18.000000</td>\n",
              "      <td>119.000000</td>\n",
              "      <td>0.000000</td>\n",
              "      <td>0.000000</td>\n",
              "      <td>1.000000</td>\n",
              "      <td>0.000000</td>\n",
              "      <td>0.000000</td>\n",
              "    </tr>\n",
              "    <tr>\n",
              "      <th>75%</th>\n",
              "      <td>136393.000000</td>\n",
              "      <td>3.000000</td>\n",
              "      <td>10.000000</td>\n",
              "      <td>6.000000</td>\n",
              "      <td>11.000000</td>\n",
              "      <td>1.000000</td>\n",
              "      <td>10676.000000</td>\n",
              "      <td>1.881525e+04</td>\n",
              "      <td>949.000000</td>\n",
              "      <td>837.750000</td>\n",
              "      <td>...</td>\n",
              "      <td>570.000000</td>\n",
              "      <td>6.000000</td>\n",
              "      <td>171.000000</td>\n",
              "      <td>31.000000</td>\n",
              "      <td>210.750000</td>\n",
              "      <td>0.000000</td>\n",
              "      <td>0.000000</td>\n",
              "      <td>1.000000</td>\n",
              "      <td>0.000000</td>\n",
              "      <td>0.000000</td>\n",
              "    </tr>\n",
              "    <tr>\n",
              "      <th>max</th>\n",
              "      <td>139441.000000</td>\n",
              "      <td>3.000000</td>\n",
              "      <td>12.000000</td>\n",
              "      <td>7.000000</td>\n",
              "      <td>23.000000</td>\n",
              "      <td>1.000000</td>\n",
              "      <td>153536.000000</td>\n",
              "      <td>1.110282e+06</td>\n",
              "      <td>3000.000000</td>\n",
              "      <td>1912.000000</td>\n",
              "      <td>...</td>\n",
              "      <td>1978.000000</td>\n",
              "      <td>103.000000</td>\n",
              "      <td>1639.000000</td>\n",
              "      <td>147.000000</td>\n",
              "      <td>1806.000000</td>\n",
              "      <td>3.000000</td>\n",
              "      <td>1.000000</td>\n",
              "      <td>1.000000</td>\n",
              "      <td>1.000000</td>\n",
              "      <td>1.000000</td>\n",
              "    </tr>\n",
              "  </tbody>\n",
              "</table>\n",
              "<p>8 rows × 23 columns</p>\n",
              "</div>\n",
              "      <button class=\"colab-df-convert\" onclick=\"convertToInteractive('df-75a17ae0-2820-4886-b5b3-ce5165f40c1e')\"\n",
              "              title=\"Convert this dataframe to an interactive table.\"\n",
              "              style=\"display:none;\">\n",
              "        \n",
              "  <svg xmlns=\"http://www.w3.org/2000/svg\" height=\"24px\"viewBox=\"0 0 24 24\"\n",
              "       width=\"24px\">\n",
              "    <path d=\"M0 0h24v24H0V0z\" fill=\"none\"/>\n",
              "    <path d=\"M18.56 5.44l.94 2.06.94-2.06 2.06-.94-2.06-.94-.94-2.06-.94 2.06-2.06.94zm-11 1L8.5 8.5l.94-2.06 2.06-.94-2.06-.94L8.5 2.5l-.94 2.06-2.06.94zm10 10l.94 2.06.94-2.06 2.06-.94-2.06-.94-.94-2.06-.94 2.06-2.06.94z\"/><path d=\"M17.41 7.96l-1.37-1.37c-.4-.4-.92-.59-1.43-.59-.52 0-1.04.2-1.43.59L10.3 9.45l-7.72 7.72c-.78.78-.78 2.05 0 2.83L4 21.41c.39.39.9.59 1.41.59.51 0 1.02-.2 1.41-.59l7.78-7.78 2.81-2.81c.8-.78.8-2.07 0-2.86zM5.41 20L4 18.59l7.72-7.72 1.47 1.35L5.41 20z\"/>\n",
              "  </svg>\n",
              "      </button>\n",
              "      \n",
              "  <style>\n",
              "    .colab-df-container {\n",
              "      display:flex;\n",
              "      flex-wrap:wrap;\n",
              "      gap: 12px;\n",
              "    }\n",
              "\n",
              "    .colab-df-convert {\n",
              "      background-color: #E8F0FE;\n",
              "      border: none;\n",
              "      border-radius: 50%;\n",
              "      cursor: pointer;\n",
              "      display: none;\n",
              "      fill: #1967D2;\n",
              "      height: 32px;\n",
              "      padding: 0 0 0 0;\n",
              "      width: 32px;\n",
              "    }\n",
              "\n",
              "    .colab-df-convert:hover {\n",
              "      background-color: #E2EBFA;\n",
              "      box-shadow: 0px 1px 2px rgba(60, 64, 67, 0.3), 0px 1px 3px 1px rgba(60, 64, 67, 0.15);\n",
              "      fill: #174EA6;\n",
              "    }\n",
              "\n",
              "    [theme=dark] .colab-df-convert {\n",
              "      background-color: #3B4455;\n",
              "      fill: #D2E3FC;\n",
              "    }\n",
              "\n",
              "    [theme=dark] .colab-df-convert:hover {\n",
              "      background-color: #434B5C;\n",
              "      box-shadow: 0px 1px 3px 1px rgba(0, 0, 0, 0.15);\n",
              "      filter: drop-shadow(0px 1px 2px rgba(0, 0, 0, 0.3));\n",
              "      fill: #FFFFFF;\n",
              "    }\n",
              "  </style>\n",
              "\n",
              "      <script>\n",
              "        const buttonEl =\n",
              "          document.querySelector('#df-75a17ae0-2820-4886-b5b3-ce5165f40c1e button.colab-df-convert');\n",
              "        buttonEl.style.display =\n",
              "          google.colab.kernel.accessAllowed ? 'block' : 'none';\n",
              "\n",
              "        async function convertToInteractive(key) {\n",
              "          const element = document.querySelector('#df-75a17ae0-2820-4886-b5b3-ce5165f40c1e');\n",
              "          const dataTable =\n",
              "            await google.colab.kernel.invokeFunction('convertToInteractive',\n",
              "                                                     [key], {});\n",
              "          if (!dataTable) return;\n",
              "\n",
              "          const docLinkHtml = 'Like what you see? Visit the ' +\n",
              "            '<a target=\"_blank\" href=https://colab.research.google.com/notebooks/data_table.ipynb>data table notebook</a>'\n",
              "            + ' to learn more about interactive tables.';\n",
              "          element.innerHTML = '';\n",
              "          dataTable['output_type'] = 'display_data';\n",
              "          await google.colab.output.renderOutput(dataTable, element);\n",
              "          const docLink = document.createElement('div');\n",
              "          docLink.innerHTML = docLinkHtml;\n",
              "          element.appendChild(docLink);\n",
              "        }\n",
              "      </script>\n",
              "    </div>\n",
              "  </div>\n",
              "  "
            ]
          },
          "metadata": {},
          "execution_count": 24
        }
      ]
    },
    {
      "cell_type": "markdown",
      "source": [
        "Change the outcome vallue(Lifetime Post Consumers) to categorical value with each group having around 50 percent of data. In the data description we can see its 520"
      ],
      "metadata": {
        "id": "DQGt0aeioL38"
      }
    },
    {
      "cell_type": "code",
      "source": [
        "conditions1 = [\n",
        "    (Facebook_second_version_cleaned['Lifetime Post Consumers'] < 520),\n",
        "    (Facebook_second_version_cleaned['Lifetime Post Consumers'] >= 520)\n",
        "    ]\n",
        "\n",
        "# create a list of the values we want to assign for each condition\n",
        "value1 = [0, 1]\n",
        "\n",
        "\n",
        "Facebook_second_version_cleaned['Lifetime Post Consumers Categorized'] = np.select(conditions1, value1)"
      ],
      "metadata": {
        "id": "b_e_Yc4wmsgS"
      },
      "execution_count": 25,
      "outputs": []
    },
    {
      "cell_type": "markdown",
      "source": [
        "Lets see the number of categorized value of the outcome in the two groups that we created"
      ],
      "metadata": {
        "id": "nUoqqaY4p7wA"
      }
    },
    {
      "cell_type": "code",
      "source": [
        "print(\"Lifetime Post Consumers : \", len(Facebook_second_version_cleaned['Lifetime Post Consumers Categorized'].unique()))\n",
        "print(Facebook_second_version_cleaned['Lifetime Post Consumers Categorized'].value_counts())"
      ],
      "metadata": {
        "colab": {
          "base_uri": "https://localhost:8080/"
        },
        "id": "rQ6PMrPap6-e",
        "outputId": "9cc6ac23-6667-417d-de54-1632a3c5de44"
      },
      "execution_count": 26,
      "outputs": [
        {
          "output_type": "stream",
          "name": "stdout",
          "text": [
            "Lifetime Post Consumers :  2\n",
            "1    230\n",
            "0    228\n",
            "Name: Lifetime Post Consumers Categorized, dtype: int64\n"
          ]
        }
      ]
    },
    {
      "cell_type": "markdown",
      "source": [
        "Get a glance of the dataset that we want to use for X and y"
      ],
      "metadata": {
        "id": "7Gf37QtqpVWk"
      }
    },
    {
      "cell_type": "code",
      "source": [
        "Facebook_second_version_cleaned"
      ],
      "metadata": {
        "colab": {
          "base_uri": "https://localhost:8080/",
          "height": 520
        },
        "id": "EqD6Y6GLpSCC",
        "outputId": "1e3848e1-9fc3-41d4-bee5-94f824c5a077"
      },
      "execution_count": 27,
      "outputs": [
        {
          "output_type": "execute_result",
          "data": {
            "text/plain": [
              "     Page total likes  Category  Post Month  Post Weekday  Post Hour  Paid  \\\n",
              "0              139441         2          12             4          3   0.0   \n",
              "1              139441         2          12             3         10   0.0   \n",
              "2              139441         3          12             3          3   0.0   \n",
              "3              139441         2          12             2         10   1.0   \n",
              "4              139441         2          12             2          3   0.0   \n",
              "..                ...       ...         ...           ...        ...   ...   \n",
              "453             85093         3           1             7         10   0.0   \n",
              "454             85093         3           1             7          2   0.0   \n",
              "455             81370         2           1             5          8   0.0   \n",
              "456             81370         1           1             5          2   0.0   \n",
              "457             81370         3           1             4         11   0.0   \n",
              "\n",
              "     Lifetime Post Total Reach  Lifetime Post Total Impressions  \\\n",
              "0                         2752                             5091   \n",
              "1                        10460                            19057   \n",
              "2                         2413                             4373   \n",
              "3                        50128                            87991   \n",
              "4                         7244                            13594   \n",
              "..                         ...                              ...   \n",
              "453                       5400                             9218   \n",
              "454                       4684                             7536   \n",
              "455                       3480                             6229   \n",
              "456                       3778                             7216   \n",
              "457                       4156                             7564   \n",
              "\n",
              "     Lifetime Engaged Users  Lifetime Post Consumers  ...  Comments   Likes  \\\n",
              "0                       178                      109  ...         4    79.0   \n",
              "1                      1457                     1361  ...         5   130.0   \n",
              "2                       177                      113  ...         0    66.0   \n",
              "3                      2211                      790  ...        58  1572.0   \n",
              "4                       671                      410  ...        19   325.0   \n",
              "..                      ...                      ...  ...       ...     ...   \n",
              "453                     810                      756  ...        10   125.0   \n",
              "454                     733                      708  ...         5    53.0   \n",
              "455                     537                      508  ...         0    53.0   \n",
              "456                     625                      572  ...         4    93.0   \n",
              "457                     626                      574  ...         7    91.0   \n",
              "\n",
              "     Shares  Total Interactions  Type to numeric  Type_Link  Type_Photo  \\\n",
              "0      17.0                 100                0          0           1   \n",
              "1      29.0                 164                1          0           0   \n",
              "2      14.0                  80                0          0           1   \n",
              "3     147.0                1777                0          0           1   \n",
              "4      49.0                 393                0          0           1   \n",
              "..      ...                 ...              ...        ...         ...   \n",
              "453    41.0                 176                0          0           1   \n",
              "454    26.0                  84                0          0           1   \n",
              "455    22.0                  75                0          0           1   \n",
              "456    18.0                 115                0          0           1   \n",
              "457    38.0                 136                0          0           1   \n",
              "\n",
              "     Type_Status  Type_Video  Lifetime Post Consumers Categorized  \n",
              "0              0           0                                    0  \n",
              "1              1           0                                    1  \n",
              "2              0           0                                    0  \n",
              "3              0           0                                    1  \n",
              "4              0           0                                    0  \n",
              "..           ...         ...                                  ...  \n",
              "453            0           0                                    1  \n",
              "454            0           0                                    1  \n",
              "455            0           0                                    0  \n",
              "456            0           0                                    1  \n",
              "457            0           0                                    1  \n",
              "\n",
              "[458 rows x 24 columns]"
            ],
            "text/html": [
              "\n",
              "  <div id=\"df-ac535557-f08f-4496-a2bd-d4db2cb04ced\">\n",
              "    <div class=\"colab-df-container\">\n",
              "      <div>\n",
              "<style scoped>\n",
              "    .dataframe tbody tr th:only-of-type {\n",
              "        vertical-align: middle;\n",
              "    }\n",
              "\n",
              "    .dataframe tbody tr th {\n",
              "        vertical-align: top;\n",
              "    }\n",
              "\n",
              "    .dataframe thead th {\n",
              "        text-align: right;\n",
              "    }\n",
              "</style>\n",
              "<table border=\"1\" class=\"dataframe\">\n",
              "  <thead>\n",
              "    <tr style=\"text-align: right;\">\n",
              "      <th></th>\n",
              "      <th>Page total likes</th>\n",
              "      <th>Category</th>\n",
              "      <th>Post Month</th>\n",
              "      <th>Post Weekday</th>\n",
              "      <th>Post Hour</th>\n",
              "      <th>Paid</th>\n",
              "      <th>Lifetime Post Total Reach</th>\n",
              "      <th>Lifetime Post Total Impressions</th>\n",
              "      <th>Lifetime Engaged Users</th>\n",
              "      <th>Lifetime Post Consumers</th>\n",
              "      <th>...</th>\n",
              "      <th>Comments</th>\n",
              "      <th>Likes</th>\n",
              "      <th>Shares</th>\n",
              "      <th>Total Interactions</th>\n",
              "      <th>Type to numeric</th>\n",
              "      <th>Type_Link</th>\n",
              "      <th>Type_Photo</th>\n",
              "      <th>Type_Status</th>\n",
              "      <th>Type_Video</th>\n",
              "      <th>Lifetime Post Consumers Categorized</th>\n",
              "    </tr>\n",
              "  </thead>\n",
              "  <tbody>\n",
              "    <tr>\n",
              "      <th>0</th>\n",
              "      <td>139441</td>\n",
              "      <td>2</td>\n",
              "      <td>12</td>\n",
              "      <td>4</td>\n",
              "      <td>3</td>\n",
              "      <td>0.0</td>\n",
              "      <td>2752</td>\n",
              "      <td>5091</td>\n",
              "      <td>178</td>\n",
              "      <td>109</td>\n",
              "      <td>...</td>\n",
              "      <td>4</td>\n",
              "      <td>79.0</td>\n",
              "      <td>17.0</td>\n",
              "      <td>100</td>\n",
              "      <td>0</td>\n",
              "      <td>0</td>\n",
              "      <td>1</td>\n",
              "      <td>0</td>\n",
              "      <td>0</td>\n",
              "      <td>0</td>\n",
              "    </tr>\n",
              "    <tr>\n",
              "      <th>1</th>\n",
              "      <td>139441</td>\n",
              "      <td>2</td>\n",
              "      <td>12</td>\n",
              "      <td>3</td>\n",
              "      <td>10</td>\n",
              "      <td>0.0</td>\n",
              "      <td>10460</td>\n",
              "      <td>19057</td>\n",
              "      <td>1457</td>\n",
              "      <td>1361</td>\n",
              "      <td>...</td>\n",
              "      <td>5</td>\n",
              "      <td>130.0</td>\n",
              "      <td>29.0</td>\n",
              "      <td>164</td>\n",
              "      <td>1</td>\n",
              "      <td>0</td>\n",
              "      <td>0</td>\n",
              "      <td>1</td>\n",
              "      <td>0</td>\n",
              "      <td>1</td>\n",
              "    </tr>\n",
              "    <tr>\n",
              "      <th>2</th>\n",
              "      <td>139441</td>\n",
              "      <td>3</td>\n",
              "      <td>12</td>\n",
              "      <td>3</td>\n",
              "      <td>3</td>\n",
              "      <td>0.0</td>\n",
              "      <td>2413</td>\n",
              "      <td>4373</td>\n",
              "      <td>177</td>\n",
              "      <td>113</td>\n",
              "      <td>...</td>\n",
              "      <td>0</td>\n",
              "      <td>66.0</td>\n",
              "      <td>14.0</td>\n",
              "      <td>80</td>\n",
              "      <td>0</td>\n",
              "      <td>0</td>\n",
              "      <td>1</td>\n",
              "      <td>0</td>\n",
              "      <td>0</td>\n",
              "      <td>0</td>\n",
              "    </tr>\n",
              "    <tr>\n",
              "      <th>3</th>\n",
              "      <td>139441</td>\n",
              "      <td>2</td>\n",
              "      <td>12</td>\n",
              "      <td>2</td>\n",
              "      <td>10</td>\n",
              "      <td>1.0</td>\n",
              "      <td>50128</td>\n",
              "      <td>87991</td>\n",
              "      <td>2211</td>\n",
              "      <td>790</td>\n",
              "      <td>...</td>\n",
              "      <td>58</td>\n",
              "      <td>1572.0</td>\n",
              "      <td>147.0</td>\n",
              "      <td>1777</td>\n",
              "      <td>0</td>\n",
              "      <td>0</td>\n",
              "      <td>1</td>\n",
              "      <td>0</td>\n",
              "      <td>0</td>\n",
              "      <td>1</td>\n",
              "    </tr>\n",
              "    <tr>\n",
              "      <th>4</th>\n",
              "      <td>139441</td>\n",
              "      <td>2</td>\n",
              "      <td>12</td>\n",
              "      <td>2</td>\n",
              "      <td>3</td>\n",
              "      <td>0.0</td>\n",
              "      <td>7244</td>\n",
              "      <td>13594</td>\n",
              "      <td>671</td>\n",
              "      <td>410</td>\n",
              "      <td>...</td>\n",
              "      <td>19</td>\n",
              "      <td>325.0</td>\n",
              "      <td>49.0</td>\n",
              "      <td>393</td>\n",
              "      <td>0</td>\n",
              "      <td>0</td>\n",
              "      <td>1</td>\n",
              "      <td>0</td>\n",
              "      <td>0</td>\n",
              "      <td>0</td>\n",
              "    </tr>\n",
              "    <tr>\n",
              "      <th>...</th>\n",
              "      <td>...</td>\n",
              "      <td>...</td>\n",
              "      <td>...</td>\n",
              "      <td>...</td>\n",
              "      <td>...</td>\n",
              "      <td>...</td>\n",
              "      <td>...</td>\n",
              "      <td>...</td>\n",
              "      <td>...</td>\n",
              "      <td>...</td>\n",
              "      <td>...</td>\n",
              "      <td>...</td>\n",
              "      <td>...</td>\n",
              "      <td>...</td>\n",
              "      <td>...</td>\n",
              "      <td>...</td>\n",
              "      <td>...</td>\n",
              "      <td>...</td>\n",
              "      <td>...</td>\n",
              "      <td>...</td>\n",
              "      <td>...</td>\n",
              "    </tr>\n",
              "    <tr>\n",
              "      <th>453</th>\n",
              "      <td>85093</td>\n",
              "      <td>3</td>\n",
              "      <td>1</td>\n",
              "      <td>7</td>\n",
              "      <td>10</td>\n",
              "      <td>0.0</td>\n",
              "      <td>5400</td>\n",
              "      <td>9218</td>\n",
              "      <td>810</td>\n",
              "      <td>756</td>\n",
              "      <td>...</td>\n",
              "      <td>10</td>\n",
              "      <td>125.0</td>\n",
              "      <td>41.0</td>\n",
              "      <td>176</td>\n",
              "      <td>0</td>\n",
              "      <td>0</td>\n",
              "      <td>1</td>\n",
              "      <td>0</td>\n",
              "      <td>0</td>\n",
              "      <td>1</td>\n",
              "    </tr>\n",
              "    <tr>\n",
              "      <th>454</th>\n",
              "      <td>85093</td>\n",
              "      <td>3</td>\n",
              "      <td>1</td>\n",
              "      <td>7</td>\n",
              "      <td>2</td>\n",
              "      <td>0.0</td>\n",
              "      <td>4684</td>\n",
              "      <td>7536</td>\n",
              "      <td>733</td>\n",
              "      <td>708</td>\n",
              "      <td>...</td>\n",
              "      <td>5</td>\n",
              "      <td>53.0</td>\n",
              "      <td>26.0</td>\n",
              "      <td>84</td>\n",
              "      <td>0</td>\n",
              "      <td>0</td>\n",
              "      <td>1</td>\n",
              "      <td>0</td>\n",
              "      <td>0</td>\n",
              "      <td>1</td>\n",
              "    </tr>\n",
              "    <tr>\n",
              "      <th>455</th>\n",
              "      <td>81370</td>\n",
              "      <td>2</td>\n",
              "      <td>1</td>\n",
              "      <td>5</td>\n",
              "      <td>8</td>\n",
              "      <td>0.0</td>\n",
              "      <td>3480</td>\n",
              "      <td>6229</td>\n",
              "      <td>537</td>\n",
              "      <td>508</td>\n",
              "      <td>...</td>\n",
              "      <td>0</td>\n",
              "      <td>53.0</td>\n",
              "      <td>22.0</td>\n",
              "      <td>75</td>\n",
              "      <td>0</td>\n",
              "      <td>0</td>\n",
              "      <td>1</td>\n",
              "      <td>0</td>\n",
              "      <td>0</td>\n",
              "      <td>0</td>\n",
              "    </tr>\n",
              "    <tr>\n",
              "      <th>456</th>\n",
              "      <td>81370</td>\n",
              "      <td>1</td>\n",
              "      <td>1</td>\n",
              "      <td>5</td>\n",
              "      <td>2</td>\n",
              "      <td>0.0</td>\n",
              "      <td>3778</td>\n",
              "      <td>7216</td>\n",
              "      <td>625</td>\n",
              "      <td>572</td>\n",
              "      <td>...</td>\n",
              "      <td>4</td>\n",
              "      <td>93.0</td>\n",
              "      <td>18.0</td>\n",
              "      <td>115</td>\n",
              "      <td>0</td>\n",
              "      <td>0</td>\n",
              "      <td>1</td>\n",
              "      <td>0</td>\n",
              "      <td>0</td>\n",
              "      <td>1</td>\n",
              "    </tr>\n",
              "    <tr>\n",
              "      <th>457</th>\n",
              "      <td>81370</td>\n",
              "      <td>3</td>\n",
              "      <td>1</td>\n",
              "      <td>4</td>\n",
              "      <td>11</td>\n",
              "      <td>0.0</td>\n",
              "      <td>4156</td>\n",
              "      <td>7564</td>\n",
              "      <td>626</td>\n",
              "      <td>574</td>\n",
              "      <td>...</td>\n",
              "      <td>7</td>\n",
              "      <td>91.0</td>\n",
              "      <td>38.0</td>\n",
              "      <td>136</td>\n",
              "      <td>0</td>\n",
              "      <td>0</td>\n",
              "      <td>1</td>\n",
              "      <td>0</td>\n",
              "      <td>0</td>\n",
              "      <td>1</td>\n",
              "    </tr>\n",
              "  </tbody>\n",
              "</table>\n",
              "<p>458 rows × 24 columns</p>\n",
              "</div>\n",
              "      <button class=\"colab-df-convert\" onclick=\"convertToInteractive('df-ac535557-f08f-4496-a2bd-d4db2cb04ced')\"\n",
              "              title=\"Convert this dataframe to an interactive table.\"\n",
              "              style=\"display:none;\">\n",
              "        \n",
              "  <svg xmlns=\"http://www.w3.org/2000/svg\" height=\"24px\"viewBox=\"0 0 24 24\"\n",
              "       width=\"24px\">\n",
              "    <path d=\"M0 0h24v24H0V0z\" fill=\"none\"/>\n",
              "    <path d=\"M18.56 5.44l.94 2.06.94-2.06 2.06-.94-2.06-.94-.94-2.06-.94 2.06-2.06.94zm-11 1L8.5 8.5l.94-2.06 2.06-.94-2.06-.94L8.5 2.5l-.94 2.06-2.06.94zm10 10l.94 2.06.94-2.06 2.06-.94-2.06-.94-.94-2.06-.94 2.06-2.06.94z\"/><path d=\"M17.41 7.96l-1.37-1.37c-.4-.4-.92-.59-1.43-.59-.52 0-1.04.2-1.43.59L10.3 9.45l-7.72 7.72c-.78.78-.78 2.05 0 2.83L4 21.41c.39.39.9.59 1.41.59.51 0 1.02-.2 1.41-.59l7.78-7.78 2.81-2.81c.8-.78.8-2.07 0-2.86zM5.41 20L4 18.59l7.72-7.72 1.47 1.35L5.41 20z\"/>\n",
              "  </svg>\n",
              "      </button>\n",
              "      \n",
              "  <style>\n",
              "    .colab-df-container {\n",
              "      display:flex;\n",
              "      flex-wrap:wrap;\n",
              "      gap: 12px;\n",
              "    }\n",
              "\n",
              "    .colab-df-convert {\n",
              "      background-color: #E8F0FE;\n",
              "      border: none;\n",
              "      border-radius: 50%;\n",
              "      cursor: pointer;\n",
              "      display: none;\n",
              "      fill: #1967D2;\n",
              "      height: 32px;\n",
              "      padding: 0 0 0 0;\n",
              "      width: 32px;\n",
              "    }\n",
              "\n",
              "    .colab-df-convert:hover {\n",
              "      background-color: #E2EBFA;\n",
              "      box-shadow: 0px 1px 2px rgba(60, 64, 67, 0.3), 0px 1px 3px 1px rgba(60, 64, 67, 0.15);\n",
              "      fill: #174EA6;\n",
              "    }\n",
              "\n",
              "    [theme=dark] .colab-df-convert {\n",
              "      background-color: #3B4455;\n",
              "      fill: #D2E3FC;\n",
              "    }\n",
              "\n",
              "    [theme=dark] .colab-df-convert:hover {\n",
              "      background-color: #434B5C;\n",
              "      box-shadow: 0px 1px 3px 1px rgba(0, 0, 0, 0.15);\n",
              "      filter: drop-shadow(0px 1px 2px rgba(0, 0, 0, 0.3));\n",
              "      fill: #FFFFFF;\n",
              "    }\n",
              "  </style>\n",
              "\n",
              "      <script>\n",
              "        const buttonEl =\n",
              "          document.querySelector('#df-ac535557-f08f-4496-a2bd-d4db2cb04ced button.colab-df-convert');\n",
              "        buttonEl.style.display =\n",
              "          google.colab.kernel.accessAllowed ? 'block' : 'none';\n",
              "\n",
              "        async function convertToInteractive(key) {\n",
              "          const element = document.querySelector('#df-ac535557-f08f-4496-a2bd-d4db2cb04ced');\n",
              "          const dataTable =\n",
              "            await google.colab.kernel.invokeFunction('convertToInteractive',\n",
              "                                                     [key], {});\n",
              "          if (!dataTable) return;\n",
              "\n",
              "          const docLinkHtml = 'Like what you see? Visit the ' +\n",
              "            '<a target=\"_blank\" href=https://colab.research.google.com/notebooks/data_table.ipynb>data table notebook</a>'\n",
              "            + ' to learn more about interactive tables.';\n",
              "          element.innerHTML = '';\n",
              "          dataTable['output_type'] = 'display_data';\n",
              "          await google.colab.output.renderOutput(dataTable, element);\n",
              "          const docLink = document.createElement('div');\n",
              "          docLink.innerHTML = docLinkHtml;\n",
              "          element.appendChild(docLink);\n",
              "        }\n",
              "      </script>\n",
              "    </div>\n",
              "  </div>\n",
              "  "
            ]
          },
          "metadata": {},
          "execution_count": 27
        }
      ]
    },
    {
      "cell_type": "code",
      "source": [
        "Facebook_second_version_cleaned.to_csv('CW2_Final dataset before splits to X and y.csv', index=False)"
      ],
      "metadata": {
        "id": "fvQ9BWbYpjJW"
      },
      "execution_count": 28,
      "outputs": []
    },
    {
      "cell_type": "code",
      "source": [
        "Facebook_second_version_cleaned.columns"
      ],
      "metadata": {
        "colab": {
          "base_uri": "https://localhost:8080/"
        },
        "id": "leJokRhH75bW",
        "outputId": "e29f565e-058b-4690-8466-d7ec692f5fe3"
      },
      "execution_count": 29,
      "outputs": [
        {
          "output_type": "execute_result",
          "data": {
            "text/plain": [
              "Index(['Page total likes', 'Category', 'Post Month', 'Post Weekday',\n",
              "       'Post Hour', 'Paid', 'Lifetime Post Total Reach',\n",
              "       'Lifetime Post Total Impressions', 'Lifetime Engaged Users',\n",
              "       'Lifetime Post Consumers', 'Lifetime Post Consumptions',\n",
              "       'Lifetime Post Impressions by people who have liked your Page',\n",
              "       'Lifetime Post reach by people who like your Page',\n",
              "       'Lifetime People who have liked your Page and engaged with your post',\n",
              "       'Comments', 'Likes', 'Shares', 'Total Interactions', 'Type to numeric',\n",
              "       'Type_Link', 'Type_Photo', 'Type_Status', 'Type_Video',\n",
              "       'Lifetime Post Consumers Categorized'],\n",
              "      dtype='object')"
            ]
          },
          "metadata": {},
          "execution_count": 29
        }
      ]
    },
    {
      "cell_type": "markdown",
      "source": [
        "Split the data into input and output with two ways"
      ],
      "metadata": {
        "id": "xkVvCSwSqtpD"
      }
    },
    {
      "cell_type": "markdown",
      "source": [
        "First way for spliting the data:"
      ],
      "metadata": {
        "id": "ma_Z5nVx2Df0"
      }
    },
    {
      "cell_type": "code",
      "source": [
        "feature_cols_for_input=['Page total likes','Category','Post Month','Post Weekday','Post Hour','Paid','Type to numeric']\n",
        "X = Facebook_second_version_cleaned[feature_cols_for_input]\n",
        "y = Facebook_second_version_cleaned['Lifetime Post Consumers Categorized']"
      ],
      "metadata": {
        "id": "JTPg80Zkq6gn"
      },
      "execution_count": 30,
      "outputs": []
    },
    {
      "cell_type": "code",
      "source": [
        "X"
      ],
      "metadata": {
        "colab": {
          "base_uri": "https://localhost:8080/",
          "height": 423
        },
        "id": "CifcsQXD-QWa",
        "outputId": "519cbe69-d69b-44fb-be17-2d331b12bf4f"
      },
      "execution_count": 31,
      "outputs": [
        {
          "output_type": "execute_result",
          "data": {
            "text/plain": [
              "     Page total likes  Category  Post Month  Post Weekday  Post Hour  Paid  \\\n",
              "0              139441         2          12             4          3   0.0   \n",
              "1              139441         2          12             3         10   0.0   \n",
              "2              139441         3          12             3          3   0.0   \n",
              "3              139441         2          12             2         10   1.0   \n",
              "4              139441         2          12             2          3   0.0   \n",
              "..                ...       ...         ...           ...        ...   ...   \n",
              "453             85093         3           1             7         10   0.0   \n",
              "454             85093         3           1             7          2   0.0   \n",
              "455             81370         2           1             5          8   0.0   \n",
              "456             81370         1           1             5          2   0.0   \n",
              "457             81370         3           1             4         11   0.0   \n",
              "\n",
              "     Type to numeric  \n",
              "0                  0  \n",
              "1                  1  \n",
              "2                  0  \n",
              "3                  0  \n",
              "4                  0  \n",
              "..               ...  \n",
              "453                0  \n",
              "454                0  \n",
              "455                0  \n",
              "456                0  \n",
              "457                0  \n",
              "\n",
              "[458 rows x 7 columns]"
            ],
            "text/html": [
              "\n",
              "  <div id=\"df-9f521088-12cf-43b0-9b0f-7f5bde41bffb\">\n",
              "    <div class=\"colab-df-container\">\n",
              "      <div>\n",
              "<style scoped>\n",
              "    .dataframe tbody tr th:only-of-type {\n",
              "        vertical-align: middle;\n",
              "    }\n",
              "\n",
              "    .dataframe tbody tr th {\n",
              "        vertical-align: top;\n",
              "    }\n",
              "\n",
              "    .dataframe thead th {\n",
              "        text-align: right;\n",
              "    }\n",
              "</style>\n",
              "<table border=\"1\" class=\"dataframe\">\n",
              "  <thead>\n",
              "    <tr style=\"text-align: right;\">\n",
              "      <th></th>\n",
              "      <th>Page total likes</th>\n",
              "      <th>Category</th>\n",
              "      <th>Post Month</th>\n",
              "      <th>Post Weekday</th>\n",
              "      <th>Post Hour</th>\n",
              "      <th>Paid</th>\n",
              "      <th>Type to numeric</th>\n",
              "    </tr>\n",
              "  </thead>\n",
              "  <tbody>\n",
              "    <tr>\n",
              "      <th>0</th>\n",
              "      <td>139441</td>\n",
              "      <td>2</td>\n",
              "      <td>12</td>\n",
              "      <td>4</td>\n",
              "      <td>3</td>\n",
              "      <td>0.0</td>\n",
              "      <td>0</td>\n",
              "    </tr>\n",
              "    <tr>\n",
              "      <th>1</th>\n",
              "      <td>139441</td>\n",
              "      <td>2</td>\n",
              "      <td>12</td>\n",
              "      <td>3</td>\n",
              "      <td>10</td>\n",
              "      <td>0.0</td>\n",
              "      <td>1</td>\n",
              "    </tr>\n",
              "    <tr>\n",
              "      <th>2</th>\n",
              "      <td>139441</td>\n",
              "      <td>3</td>\n",
              "      <td>12</td>\n",
              "      <td>3</td>\n",
              "      <td>3</td>\n",
              "      <td>0.0</td>\n",
              "      <td>0</td>\n",
              "    </tr>\n",
              "    <tr>\n",
              "      <th>3</th>\n",
              "      <td>139441</td>\n",
              "      <td>2</td>\n",
              "      <td>12</td>\n",
              "      <td>2</td>\n",
              "      <td>10</td>\n",
              "      <td>1.0</td>\n",
              "      <td>0</td>\n",
              "    </tr>\n",
              "    <tr>\n",
              "      <th>4</th>\n",
              "      <td>139441</td>\n",
              "      <td>2</td>\n",
              "      <td>12</td>\n",
              "      <td>2</td>\n",
              "      <td>3</td>\n",
              "      <td>0.0</td>\n",
              "      <td>0</td>\n",
              "    </tr>\n",
              "    <tr>\n",
              "      <th>...</th>\n",
              "      <td>...</td>\n",
              "      <td>...</td>\n",
              "      <td>...</td>\n",
              "      <td>...</td>\n",
              "      <td>...</td>\n",
              "      <td>...</td>\n",
              "      <td>...</td>\n",
              "    </tr>\n",
              "    <tr>\n",
              "      <th>453</th>\n",
              "      <td>85093</td>\n",
              "      <td>3</td>\n",
              "      <td>1</td>\n",
              "      <td>7</td>\n",
              "      <td>10</td>\n",
              "      <td>0.0</td>\n",
              "      <td>0</td>\n",
              "    </tr>\n",
              "    <tr>\n",
              "      <th>454</th>\n",
              "      <td>85093</td>\n",
              "      <td>3</td>\n",
              "      <td>1</td>\n",
              "      <td>7</td>\n",
              "      <td>2</td>\n",
              "      <td>0.0</td>\n",
              "      <td>0</td>\n",
              "    </tr>\n",
              "    <tr>\n",
              "      <th>455</th>\n",
              "      <td>81370</td>\n",
              "      <td>2</td>\n",
              "      <td>1</td>\n",
              "      <td>5</td>\n",
              "      <td>8</td>\n",
              "      <td>0.0</td>\n",
              "      <td>0</td>\n",
              "    </tr>\n",
              "    <tr>\n",
              "      <th>456</th>\n",
              "      <td>81370</td>\n",
              "      <td>1</td>\n",
              "      <td>1</td>\n",
              "      <td>5</td>\n",
              "      <td>2</td>\n",
              "      <td>0.0</td>\n",
              "      <td>0</td>\n",
              "    </tr>\n",
              "    <tr>\n",
              "      <th>457</th>\n",
              "      <td>81370</td>\n",
              "      <td>3</td>\n",
              "      <td>1</td>\n",
              "      <td>4</td>\n",
              "      <td>11</td>\n",
              "      <td>0.0</td>\n",
              "      <td>0</td>\n",
              "    </tr>\n",
              "  </tbody>\n",
              "</table>\n",
              "<p>458 rows × 7 columns</p>\n",
              "</div>\n",
              "      <button class=\"colab-df-convert\" onclick=\"convertToInteractive('df-9f521088-12cf-43b0-9b0f-7f5bde41bffb')\"\n",
              "              title=\"Convert this dataframe to an interactive table.\"\n",
              "              style=\"display:none;\">\n",
              "        \n",
              "  <svg xmlns=\"http://www.w3.org/2000/svg\" height=\"24px\"viewBox=\"0 0 24 24\"\n",
              "       width=\"24px\">\n",
              "    <path d=\"M0 0h24v24H0V0z\" fill=\"none\"/>\n",
              "    <path d=\"M18.56 5.44l.94 2.06.94-2.06 2.06-.94-2.06-.94-.94-2.06-.94 2.06-2.06.94zm-11 1L8.5 8.5l.94-2.06 2.06-.94-2.06-.94L8.5 2.5l-.94 2.06-2.06.94zm10 10l.94 2.06.94-2.06 2.06-.94-2.06-.94-.94-2.06-.94 2.06-2.06.94z\"/><path d=\"M17.41 7.96l-1.37-1.37c-.4-.4-.92-.59-1.43-.59-.52 0-1.04.2-1.43.59L10.3 9.45l-7.72 7.72c-.78.78-.78 2.05 0 2.83L4 21.41c.39.39.9.59 1.41.59.51 0 1.02-.2 1.41-.59l7.78-7.78 2.81-2.81c.8-.78.8-2.07 0-2.86zM5.41 20L4 18.59l7.72-7.72 1.47 1.35L5.41 20z\"/>\n",
              "  </svg>\n",
              "      </button>\n",
              "      \n",
              "  <style>\n",
              "    .colab-df-container {\n",
              "      display:flex;\n",
              "      flex-wrap:wrap;\n",
              "      gap: 12px;\n",
              "    }\n",
              "\n",
              "    .colab-df-convert {\n",
              "      background-color: #E8F0FE;\n",
              "      border: none;\n",
              "      border-radius: 50%;\n",
              "      cursor: pointer;\n",
              "      display: none;\n",
              "      fill: #1967D2;\n",
              "      height: 32px;\n",
              "      padding: 0 0 0 0;\n",
              "      width: 32px;\n",
              "    }\n",
              "\n",
              "    .colab-df-convert:hover {\n",
              "      background-color: #E2EBFA;\n",
              "      box-shadow: 0px 1px 2px rgba(60, 64, 67, 0.3), 0px 1px 3px 1px rgba(60, 64, 67, 0.15);\n",
              "      fill: #174EA6;\n",
              "    }\n",
              "\n",
              "    [theme=dark] .colab-df-convert {\n",
              "      background-color: #3B4455;\n",
              "      fill: #D2E3FC;\n",
              "    }\n",
              "\n",
              "    [theme=dark] .colab-df-convert:hover {\n",
              "      background-color: #434B5C;\n",
              "      box-shadow: 0px 1px 3px 1px rgba(0, 0, 0, 0.15);\n",
              "      filter: drop-shadow(0px 1px 2px rgba(0, 0, 0, 0.3));\n",
              "      fill: #FFFFFF;\n",
              "    }\n",
              "  </style>\n",
              "\n",
              "      <script>\n",
              "        const buttonEl =\n",
              "          document.querySelector('#df-9f521088-12cf-43b0-9b0f-7f5bde41bffb button.colab-df-convert');\n",
              "        buttonEl.style.display =\n",
              "          google.colab.kernel.accessAllowed ? 'block' : 'none';\n",
              "\n",
              "        async function convertToInteractive(key) {\n",
              "          const element = document.querySelector('#df-9f521088-12cf-43b0-9b0f-7f5bde41bffb');\n",
              "          const dataTable =\n",
              "            await google.colab.kernel.invokeFunction('convertToInteractive',\n",
              "                                                     [key], {});\n",
              "          if (!dataTable) return;\n",
              "\n",
              "          const docLinkHtml = 'Like what you see? Visit the ' +\n",
              "            '<a target=\"_blank\" href=https://colab.research.google.com/notebooks/data_table.ipynb>data table notebook</a>'\n",
              "            + ' to learn more about interactive tables.';\n",
              "          element.innerHTML = '';\n",
              "          dataTable['output_type'] = 'display_data';\n",
              "          await google.colab.output.renderOutput(dataTable, element);\n",
              "          const docLink = document.createElement('div');\n",
              "          docLink.innerHTML = docLinkHtml;\n",
              "          element.appendChild(docLink);\n",
              "        }\n",
              "      </script>\n",
              "    </div>\n",
              "  </div>\n",
              "  "
            ]
          },
          "metadata": {},
          "execution_count": 31
        }
      ]
    },
    {
      "cell_type": "code",
      "source": [
        "y"
      ],
      "metadata": {
        "colab": {
          "base_uri": "https://localhost:8080/"
        },
        "id": "gmw9Ar7g-S2R",
        "outputId": "57d54471-7661-47b9-ee64-7c32fbb2fa72"
      },
      "execution_count": 32,
      "outputs": [
        {
          "output_type": "execute_result",
          "data": {
            "text/plain": [
              "0      0\n",
              "1      1\n",
              "2      0\n",
              "3      1\n",
              "4      0\n",
              "      ..\n",
              "453    1\n",
              "454    1\n",
              "455    0\n",
              "456    1\n",
              "457    1\n",
              "Name: Lifetime Post Consumers Categorized, Length: 458, dtype: int64"
            ]
          },
          "metadata": {},
          "execution_count": 32
        }
      ]
    },
    {
      "cell_type": "markdown",
      "source": [
        "Second way for spliting the data:"
      ],
      "metadata": {
        "id": "DbPViN6x2G4l"
      }
    },
    {
      "cell_type": "code",
      "source": [
        "X = Facebook_second_version_cleaned.drop(columns=['Lifetime Post Total Reach',\n",
        "       'Lifetime Post Total Impressions', 'Lifetime Engaged Users',\n",
        "       'Lifetime Post Consumers', 'Lifetime Post Consumptions',\n",
        "       'Lifetime Post Impressions by people who have liked your Page',\n",
        "       'Lifetime Post reach by people who like your Page',\n",
        "       'Lifetime People who have liked your Page and engaged with your post',\n",
        "       'Comments', 'Likes', 'Shares', 'Total Interactions',\n",
        "       'Type_Link', 'Type_Photo', 'Type_Status', 'Type_Video',\n",
        "       'Lifetime Post Consumers Categorized'])\n",
        "y = Facebook_second_version_cleaned['Lifetime Post Consumers Categorized']"
      ],
      "metadata": {
        "id": "PZce6sHt2GJp"
      },
      "execution_count": 33,
      "outputs": []
    },
    {
      "cell_type": "code",
      "source": [
        "X"
      ],
      "metadata": {
        "colab": {
          "base_uri": "https://localhost:8080/",
          "height": 423
        },
        "id": "Bk141zh5-Y13",
        "outputId": "48e3a89a-fcd2-4476-a1dc-d7c07115be20"
      },
      "execution_count": 34,
      "outputs": [
        {
          "output_type": "execute_result",
          "data": {
            "text/plain": [
              "     Page total likes  Category  Post Month  Post Weekday  Post Hour  Paid  \\\n",
              "0              139441         2          12             4          3   0.0   \n",
              "1              139441         2          12             3         10   0.0   \n",
              "2              139441         3          12             3          3   0.0   \n",
              "3              139441         2          12             2         10   1.0   \n",
              "4              139441         2          12             2          3   0.0   \n",
              "..                ...       ...         ...           ...        ...   ...   \n",
              "453             85093         3           1             7         10   0.0   \n",
              "454             85093         3           1             7          2   0.0   \n",
              "455             81370         2           1             5          8   0.0   \n",
              "456             81370         1           1             5          2   0.0   \n",
              "457             81370         3           1             4         11   0.0   \n",
              "\n",
              "     Type to numeric  \n",
              "0                  0  \n",
              "1                  1  \n",
              "2                  0  \n",
              "3                  0  \n",
              "4                  0  \n",
              "..               ...  \n",
              "453                0  \n",
              "454                0  \n",
              "455                0  \n",
              "456                0  \n",
              "457                0  \n",
              "\n",
              "[458 rows x 7 columns]"
            ],
            "text/html": [
              "\n",
              "  <div id=\"df-a27a107e-ee9b-451d-bc1c-e5af7fcd497e\">\n",
              "    <div class=\"colab-df-container\">\n",
              "      <div>\n",
              "<style scoped>\n",
              "    .dataframe tbody tr th:only-of-type {\n",
              "        vertical-align: middle;\n",
              "    }\n",
              "\n",
              "    .dataframe tbody tr th {\n",
              "        vertical-align: top;\n",
              "    }\n",
              "\n",
              "    .dataframe thead th {\n",
              "        text-align: right;\n",
              "    }\n",
              "</style>\n",
              "<table border=\"1\" class=\"dataframe\">\n",
              "  <thead>\n",
              "    <tr style=\"text-align: right;\">\n",
              "      <th></th>\n",
              "      <th>Page total likes</th>\n",
              "      <th>Category</th>\n",
              "      <th>Post Month</th>\n",
              "      <th>Post Weekday</th>\n",
              "      <th>Post Hour</th>\n",
              "      <th>Paid</th>\n",
              "      <th>Type to numeric</th>\n",
              "    </tr>\n",
              "  </thead>\n",
              "  <tbody>\n",
              "    <tr>\n",
              "      <th>0</th>\n",
              "      <td>139441</td>\n",
              "      <td>2</td>\n",
              "      <td>12</td>\n",
              "      <td>4</td>\n",
              "      <td>3</td>\n",
              "      <td>0.0</td>\n",
              "      <td>0</td>\n",
              "    </tr>\n",
              "    <tr>\n",
              "      <th>1</th>\n",
              "      <td>139441</td>\n",
              "      <td>2</td>\n",
              "      <td>12</td>\n",
              "      <td>3</td>\n",
              "      <td>10</td>\n",
              "      <td>0.0</td>\n",
              "      <td>1</td>\n",
              "    </tr>\n",
              "    <tr>\n",
              "      <th>2</th>\n",
              "      <td>139441</td>\n",
              "      <td>3</td>\n",
              "      <td>12</td>\n",
              "      <td>3</td>\n",
              "      <td>3</td>\n",
              "      <td>0.0</td>\n",
              "      <td>0</td>\n",
              "    </tr>\n",
              "    <tr>\n",
              "      <th>3</th>\n",
              "      <td>139441</td>\n",
              "      <td>2</td>\n",
              "      <td>12</td>\n",
              "      <td>2</td>\n",
              "      <td>10</td>\n",
              "      <td>1.0</td>\n",
              "      <td>0</td>\n",
              "    </tr>\n",
              "    <tr>\n",
              "      <th>4</th>\n",
              "      <td>139441</td>\n",
              "      <td>2</td>\n",
              "      <td>12</td>\n",
              "      <td>2</td>\n",
              "      <td>3</td>\n",
              "      <td>0.0</td>\n",
              "      <td>0</td>\n",
              "    </tr>\n",
              "    <tr>\n",
              "      <th>...</th>\n",
              "      <td>...</td>\n",
              "      <td>...</td>\n",
              "      <td>...</td>\n",
              "      <td>...</td>\n",
              "      <td>...</td>\n",
              "      <td>...</td>\n",
              "      <td>...</td>\n",
              "    </tr>\n",
              "    <tr>\n",
              "      <th>453</th>\n",
              "      <td>85093</td>\n",
              "      <td>3</td>\n",
              "      <td>1</td>\n",
              "      <td>7</td>\n",
              "      <td>10</td>\n",
              "      <td>0.0</td>\n",
              "      <td>0</td>\n",
              "    </tr>\n",
              "    <tr>\n",
              "      <th>454</th>\n",
              "      <td>85093</td>\n",
              "      <td>3</td>\n",
              "      <td>1</td>\n",
              "      <td>7</td>\n",
              "      <td>2</td>\n",
              "      <td>0.0</td>\n",
              "      <td>0</td>\n",
              "    </tr>\n",
              "    <tr>\n",
              "      <th>455</th>\n",
              "      <td>81370</td>\n",
              "      <td>2</td>\n",
              "      <td>1</td>\n",
              "      <td>5</td>\n",
              "      <td>8</td>\n",
              "      <td>0.0</td>\n",
              "      <td>0</td>\n",
              "    </tr>\n",
              "    <tr>\n",
              "      <th>456</th>\n",
              "      <td>81370</td>\n",
              "      <td>1</td>\n",
              "      <td>1</td>\n",
              "      <td>5</td>\n",
              "      <td>2</td>\n",
              "      <td>0.0</td>\n",
              "      <td>0</td>\n",
              "    </tr>\n",
              "    <tr>\n",
              "      <th>457</th>\n",
              "      <td>81370</td>\n",
              "      <td>3</td>\n",
              "      <td>1</td>\n",
              "      <td>4</td>\n",
              "      <td>11</td>\n",
              "      <td>0.0</td>\n",
              "      <td>0</td>\n",
              "    </tr>\n",
              "  </tbody>\n",
              "</table>\n",
              "<p>458 rows × 7 columns</p>\n",
              "</div>\n",
              "      <button class=\"colab-df-convert\" onclick=\"convertToInteractive('df-a27a107e-ee9b-451d-bc1c-e5af7fcd497e')\"\n",
              "              title=\"Convert this dataframe to an interactive table.\"\n",
              "              style=\"display:none;\">\n",
              "        \n",
              "  <svg xmlns=\"http://www.w3.org/2000/svg\" height=\"24px\"viewBox=\"0 0 24 24\"\n",
              "       width=\"24px\">\n",
              "    <path d=\"M0 0h24v24H0V0z\" fill=\"none\"/>\n",
              "    <path d=\"M18.56 5.44l.94 2.06.94-2.06 2.06-.94-2.06-.94-.94-2.06-.94 2.06-2.06.94zm-11 1L8.5 8.5l.94-2.06 2.06-.94-2.06-.94L8.5 2.5l-.94 2.06-2.06.94zm10 10l.94 2.06.94-2.06 2.06-.94-2.06-.94-.94-2.06-.94 2.06-2.06.94z\"/><path d=\"M17.41 7.96l-1.37-1.37c-.4-.4-.92-.59-1.43-.59-.52 0-1.04.2-1.43.59L10.3 9.45l-7.72 7.72c-.78.78-.78 2.05 0 2.83L4 21.41c.39.39.9.59 1.41.59.51 0 1.02-.2 1.41-.59l7.78-7.78 2.81-2.81c.8-.78.8-2.07 0-2.86zM5.41 20L4 18.59l7.72-7.72 1.47 1.35L5.41 20z\"/>\n",
              "  </svg>\n",
              "      </button>\n",
              "      \n",
              "  <style>\n",
              "    .colab-df-container {\n",
              "      display:flex;\n",
              "      flex-wrap:wrap;\n",
              "      gap: 12px;\n",
              "    }\n",
              "\n",
              "    .colab-df-convert {\n",
              "      background-color: #E8F0FE;\n",
              "      border: none;\n",
              "      border-radius: 50%;\n",
              "      cursor: pointer;\n",
              "      display: none;\n",
              "      fill: #1967D2;\n",
              "      height: 32px;\n",
              "      padding: 0 0 0 0;\n",
              "      width: 32px;\n",
              "    }\n",
              "\n",
              "    .colab-df-convert:hover {\n",
              "      background-color: #E2EBFA;\n",
              "      box-shadow: 0px 1px 2px rgba(60, 64, 67, 0.3), 0px 1px 3px 1px rgba(60, 64, 67, 0.15);\n",
              "      fill: #174EA6;\n",
              "    }\n",
              "\n",
              "    [theme=dark] .colab-df-convert {\n",
              "      background-color: #3B4455;\n",
              "      fill: #D2E3FC;\n",
              "    }\n",
              "\n",
              "    [theme=dark] .colab-df-convert:hover {\n",
              "      background-color: #434B5C;\n",
              "      box-shadow: 0px 1px 3px 1px rgba(0, 0, 0, 0.15);\n",
              "      filter: drop-shadow(0px 1px 2px rgba(0, 0, 0, 0.3));\n",
              "      fill: #FFFFFF;\n",
              "    }\n",
              "  </style>\n",
              "\n",
              "      <script>\n",
              "        const buttonEl =\n",
              "          document.querySelector('#df-a27a107e-ee9b-451d-bc1c-e5af7fcd497e button.colab-df-convert');\n",
              "        buttonEl.style.display =\n",
              "          google.colab.kernel.accessAllowed ? 'block' : 'none';\n",
              "\n",
              "        async function convertToInteractive(key) {\n",
              "          const element = document.querySelector('#df-a27a107e-ee9b-451d-bc1c-e5af7fcd497e');\n",
              "          const dataTable =\n",
              "            await google.colab.kernel.invokeFunction('convertToInteractive',\n",
              "                                                     [key], {});\n",
              "          if (!dataTable) return;\n",
              "\n",
              "          const docLinkHtml = 'Like what you see? Visit the ' +\n",
              "            '<a target=\"_blank\" href=https://colab.research.google.com/notebooks/data_table.ipynb>data table notebook</a>'\n",
              "            + ' to learn more about interactive tables.';\n",
              "          element.innerHTML = '';\n",
              "          dataTable['output_type'] = 'display_data';\n",
              "          await google.colab.output.renderOutput(dataTable, element);\n",
              "          const docLink = document.createElement('div');\n",
              "          docLink.innerHTML = docLinkHtml;\n",
              "          element.appendChild(docLink);\n",
              "        }\n",
              "      </script>\n",
              "    </div>\n",
              "  </div>\n",
              "  "
            ]
          },
          "metadata": {},
          "execution_count": 34
        }
      ]
    },
    {
      "cell_type": "code",
      "source": [
        "y"
      ],
      "metadata": {
        "colab": {
          "base_uri": "https://localhost:8080/"
        },
        "id": "O3LUf4Io-cqv",
        "outputId": "fe53d34a-b794-4b02-e8ad-d014534bdb2a"
      },
      "execution_count": 35,
      "outputs": [
        {
          "output_type": "execute_result",
          "data": {
            "text/plain": [
              "0      0\n",
              "1      1\n",
              "2      0\n",
              "3      1\n",
              "4      0\n",
              "      ..\n",
              "453    1\n",
              "454    1\n",
              "455    0\n",
              "456    1\n",
              "457    1\n",
              "Name: Lifetime Post Consumers Categorized, Length: 458, dtype: int64"
            ]
          },
          "metadata": {},
          "execution_count": 35
        }
      ]
    },
    {
      "cell_type": "markdown",
      "source": [
        "Scaling the input before doing analysis"
      ],
      "metadata": {
        "id": "hzUBGrnn3o0R"
      }
    },
    {
      "cell_type": "code",
      "source": [
        "from sklearn.preprocessing import StandardScaler\n",
        "scaler = StandardScaler()\n",
        "X_scaled = scaler.fit_transform(X)"
      ],
      "metadata": {
        "id": "S2P3csIp3oR4"
      },
      "execution_count": 36,
      "outputs": []
    },
    {
      "cell_type": "markdown",
      "source": [
        "Split input and output into training and testing data set with holdout method"
      ],
      "metadata": {
        "id": "AjXDHEy53XTZ"
      }
    },
    {
      "cell_type": "code",
      "source": [
        "from sklearn.model_selection import train_test_split\n",
        "X_train, X_test, y_train, y_test = train_test_split(X_scaled, y, test_size=0.3, random_state=1,stratify=y)"
      ],
      "metadata": {
        "id": "cMOxDvWv3dMg"
      },
      "execution_count": 37,
      "outputs": []
    },
    {
      "cell_type": "markdown",
      "source": [
        "Split the data with the help of K-fold method"
      ],
      "metadata": {
        "id": "xAu5W4vSxHoW"
      }
    },
    {
      "cell_type": "code",
      "source": [
        "\n",
        "kf= KFold(n_splits=5)\n",
        "kf.get_n_splits(X)\n",
        "print(kf)\n",
        "KFold(n_splits=10, random_state=None,shuffle=False)\n",
        "for train_index, test_index in kf.split(X):\n",
        "  print(\"TRAIN:\", train_index, \"TEST\", test_index)\n",
        "  X_train_kfold, X_test_kfold= X_scaled[train_index], X_scaled[test_index]\n",
        "  y_train_kfold, y_test_kfold= y[train_index], y[test_index]"
      ],
      "metadata": {
        "colab": {
          "base_uri": "https://localhost:8080/"
        },
        "id": "TZxBhTR7xGzz",
        "outputId": "057049dc-b6fa-4617-aa1a-21722de7df2e"
      },
      "execution_count": 38,
      "outputs": [
        {
          "output_type": "stream",
          "name": "stdout",
          "text": [
            "KFold(n_splits=5, random_state=None, shuffle=False)\n",
            "TRAIN: [ 92  93  94  95  96  97  98  99 100 101 102 103 104 105 106 107 108 109\n",
            " 110 111 112 113 114 115 116 117 118 119 120 121 122 123 124 125 126 127\n",
            " 128 129 130 131 132 133 134 135 136 137 138 139 140 141 142 143 144 145\n",
            " 146 147 148 149 150 151 152 153 154 155 156 157 158 159 160 161 162 163\n",
            " 164 165 166 167 168 169 170 171 172 173 174 175 176 177 178 179 180 181\n",
            " 182 183 184 185 186 187 188 189 190 191 192 193 194 195 196 197 198 199\n",
            " 200 201 202 203 204 205 206 207 208 209 210 211 212 213 214 215 216 217\n",
            " 218 219 220 221 222 223 224 225 226 227 228 229 230 231 232 233 234 235\n",
            " 236 237 238 239 240 241 242 243 244 245 246 247 248 249 250 251 252 253\n",
            " 254 255 256 257 258 259 260 261 262 263 264 265 266 267 268 269 270 271\n",
            " 272 273 274 275 276 277 278 279 280 281 282 283 284 285 286 287 288 289\n",
            " 290 291 292 293 294 295 296 297 298 299 300 301 302 303 304 305 306 307\n",
            " 308 309 310 311 312 313 314 315 316 317 318 319 320 321 322 323 324 325\n",
            " 326 327 328 329 330 331 332 333 334 335 336 337 338 339 340 341 342 343\n",
            " 344 345 346 347 348 349 350 351 352 353 354 355 356 357 358 359 360 361\n",
            " 362 363 364 365 366 367 368 369 370 371 372 373 374 375 376 377 378 379\n",
            " 380 381 382 383 384 385 386 387 388 389 390 391 392 393 394 395 396 397\n",
            " 398 399 400 401 402 403 404 405 406 407 408 409 410 411 412 413 414 415\n",
            " 416 417 418 419 420 421 422 423 424 425 426 427 428 429 430 431 432 433\n",
            " 434 435 436 437 438 439 440 441 442 443 444 445 446 447 448 449 450 451\n",
            " 452 453 454 455 456 457] TEST [ 0  1  2  3  4  5  6  7  8  9 10 11 12 13 14 15 16 17 18 19 20 21 22 23\n",
            " 24 25 26 27 28 29 30 31 32 33 34 35 36 37 38 39 40 41 42 43 44 45 46 47\n",
            " 48 49 50 51 52 53 54 55 56 57 58 59 60 61 62 63 64 65 66 67 68 69 70 71\n",
            " 72 73 74 75 76 77 78 79 80 81 82 83 84 85 86 87 88 89 90 91]\n",
            "TRAIN: [  0   1   2   3   4   5   6   7   8   9  10  11  12  13  14  15  16  17\n",
            "  18  19  20  21  22  23  24  25  26  27  28  29  30  31  32  33  34  35\n",
            "  36  37  38  39  40  41  42  43  44  45  46  47  48  49  50  51  52  53\n",
            "  54  55  56  57  58  59  60  61  62  63  64  65  66  67  68  69  70  71\n",
            "  72  73  74  75  76  77  78  79  80  81  82  83  84  85  86  87  88  89\n",
            "  90  91 184 185 186 187 188 189 190 191 192 193 194 195 196 197 198 199\n",
            " 200 201 202 203 204 205 206 207 208 209 210 211 212 213 214 215 216 217\n",
            " 218 219 220 221 222 223 224 225 226 227 228 229 230 231 232 233 234 235\n",
            " 236 237 238 239 240 241 242 243 244 245 246 247 248 249 250 251 252 253\n",
            " 254 255 256 257 258 259 260 261 262 263 264 265 266 267 268 269 270 271\n",
            " 272 273 274 275 276 277 278 279 280 281 282 283 284 285 286 287 288 289\n",
            " 290 291 292 293 294 295 296 297 298 299 300 301 302 303 304 305 306 307\n",
            " 308 309 310 311 312 313 314 315 316 317 318 319 320 321 322 323 324 325\n",
            " 326 327 328 329 330 331 332 333 334 335 336 337 338 339 340 341 342 343\n",
            " 344 345 346 347 348 349 350 351 352 353 354 355 356 357 358 359 360 361\n",
            " 362 363 364 365 366 367 368 369 370 371 372 373 374 375 376 377 378 379\n",
            " 380 381 382 383 384 385 386 387 388 389 390 391 392 393 394 395 396 397\n",
            " 398 399 400 401 402 403 404 405 406 407 408 409 410 411 412 413 414 415\n",
            " 416 417 418 419 420 421 422 423 424 425 426 427 428 429 430 431 432 433\n",
            " 434 435 436 437 438 439 440 441 442 443 444 445 446 447 448 449 450 451\n",
            " 452 453 454 455 456 457] TEST [ 92  93  94  95  96  97  98  99 100 101 102 103 104 105 106 107 108 109\n",
            " 110 111 112 113 114 115 116 117 118 119 120 121 122 123 124 125 126 127\n",
            " 128 129 130 131 132 133 134 135 136 137 138 139 140 141 142 143 144 145\n",
            " 146 147 148 149 150 151 152 153 154 155 156 157 158 159 160 161 162 163\n",
            " 164 165 166 167 168 169 170 171 172 173 174 175 176 177 178 179 180 181\n",
            " 182 183]\n",
            "TRAIN: [  0   1   2   3   4   5   6   7   8   9  10  11  12  13  14  15  16  17\n",
            "  18  19  20  21  22  23  24  25  26  27  28  29  30  31  32  33  34  35\n",
            "  36  37  38  39  40  41  42  43  44  45  46  47  48  49  50  51  52  53\n",
            "  54  55  56  57  58  59  60  61  62  63  64  65  66  67  68  69  70  71\n",
            "  72  73  74  75  76  77  78  79  80  81  82  83  84  85  86  87  88  89\n",
            "  90  91  92  93  94  95  96  97  98  99 100 101 102 103 104 105 106 107\n",
            " 108 109 110 111 112 113 114 115 116 117 118 119 120 121 122 123 124 125\n",
            " 126 127 128 129 130 131 132 133 134 135 136 137 138 139 140 141 142 143\n",
            " 144 145 146 147 148 149 150 151 152 153 154 155 156 157 158 159 160 161\n",
            " 162 163 164 165 166 167 168 169 170 171 172 173 174 175 176 177 178 179\n",
            " 180 181 182 183 276 277 278 279 280 281 282 283 284 285 286 287 288 289\n",
            " 290 291 292 293 294 295 296 297 298 299 300 301 302 303 304 305 306 307\n",
            " 308 309 310 311 312 313 314 315 316 317 318 319 320 321 322 323 324 325\n",
            " 326 327 328 329 330 331 332 333 334 335 336 337 338 339 340 341 342 343\n",
            " 344 345 346 347 348 349 350 351 352 353 354 355 356 357 358 359 360 361\n",
            " 362 363 364 365 366 367 368 369 370 371 372 373 374 375 376 377 378 379\n",
            " 380 381 382 383 384 385 386 387 388 389 390 391 392 393 394 395 396 397\n",
            " 398 399 400 401 402 403 404 405 406 407 408 409 410 411 412 413 414 415\n",
            " 416 417 418 419 420 421 422 423 424 425 426 427 428 429 430 431 432 433\n",
            " 434 435 436 437 438 439 440 441 442 443 444 445 446 447 448 449 450 451\n",
            " 452 453 454 455 456 457] TEST [184 185 186 187 188 189 190 191 192 193 194 195 196 197 198 199 200 201\n",
            " 202 203 204 205 206 207 208 209 210 211 212 213 214 215 216 217 218 219\n",
            " 220 221 222 223 224 225 226 227 228 229 230 231 232 233 234 235 236 237\n",
            " 238 239 240 241 242 243 244 245 246 247 248 249 250 251 252 253 254 255\n",
            " 256 257 258 259 260 261 262 263 264 265 266 267 268 269 270 271 272 273\n",
            " 274 275]\n",
            "TRAIN: [  0   1   2   3   4   5   6   7   8   9  10  11  12  13  14  15  16  17\n",
            "  18  19  20  21  22  23  24  25  26  27  28  29  30  31  32  33  34  35\n",
            "  36  37  38  39  40  41  42  43  44  45  46  47  48  49  50  51  52  53\n",
            "  54  55  56  57  58  59  60  61  62  63  64  65  66  67  68  69  70  71\n",
            "  72  73  74  75  76  77  78  79  80  81  82  83  84  85  86  87  88  89\n",
            "  90  91  92  93  94  95  96  97  98  99 100 101 102 103 104 105 106 107\n",
            " 108 109 110 111 112 113 114 115 116 117 118 119 120 121 122 123 124 125\n",
            " 126 127 128 129 130 131 132 133 134 135 136 137 138 139 140 141 142 143\n",
            " 144 145 146 147 148 149 150 151 152 153 154 155 156 157 158 159 160 161\n",
            " 162 163 164 165 166 167 168 169 170 171 172 173 174 175 176 177 178 179\n",
            " 180 181 182 183 184 185 186 187 188 189 190 191 192 193 194 195 196 197\n",
            " 198 199 200 201 202 203 204 205 206 207 208 209 210 211 212 213 214 215\n",
            " 216 217 218 219 220 221 222 223 224 225 226 227 228 229 230 231 232 233\n",
            " 234 235 236 237 238 239 240 241 242 243 244 245 246 247 248 249 250 251\n",
            " 252 253 254 255 256 257 258 259 260 261 262 263 264 265 266 267 268 269\n",
            " 270 271 272 273 274 275 367 368 369 370 371 372 373 374 375 376 377 378\n",
            " 379 380 381 382 383 384 385 386 387 388 389 390 391 392 393 394 395 396\n",
            " 397 398 399 400 401 402 403 404 405 406 407 408 409 410 411 412 413 414\n",
            " 415 416 417 418 419 420 421 422 423 424 425 426 427 428 429 430 431 432\n",
            " 433 434 435 436 437 438 439 440 441 442 443 444 445 446 447 448 449 450\n",
            " 451 452 453 454 455 456 457] TEST [276 277 278 279 280 281 282 283 284 285 286 287 288 289 290 291 292 293\n",
            " 294 295 296 297 298 299 300 301 302 303 304 305 306 307 308 309 310 311\n",
            " 312 313 314 315 316 317 318 319 320 321 322 323 324 325 326 327 328 329\n",
            " 330 331 332 333 334 335 336 337 338 339 340 341 342 343 344 345 346 347\n",
            " 348 349 350 351 352 353 354 355 356 357 358 359 360 361 362 363 364 365\n",
            " 366]\n",
            "TRAIN: [  0   1   2   3   4   5   6   7   8   9  10  11  12  13  14  15  16  17\n",
            "  18  19  20  21  22  23  24  25  26  27  28  29  30  31  32  33  34  35\n",
            "  36  37  38  39  40  41  42  43  44  45  46  47  48  49  50  51  52  53\n",
            "  54  55  56  57  58  59  60  61  62  63  64  65  66  67  68  69  70  71\n",
            "  72  73  74  75  76  77  78  79  80  81  82  83  84  85  86  87  88  89\n",
            "  90  91  92  93  94  95  96  97  98  99 100 101 102 103 104 105 106 107\n",
            " 108 109 110 111 112 113 114 115 116 117 118 119 120 121 122 123 124 125\n",
            " 126 127 128 129 130 131 132 133 134 135 136 137 138 139 140 141 142 143\n",
            " 144 145 146 147 148 149 150 151 152 153 154 155 156 157 158 159 160 161\n",
            " 162 163 164 165 166 167 168 169 170 171 172 173 174 175 176 177 178 179\n",
            " 180 181 182 183 184 185 186 187 188 189 190 191 192 193 194 195 196 197\n",
            " 198 199 200 201 202 203 204 205 206 207 208 209 210 211 212 213 214 215\n",
            " 216 217 218 219 220 221 222 223 224 225 226 227 228 229 230 231 232 233\n",
            " 234 235 236 237 238 239 240 241 242 243 244 245 246 247 248 249 250 251\n",
            " 252 253 254 255 256 257 258 259 260 261 262 263 264 265 266 267 268 269\n",
            " 270 271 272 273 274 275 276 277 278 279 280 281 282 283 284 285 286 287\n",
            " 288 289 290 291 292 293 294 295 296 297 298 299 300 301 302 303 304 305\n",
            " 306 307 308 309 310 311 312 313 314 315 316 317 318 319 320 321 322 323\n",
            " 324 325 326 327 328 329 330 331 332 333 334 335 336 337 338 339 340 341\n",
            " 342 343 344 345 346 347 348 349 350 351 352 353 354 355 356 357 358 359\n",
            " 360 361 362 363 364 365 366] TEST [367 368 369 370 371 372 373 374 375 376 377 378 379 380 381 382 383 384\n",
            " 385 386 387 388 389 390 391 392 393 394 395 396 397 398 399 400 401 402\n",
            " 403 404 405 406 407 408 409 410 411 412 413 414 415 416 417 418 419 420\n",
            " 421 422 423 424 425 426 427 428 429 430 431 432 433 434 435 436 437 438\n",
            " 439 440 441 442 443 444 445 446 447 448 449 450 451 452 453 454 455 456\n",
            " 457]\n"
          ]
        }
      ]
    },
    {
      "cell_type": "markdown",
      "source": [
        "Building our models"
      ],
      "metadata": {
        "id": "fgmb52RD-wWH"
      }
    },
    {
      "cell_type": "markdown",
      "source": [
        "First Building the KNN classifier"
      ],
      "metadata": {
        "id": "_FrS1S10_D9n"
      }
    },
    {
      "cell_type": "code",
      "source": [
        "knn_model = KNeighborsClassifier(n_neighbors=3)\n",
        "# Train the model\n",
        "knn_model.fit(X_train, y_train)\n",
        "#predict test data\n",
        "y_pred_knn = knn_model.predict(X_test)"
      ],
      "metadata": {
        "id": "FlRa77Gn_DGp"
      },
      "execution_count": 39,
      "outputs": []
    },
    {
      "cell_type": "markdown",
      "source": [
        "Check the scores of our KNN classifier"
      ],
      "metadata": {
        "id": "MSW-a4vmAChA"
      }
    },
    {
      "cell_type": "code",
      "source": [
        "knn_score = accuracy_score(y_test, y_pred_knn)\n",
        "print(\"Accuracy score (KNN): \", knn_score)\n",
        "print(\"Precision (KNN): \", metrics.precision_score(y_test,y_pred_knn))\n",
        "print(\"Recal(KNN): \", metrics.recall_score(y_test,y_pred_knn))"
      ],
      "metadata": {
        "colab": {
          "base_uri": "https://localhost:8080/"
        },
        "id": "BtL6hfmlACCn",
        "outputId": "a4487f3d-f09d-4a8a-c045-4c42d9caef17"
      },
      "execution_count": 40,
      "outputs": [
        {
          "output_type": "stream",
          "name": "stdout",
          "text": [
            "Accuracy score (KNN):  0.7608695652173914\n",
            "Precision (KNN):  0.7571428571428571\n",
            "Recal(KNN):  0.7681159420289855\n"
          ]
        }
      ]
    },
    {
      "cell_type": "markdown",
      "source": [
        "Lets see the confusion metrics for KNN model"
      ],
      "metadata": {
        "id": "ABUCGxuwCXI_"
      }
    },
    {
      "cell_type": "code",
      "source": [
        "cm1 = confusion_matrix(y_test, y_pred_knn)\n",
        "cm1"
      ],
      "metadata": {
        "colab": {
          "base_uri": "https://localhost:8080/"
        },
        "id": "EYqAn1tACVro",
        "outputId": "c7985a1a-3fc8-4e5f-9f9e-dde50314d4b5"
      },
      "execution_count": 41,
      "outputs": [
        {
          "output_type": "execute_result",
          "data": {
            "text/plain": [
              "array([[52, 17],\n",
              "       [16, 53]])"
            ]
          },
          "metadata": {},
          "execution_count": 41
        }
      ]
    },
    {
      "cell_type": "markdown",
      "source": [
        "knn classification report"
      ],
      "metadata": {
        "id": "TpV0E_lZIgSQ"
      }
    },
    {
      "cell_type": "code",
      "source": [
        "print(classification_report(y_test, y_pred_knn)) "
      ],
      "metadata": {
        "colab": {
          "base_uri": "https://localhost:8080/"
        },
        "id": "M-NsRu-cIfTP",
        "outputId": "97c74766-f950-4e47-b66a-02d0d219c816"
      },
      "execution_count": 42,
      "outputs": [
        {
          "output_type": "stream",
          "name": "stdout",
          "text": [
            "              precision    recall  f1-score   support\n",
            "\n",
            "           0       0.76      0.75      0.76        69\n",
            "           1       0.76      0.77      0.76        69\n",
            "\n",
            "    accuracy                           0.76       138\n",
            "   macro avg       0.76      0.76      0.76       138\n",
            "weighted avg       0.76      0.76      0.76       138\n",
            "\n"
          ]
        }
      ]
    },
    {
      "cell_type": "markdown",
      "source": [
        "Now lets create our KNN model and get all the reports with the K-fold test and train data"
      ],
      "metadata": {
        "id": "hhPGadO9HTuo"
      }
    },
    {
      "cell_type": "code",
      "source": [
        "knn_model_with_kfold = KNeighborsClassifier(n_neighbors=3)\n",
        "# Train the model\n",
        "knn_model_with_kfold.fit(X_train_kfold, y_train_kfold)\n",
        "#predict test data\n",
        "y_pred_knn_kfold = knn_model_with_kfold.predict(X_test_kfold)\n",
        "knn_score_kfold = accuracy_score(y_test_kfold, y_pred_knn_kfold)\n",
        "print(\"Accuracy score with kfold split (KNN): \", knn_score_kfold)"
      ],
      "metadata": {
        "colab": {
          "base_uri": "https://localhost:8080/"
        },
        "id": "LKJdYx9mH141",
        "outputId": "9705c6e0-6776-48f8-952b-c29709790ee8"
      },
      "execution_count": 43,
      "outputs": [
        {
          "output_type": "stream",
          "name": "stdout",
          "text": [
            "Accuracy score with kfold split (KNN):  0.7032967032967034\n"
          ]
        }
      ]
    },
    {
      "cell_type": "markdown",
      "source": [
        "Now lets do the same for our logistic regression clasifier"
      ],
      "metadata": {
        "id": "9DUJu-jMJj4H"
      }
    },
    {
      "cell_type": "markdown",
      "source": [
        "Create and fit the model and predict the output for the test data"
      ],
      "metadata": {
        "id": "fKPL1lL_Jzn4"
      }
    },
    {
      "cell_type": "code",
      "source": [
        "log_model = LogisticRegression()\n",
        "log_model.fit(X_train, y_train)\n",
        "y_pred_log = log_model.predict(X_test)"
      ],
      "metadata": {
        "id": "qeLUaI-GJcky"
      },
      "execution_count": 44,
      "outputs": []
    },
    {
      "cell_type": "markdown",
      "source": [
        "Check the scores of our logistic regression classifier"
      ],
      "metadata": {
        "id": "zazUG-XyKHrQ"
      }
    },
    {
      "cell_type": "code",
      "source": [
        "log_score = accuracy_score(y_test, y_pred_log)\n",
        "print(\"Accuracy score (Logistic): \", log_score)\n",
        "print(\"Precision (Logistic): \", metrics.precision_score(y_test,y_pred_log))\n",
        "print(\"Recal(Logistic): \", metrics.recall_score(y_test,y_pred_log))"
      ],
      "metadata": {
        "colab": {
          "base_uri": "https://localhost:8080/"
        },
        "id": "ClSydj0MKMyn",
        "outputId": "37f561b3-f262-4ae4-ba41-664b4154c3d2"
      },
      "execution_count": 45,
      "outputs": [
        {
          "output_type": "stream",
          "name": "stdout",
          "text": [
            "Accuracy score (Logistic):  0.7536231884057971\n",
            "Precision (Logistic):  0.7464788732394366\n",
            "Recal(Logistic):  0.7681159420289855\n"
          ]
        }
      ]
    },
    {
      "cell_type": "markdown",
      "source": [
        "Lets see the confusion metrics for Logistic regression model"
      ],
      "metadata": {
        "id": "jr4KXtXqKqcX"
      }
    },
    {
      "cell_type": "code",
      "source": [
        "cm2 = confusion_matrix(y_test, y_pred_log)\n",
        "cm2"
      ],
      "metadata": {
        "colab": {
          "base_uri": "https://localhost:8080/"
        },
        "id": "ygTfMir5Kz9L",
        "outputId": "a786bb18-c955-447f-a206-9039de1a0861"
      },
      "execution_count": 46,
      "outputs": [
        {
          "output_type": "execute_result",
          "data": {
            "text/plain": [
              "array([[51, 18],\n",
              "       [16, 53]])"
            ]
          },
          "metadata": {},
          "execution_count": 46
        }
      ]
    },
    {
      "cell_type": "markdown",
      "source": [
        "Logistic regression model classification report"
      ],
      "metadata": {
        "id": "smECnGjXLJCp"
      }
    },
    {
      "cell_type": "code",
      "source": [
        "print(classification_report(y_test, y_pred_log))"
      ],
      "metadata": {
        "colab": {
          "base_uri": "https://localhost:8080/"
        },
        "id": "BwRM20_JLNqn",
        "outputId": "321fc753-28e1-4f2a-c592-1fa608c60867"
      },
      "execution_count": 47,
      "outputs": [
        {
          "output_type": "stream",
          "name": "stdout",
          "text": [
            "              precision    recall  f1-score   support\n",
            "\n",
            "           0       0.76      0.74      0.75        69\n",
            "           1       0.75      0.77      0.76        69\n",
            "\n",
            "    accuracy                           0.75       138\n",
            "   macro avg       0.75      0.75      0.75       138\n",
            "weighted avg       0.75      0.75      0.75       138\n",
            "\n"
          ]
        }
      ]
    },
    {
      "cell_type": "markdown",
      "source": [
        "See the accuracy with kfold inputs"
      ],
      "metadata": {
        "id": "PZBJcPRvMiOa"
      }
    },
    {
      "cell_type": "code",
      "source": [
        "log_model_with_kfold =LogisticRegression()\n",
        "# Train the model\n",
        "log_model_with_kfold.fit(X_train_kfold, y_train_kfold)\n",
        "#predict test data\n",
        "y_pred_log_kfold = log_model_with_kfold.predict(X_test_kfold)\n",
        "log_score_kfold = accuracy_score(y_test_kfold, y_pred_log_kfold)\n",
        "print(\"Accuracy score with kfold split (Logistic): \", log_score_kfold)"
      ],
      "metadata": {
        "colab": {
          "base_uri": "https://localhost:8080/"
        },
        "id": "AFZ4EoTCMmzw",
        "outputId": "5dcb08d2-412d-4f57-a685-63c6c3f7a06a"
      },
      "execution_count": 48,
      "outputs": [
        {
          "output_type": "stream",
          "name": "stdout",
          "text": [
            "Accuracy score with kfold split (Logistic):  0.6703296703296703\n"
          ]
        }
      ]
    },
    {
      "cell_type": "markdown",
      "source": [
        "Lets create our third classifier and use Support vector machine this time"
      ],
      "metadata": {
        "id": "R7mLTTiRMfCQ"
      }
    },
    {
      "cell_type": "markdown",
      "source": [
        "Create and fit the model and predict the output for the test data"
      ],
      "metadata": {
        "id": "37cAICOtfqBr"
      }
    },
    {
      "cell_type": "markdown",
      "source": [
        "First we use polynomial kernel"
      ],
      "metadata": {
        "id": "6joQhOJVQoRV"
      }
    },
    {
      "cell_type": "code",
      "source": [
        "svm_model_poly = SVC(kernel='poly',probability=True)\n",
        "svm_model_poly.fit(X_train, y_train)\n",
        "y_pred_svm_poly = svm_model_poly.predict(X_test)"
      ],
      "metadata": {
        "id": "dHk2Cw7PMtbo"
      },
      "execution_count": 77,
      "outputs": []
    },
    {
      "cell_type": "markdown",
      "source": [
        "Check the scores of our Support vector machine classifier"
      ],
      "metadata": {
        "id": "4zcpIQ1rfw5D"
      }
    },
    {
      "cell_type": "code",
      "source": [
        "svm_score_poly = accuracy_score(y_test, y_pred_svm_poly)\n",
        "print(\"Accuracy score (SVM_POLY): \", svm_score_poly)\n",
        "print(\"Precision (SVM_POLY): \", metrics.precision_score(y_test,y_pred_svm_poly))\n",
        "print(\"Recal(SVM_POLY): \", metrics.recall_score(y_test,y_pred_svm_poly))"
      ],
      "metadata": {
        "colab": {
          "base_uri": "https://localhost:8080/"
        },
        "id": "XyMkpn5dfy_1",
        "outputId": "9e7b9cc5-af52-485e-af30-f9b0f3283f67"
      },
      "execution_count": 79,
      "outputs": [
        {
          "output_type": "stream",
          "name": "stdout",
          "text": [
            "Accuracy score (SVM_POLY):  0.7536231884057971\n",
            "Precision (SVM_POLY):  0.7536231884057971\n",
            "Recal(SVM_POLY):  0.7536231884057971\n"
          ]
        }
      ]
    },
    {
      "cell_type": "markdown",
      "source": [
        "Lets see the confusion metrics for Support vector machine model"
      ],
      "metadata": {
        "id": "Gr4JU_OulEY8"
      }
    },
    {
      "cell_type": "code",
      "source": [
        "cm3_poly = confusion_matrix(y_test, y_pred_svm_poly)\n",
        "cm3_poly"
      ],
      "metadata": {
        "colab": {
          "base_uri": "https://localhost:8080/"
        },
        "id": "Co8Ze1HCf4Lx",
        "outputId": "63d3304b-e747-40e5-89b4-a62b77086440"
      },
      "execution_count": 80,
      "outputs": [
        {
          "output_type": "execute_result",
          "data": {
            "text/plain": [
              "array([[52, 17],\n",
              "       [17, 52]])"
            ]
          },
          "metadata": {},
          "execution_count": 80
        }
      ]
    },
    {
      "cell_type": "markdown",
      "source": [
        "Support vector machine model classification report\n",
        "\n",
        "\n"
      ],
      "metadata": {
        "id": "DCHgX6TBm6hL"
      }
    },
    {
      "cell_type": "code",
      "source": [
        "print(classification_report(y_test, y_pred_svm_poly))"
      ],
      "metadata": {
        "colab": {
          "base_uri": "https://localhost:8080/"
        },
        "id": "PaxHi4lCm7pz",
        "outputId": "69b65c65-bf88-46d3-d76a-b9e906b74e2d"
      },
      "execution_count": 81,
      "outputs": [
        {
          "output_type": "stream",
          "name": "stdout",
          "text": [
            "              precision    recall  f1-score   support\n",
            "\n",
            "           0       0.75      0.75      0.75        69\n",
            "           1       0.75      0.75      0.75        69\n",
            "\n",
            "    accuracy                           0.75       138\n",
            "   macro avg       0.75      0.75      0.75       138\n",
            "weighted avg       0.75      0.75      0.75       138\n",
            "\n"
          ]
        }
      ]
    },
    {
      "cell_type": "markdown",
      "source": [
        "This time using Guassian kernel for SVM"
      ],
      "metadata": {
        "id": "FXdwfT9wR1ft"
      }
    },
    {
      "cell_type": "code",
      "source": [
        "svm_model_Guassian = SVC(kernel='rbf',probability=True)\n",
        "svm_model_Guassian.fit(X_train, y_train)\n",
        "y_pred_svm_Guassian = svm_model_Guassian.predict(X_test)\n",
        "svm_score_Guassian = accuracy_score(y_test, y_pred_svm_Guassian)\n",
        "print(\"Accuracy score (SVM_Guassian): \", svm_score_Guassian)\n",
        "print(\"Precision (SVM_Guassian): \", metrics.precision_score(y_test,y_pred_svm_Guassian))\n",
        "print(\"Recal(SVM_Guassian): \", metrics.recall_score(y_test,y_pred_svm_Guassian))\n",
        "cm3_Guassian = confusion_matrix(y_test, y_pred_svm_Guassian)\n",
        "print(cm3_Guassian)\n",
        "print(classification_report(y_test, y_pred_svm_Guassian))"
      ],
      "metadata": {
        "colab": {
          "base_uri": "https://localhost:8080/"
        },
        "id": "4sia_0HeRfpN",
        "outputId": "a89305e5-624a-4679-e2b2-dd9f2ecdd708"
      },
      "execution_count": 83,
      "outputs": [
        {
          "output_type": "stream",
          "name": "stdout",
          "text": [
            "Accuracy score (SVM_Guassian):  0.8043478260869565\n",
            "Precision (SVM_Guassian):  0.8\n",
            "Recal(SVM_Guassian):  0.8115942028985508\n",
            "[[55 14]\n",
            " [13 56]]\n",
            "              precision    recall  f1-score   support\n",
            "\n",
            "           0       0.81      0.80      0.80        69\n",
            "           1       0.80      0.81      0.81        69\n",
            "\n",
            "    accuracy                           0.80       138\n",
            "   macro avg       0.80      0.80      0.80       138\n",
            "weighted avg       0.80      0.80      0.80       138\n",
            "\n"
          ]
        }
      ]
    },
    {
      "cell_type": "markdown",
      "source": [
        "Now lets use sigmoid kernel"
      ],
      "metadata": {
        "id": "nYd4K0W8U4Zu"
      }
    },
    {
      "cell_type": "code",
      "source": [
        "svm_model_Sigmoid = SVC(kernel='sigmoid',probability=True)\n",
        "svm_model_Sigmoid.fit(X_train, y_train)\n",
        "y_pred_svm_Sigmoid = svm_model_Sigmoid.predict(X_test)\n",
        "svm_score_Sigmoid = accuracy_score(y_test, y_pred_svm_Sigmoid)\n",
        "print(\"Accuracy score (SVM_Sigmoid): \", svm_score_Sigmoid)\n",
        "print(\"Precision (SVM_Sigmoid): \", metrics.precision_score(y_test,y_pred_svm_Sigmoid))\n",
        "print(\"Recal(SVM_Sigmoid): \", metrics.recall_score(y_test,y_pred_svm_Sigmoid))\n",
        "cm3_Sigmoid = confusion_matrix(y_test, y_pred_svm_Sigmoid)\n",
        "print(cm3_Sigmoid)\n",
        "print(classification_report(y_test, y_pred_svm_Sigmoid))"
      ],
      "metadata": {
        "colab": {
          "base_uri": "https://localhost:8080/"
        },
        "id": "WyF8dzC8U50k",
        "outputId": "e9b19a94-4d5a-454d-bcb4-3577fd2e2bf9"
      },
      "execution_count": 84,
      "outputs": [
        {
          "output_type": "stream",
          "name": "stdout",
          "text": [
            "Accuracy score (SVM_Sigmoid):  0.7391304347826086\n",
            "Precision (SVM_Sigmoid):  0.7704918032786885\n",
            "Recal(SVM_Sigmoid):  0.6811594202898551\n",
            "[[55 14]\n",
            " [22 47]]\n",
            "              precision    recall  f1-score   support\n",
            "\n",
            "           0       0.71      0.80      0.75        69\n",
            "           1       0.77      0.68      0.72        69\n",
            "\n",
            "    accuracy                           0.74       138\n",
            "   macro avg       0.74      0.74      0.74       138\n",
            "weighted avg       0.74      0.74      0.74       138\n",
            "\n"
          ]
        }
      ]
    },
    {
      "cell_type": "markdown",
      "source": [
        "See the accuracy with kfold inputs"
      ],
      "metadata": {
        "id": "DUPAMv-CNmZx"
      }
    },
    {
      "cell_type": "code",
      "source": [
        "svm_model_Guassian_with_kfold =SVC(kernel='rbf',probability=True)\n",
        "# Train the model\n",
        "svm_model_Guassian_with_kfold .fit(X_train_kfold, y_train_kfold)\n",
        "#predict test data\n",
        "y_pred_svm_Guassian_kfold = svm_model_Guassian_with_kfold.predict(X_test_kfold)\n",
        "svm_score_kfold = accuracy_score(y_test_kfold, y_pred_svm_Guassian_kfold)\n",
        "print(\"Accuracy score with kfold split (SVM-Guassian): \", svm_score_kfold)"
      ],
      "metadata": {
        "colab": {
          "base_uri": "https://localhost:8080/"
        },
        "id": "n5LZUpvzNmCG",
        "outputId": "30c5e798-9f85-4d1b-f546-2673f81dfef1"
      },
      "execution_count": 85,
      "outputs": [
        {
          "output_type": "stream",
          "name": "stdout",
          "text": [
            "Accuracy score with kfold split (SVM-Guassian):  0.6703296703296703\n"
          ]
        }
      ]
    },
    {
      "cell_type": "markdown",
      "source": [
        "Lets create our last classifier the randomforest"
      ],
      "metadata": {
        "id": "jp6d1ZCXf7bS"
      }
    },
    {
      "cell_type": "markdown",
      "source": [
        "Create and fit the model and predict the output for the test data"
      ],
      "metadata": {
        "id": "JNnGSv5hf5OV"
      }
    },
    {
      "cell_type": "code",
      "source": [
        "rf_model = RandomForestClassifier()\n",
        "rf_model.fit(X_train, y_train)\n",
        "y_pred_rf = rf_model.predict(X_test)"
      ],
      "metadata": {
        "id": "MqoidC03-vh5"
      },
      "execution_count": 56,
      "outputs": []
    },
    {
      "cell_type": "markdown",
      "source": [
        "Check the scores of our randomforest classifier"
      ],
      "metadata": {
        "id": "s7q-DEZpgVMC"
      }
    },
    {
      "cell_type": "code",
      "source": [
        "rf_score = accuracy_score(y_test, y_pred_rf)\n",
        "print(\"Accuracy score (Random Forest): \", rf_score)\n",
        "print(\"Precision (Random Forest): \", metrics.precision_score(y_test,y_pred_rf))\n",
        "print(\"Recal(Random Forest): \", metrics.recall_score(y_test,y_pred_rf))"
      ],
      "metadata": {
        "colab": {
          "base_uri": "https://localhost:8080/"
        },
        "id": "WNhxnB3ZggxA",
        "outputId": "c4c02c2c-2b59-4f1d-cf76-c51bcafa22b4"
      },
      "execution_count": 57,
      "outputs": [
        {
          "output_type": "stream",
          "name": "stdout",
          "text": [
            "Accuracy score (Random Forest):  0.7971014492753623\n",
            "Precision (Random Forest):  0.8153846153846154\n",
            "Recal(Random Forest):  0.7681159420289855\n"
          ]
        }
      ]
    },
    {
      "cell_type": "markdown",
      "source": [
        "Lets see the confusion metrics for Random Forest model"
      ],
      "metadata": {
        "id": "3FGPlob1lHVc"
      }
    },
    {
      "cell_type": "code",
      "source": [
        "cm4 = confusion_matrix(y_test, y_pred_rf)\n",
        "cm4"
      ],
      "metadata": {
        "colab": {
          "base_uri": "https://localhost:8080/"
        },
        "id": "WwGqiO1MlHBf",
        "outputId": "e8a7a065-7530-4bcb-90f7-6ae69cebcc47"
      },
      "execution_count": 58,
      "outputs": [
        {
          "output_type": "execute_result",
          "data": {
            "text/plain": [
              "array([[57, 12],\n",
              "       [16, 53]])"
            ]
          },
          "metadata": {},
          "execution_count": 58
        }
      ]
    },
    {
      "cell_type": "markdown",
      "source": [
        "Random Forest model classification report"
      ],
      "metadata": {
        "id": "UGxLSvxblpdL"
      }
    },
    {
      "cell_type": "code",
      "source": [
        "print(classification_report(y_test, y_pred_rf))"
      ],
      "metadata": {
        "colab": {
          "base_uri": "https://localhost:8080/"
        },
        "id": "WvW18BxYlpPK",
        "outputId": "d235a872-dbfb-491d-b4e6-98c9732911e3"
      },
      "execution_count": 59,
      "outputs": [
        {
          "output_type": "stream",
          "name": "stdout",
          "text": [
            "              precision    recall  f1-score   support\n",
            "\n",
            "           0       0.78      0.83      0.80        69\n",
            "           1       0.82      0.77      0.79        69\n",
            "\n",
            "    accuracy                           0.80       138\n",
            "   macro avg       0.80      0.80      0.80       138\n",
            "weighted avg       0.80      0.80      0.80       138\n",
            "\n"
          ]
        }
      ]
    },
    {
      "cell_type": "markdown",
      "source": [
        "See the accuracy with kfold inputs"
      ],
      "metadata": {
        "id": "H9teyMF0Yohc"
      }
    },
    {
      "cell_type": "code",
      "source": [
        "rf_model_with_kfold =RandomForestClassifier()\n",
        "# Train the model\n",
        "rf_model_with_kfold.fit(X_train_kfold, y_train_kfold)\n",
        "#predict test data\n",
        "y_pred_rf_kfold = rf_model_with_kfold.predict(X_test_kfold)\n",
        "rf_score_kfold = accuracy_score(y_test_kfold, y_pred_rf_kfold)\n",
        "print(\"Accuracy score with kfold split Random Forest): \", rf_score_kfold)"
      ],
      "metadata": {
        "colab": {
          "base_uri": "https://localhost:8080/"
        },
        "id": "bKUF0_vvYoCQ",
        "outputId": "53408551-4528-47fd-cfb0-fb816fbf4489"
      },
      "execution_count": 60,
      "outputs": [
        {
          "output_type": "stream",
          "name": "stdout",
          "text": [
            "Accuracy score with kfold split Random Forest):  0.6813186813186813\n"
          ]
        }
      ]
    },
    {
      "cell_type": "markdown",
      "source": [
        "Now before we create our voting classifier lets see the accuracy of each classifier with holdout method"
      ],
      "metadata": {
        "id": "G03Y27s5t--H"
      }
    },
    {
      "cell_type": "code",
      "source": [
        "print(\"Accuracy score (KNN): \", knn_score)\n",
        "print(\"Accuracy score (Logistic): \", log_score)\n",
        "print(\"Accuracy score (Random Forest): \", rf_score)\n",
        "print(\"Accuracy score (SVM_Guassian): \", svm_score_Guassian)"
      ],
      "metadata": {
        "colab": {
          "base_uri": "https://localhost:8080/"
        },
        "id": "rA3_gmY-uO1s",
        "outputId": "85c14282-e79c-4bd8-90d5-0306640c30b8"
      },
      "execution_count": 90,
      "outputs": [
        {
          "output_type": "stream",
          "name": "stdout",
          "text": [
            "Accuracy score (KNN):  0.7608695652173914\n",
            "Accuracy score (Logistic):  0.7536231884057971\n",
            "Accuracy score (Random Forest):  0.7971014492753623\n",
            "Accuracy score (SVM_Guassian):  0.8043478260869565\n"
          ]
        }
      ]
    },
    {
      "cell_type": "markdown",
      "source": [
        "Lets see the accuracy with kfold method too"
      ],
      "metadata": {
        "id": "2ClblqTzGxcZ"
      }
    },
    {
      "cell_type": "code",
      "source": [
        "print(\"Accuracy score with kfold split (KNN with kfold): \", knn_score_kfold)\n",
        "print(\"Accuracy score with kfold split (Logistic with kfold): \", log_score_kfold)\n",
        "print(\"Accuracy score with kfold split (SVM-Guassian with kfold): \", svm_score_kfold)\n",
        "print(\"Accuracy score with kfold split Random Forest with kfold): \", rf_score_kfold)"
      ],
      "metadata": {
        "colab": {
          "base_uri": "https://localhost:8080/"
        },
        "id": "oB9wl04VG2dm",
        "outputId": "dabacb17-ee19-473b-ef80-b39eaa7b9f53"
      },
      "execution_count": 89,
      "outputs": [
        {
          "output_type": "stream",
          "name": "stdout",
          "text": [
            "Accuracy score with kfold split (KNN with kfold):  0.7032967032967034\n",
            "Accuracy score with kfold split (Logistic with kfold):  0.6703296703296703\n",
            "Accuracy score with kfold split (SVM-Guassian with kfold):  0.6703296703296703\n",
            "Accuracy score with kfold split Random Forest with kfold):  0.6813186813186813\n"
          ]
        }
      ]
    },
    {
      "cell_type": "markdown",
      "source": [
        "Create our ensemble voting classifier"
      ],
      "metadata": {
        "id": "DZk0A0UhntM1"
      }
    },
    {
      "cell_type": "markdown",
      "source": [
        "First create a dictionary of our models"
      ],
      "metadata": {
        "id": "4jZuMFM2oK1L"
      }
    },
    {
      "cell_type": "code",
      "source": [
        "#create a dictionary of our models\n",
        "estimators=[('knn', knn_model), ('rf', rf_model), ('log_reg', log_model),('svm',svm_model_Guassian)]\n",
        "#create our voting classifier, inputting our models\n",
        "ensemble = VotingClassifier(estimators, voting='soft')\n",
        "#fit model to training data\n",
        "ensemble.fit(X_train, y_train)\n",
        "#test our model on the test data\n",
        "y_pred_ensemble = ensemble.predict(X_test)"
      ],
      "metadata": {
        "id": "dW3qleWnoRY0"
      },
      "execution_count": 87,
      "outputs": []
    },
    {
      "cell_type": "markdown",
      "source": [
        "Check the scores of our voting classifier"
      ],
      "metadata": {
        "id": "ufCd0ZI2oVvK"
      }
    },
    {
      "cell_type": "code",
      "source": [
        "ensemble_score = accuracy_score(y_test, y_pred_ensemble)\n",
        "print(\"Accuracy score (Ensemble): \", ensemble_score)\n",
        "print(\"Precision (Ensemble): \", metrics.precision_score(y_test,y_pred_ensemble))\n",
        "print(\"Recal(Ensemble): \", metrics.recall_score(y_test,y_pred_ensemble))"
      ],
      "metadata": {
        "colab": {
          "base_uri": "https://localhost:8080/"
        },
        "id": "ZuDW5PJqp20X",
        "outputId": "afbc75f6-2add-4ffd-8909-7766ece5164e"
      },
      "execution_count": 92,
      "outputs": [
        {
          "output_type": "stream",
          "name": "stdout",
          "text": [
            "Accuracy score (Ensemble):  0.8115942028985508\n",
            "Precision (Ensemble):  0.8028169014084507\n",
            "Recal(Ensemble):  0.8260869565217391\n"
          ]
        }
      ]
    },
    {
      "cell_type": "markdown",
      "source": [
        "Lets see the confusion metrics for voting classifier"
      ],
      "metadata": {
        "id": "WdjHtkNqqEa8"
      }
    },
    {
      "cell_type": "code",
      "source": [
        "cm5 = confusion_matrix(y_test, y_pred_ensemble)\n",
        "cm5"
      ],
      "metadata": {
        "colab": {
          "base_uri": "https://localhost:8080/"
        },
        "id": "llsnHG4Yqblx",
        "outputId": "2b4a0001-65d4-4a95-d51d-14050c6ad61e"
      },
      "execution_count": 93,
      "outputs": [
        {
          "output_type": "execute_result",
          "data": {
            "text/plain": [
              "array([[55, 14],\n",
              "       [12, 57]])"
            ]
          },
          "metadata": {},
          "execution_count": 93
        }
      ]
    },
    {
      "cell_type": "markdown",
      "source": [
        "voting classifier model classification report"
      ],
      "metadata": {
        "id": "CbCGhw-zrHPk"
      }
    },
    {
      "cell_type": "code",
      "source": [
        "print(classification_report(y_test, y_pred_ensemble))"
      ],
      "metadata": {
        "colab": {
          "base_uri": "https://localhost:8080/"
        },
        "id": "pQBTR37yrO5z",
        "outputId": "2234dfb9-475f-4b86-c340-96078c2167f2"
      },
      "execution_count": 94,
      "outputs": [
        {
          "output_type": "stream",
          "name": "stdout",
          "text": [
            "              precision    recall  f1-score   support\n",
            "\n",
            "           0       0.82      0.80      0.81        69\n",
            "           1       0.80      0.83      0.81        69\n",
            "\n",
            "    accuracy                           0.81       138\n",
            "   macro avg       0.81      0.81      0.81       138\n",
            "weighted avg       0.81      0.81      0.81       138\n",
            "\n"
          ]
        }
      ]
    },
    {
      "cell_type": "markdown",
      "source": [
        "Now lets see the voting classifier with kfold"
      ],
      "metadata": {
        "id": "221lfZZiIRhK"
      }
    },
    {
      "cell_type": "markdown",
      "source": [
        "Builld the model"
      ],
      "metadata": {
        "id": "g99bmxIhJni7"
      }
    },
    {
      "cell_type": "code",
      "source": [
        "#create a dictionary of our models\n",
        "estimators_with_kfold=[('knn', knn_model_with_kfold), ('rf', rf_model_with_kfold), ('log_reg', log_model_with_kfold),('svm',svm_model_Guassian_with_kfold)]\n",
        "#create our voting classifier, inputting our models\n",
        "ensemble_with_kfold = VotingClassifier(estimators_with_kfold, voting='soft')\n",
        "#fit model to training data\n",
        "ensemble_with_kfold.fit(X_train_kfold, y_train_kfold)\n",
        "#test our model on the test data\n",
        "y_pred_ensemble_with_kfold = ensemble_with_kfold.predict(X_test)"
      ],
      "metadata": {
        "id": "Arp1m5t6IZBl"
      },
      "execution_count": 95,
      "outputs": []
    },
    {
      "cell_type": "markdown",
      "source": [
        "Build the data to see how ell the model is predicting"
      ],
      "metadata": {
        "id": "xC7l_8i7JqAG"
      }
    },
    {
      "cell_type": "code",
      "source": [
        "ensemble_score_with_kfold = accuracy_score(y_test, y_pred_ensemble_with_kfold)\n",
        "print(\"Accuracy score (Ensemble with kfold): \", ensemble_score_with_kfold)\n",
        "print(\"Precision (Ensemble with kfold): \", metrics.precision_score(y_test,y_pred_ensemble_with_kfold))\n",
        "print(\"Recal(Ensemble with kfold): \", metrics.recall_score(y_test,y_pred_ensemble_with_kfold))\n",
        "cm5_with_kfold = confusion_matrix(y_test, y_pred_ensemble_with_kfold)\n",
        "print(cm5_with_kfold)\n",
        "print(classification_report(y_test, y_pred_ensemble_with_kfold))"
      ],
      "metadata": {
        "colab": {
          "base_uri": "https://localhost:8080/"
        },
        "id": "B8QKjqk8JwFx",
        "outputId": "28e5257c-0161-4912-cd31-9cf53a49b4f8"
      },
      "execution_count": 96,
      "outputs": [
        {
          "output_type": "stream",
          "name": "stdout",
          "text": [
            "Accuracy score (Ensemble with kfold):  0.8768115942028986\n",
            "Precision (Ensemble with kfold):  0.8513513513513513\n",
            "Recal(Ensemble with kfold):  0.9130434782608695\n",
            "[[58 11]\n",
            " [ 6 63]]\n",
            "              precision    recall  f1-score   support\n",
            "\n",
            "           0       0.91      0.84      0.87        69\n",
            "           1       0.85      0.91      0.88        69\n",
            "\n",
            "    accuracy                           0.88       138\n",
            "   macro avg       0.88      0.88      0.88       138\n",
            "weighted avg       0.88      0.88      0.88       138\n",
            "\n"
          ]
        }
      ]
    },
    {
      "cell_type": "markdown",
      "source": [
        "Now we created all of our classifiers and ensemble we want to tune our classifiers for better answer. So we have to do all of the things that we have done but use grid search in each classifier and use a range of different values for hyperparameters of classifiers and find the best one for each classifier. Then use the best ones of each classifier in our final ensemble voting classifier"
      ],
      "metadata": {
        "id": "RXuD6ma8r7h-"
      }
    },
    {
      "cell_type": "markdown",
      "source": [
        "First create grid serach for the knn model"
      ],
      "metadata": {
        "id": "AhE7_YC1NAI_"
      }
    },
    {
      "cell_type": "code",
      "source": [
        "#create a dictionary of all values we want to test for n_neighbors\n",
        "knn = KNeighborsClassifier()\n",
        "#use gridsearch to test all values for n_neighbors\n",
        "params_knn = {'n_neighbors': np.arange(1, 25)} \n",
        "#fit model to training data\n",
        "knn_gs = GridSearchCV(knn, params_knn, cv=5)\n",
        "knn_gs.fit(X_train, y_train)\n",
        "#save best model\n",
        "knn_best = knn_gs.best_estimator_\n",
        "#check best n_neigbors value\n",
        "print(knn_gs.best_params_)\n",
        "y_pred_knn_GS = knn_best.predict(X_test)\n",
        "knn_score_GS = accuracy_score(y_test, y_pred_knn_GS)\n",
        "print(\"Accuracy score with Grid Search (KNN): \", knn_score_GS)\n",
        "cm1_GS = confusion_matrix(y_test, y_pred_knn_GS)\n",
        "print(cm1_GS)\n",
        "# knn classification report with grid search\n",
        "print(classification_report(y_test, y_pred_knn_GS)) "
      ],
      "metadata": {
        "colab": {
          "base_uri": "https://localhost:8080/"
        },
        "id": "E12Q6xbwNLCX",
        "outputId": "06bee657-919f-4057-9820-fe0a7473e913"
      },
      "execution_count": 97,
      "outputs": [
        {
          "output_type": "stream",
          "name": "stdout",
          "text": [
            "{'n_neighbors': 7}\n",
            "Accuracy score with Grid Search (KNN):  0.782608695652174\n",
            "[[56 13]\n",
            " [17 52]]\n",
            "              precision    recall  f1-score   support\n",
            "\n",
            "           0       0.77      0.81      0.79        69\n",
            "           1       0.80      0.75      0.78        69\n",
            "\n",
            "    accuracy                           0.78       138\n",
            "   macro avg       0.78      0.78      0.78       138\n",
            "weighted avg       0.78      0.78      0.78       138\n",
            "\n"
          ]
        }
      ]
    },
    {
      "cell_type": "markdown",
      "source": [
        "Grid search on support vector machine"
      ],
      "metadata": {
        "id": "lv8MkZmGUa_2"
      }
    },
    {
      "cell_type": "code",
      "source": [
        "svm= SVC(kernel='rbf',probability=True)\n",
        "params_svm = {'C':[0.01,0.1,1,10,100,1000], 'gamma':[1,0.1,0.01,0.001,0.0001]}\n",
        "#fit model to training data\n",
        "svm_gs = GridSearchCV(svm, params_svm, cv=5)\n",
        "svm_gs.fit(X_train, y_train)\n",
        "#save best model\n",
        "svm_best = svm_gs.best_estimator_\n",
        "#check best n_estimators value\n",
        "print(svm_gs.best_params_)\n",
        "y_pred_svm_GS = svm_best.predict(X_test)\n",
        "svm_score_GS = accuracy_score(y_test, y_pred_svm_GS)\n",
        "print(\"Accuracy score with Grid Search (SVM): \", svm_score_GS)\n",
        "cm2_GS= confusion_matrix(y_test, y_pred_svm_GS)\n",
        "print(cm2_GS)\n",
        "# svm classification report\n",
        "print(classification_report(y_test, y_pred_svm_GS)) \n",
        "\n"
      ],
      "metadata": {
        "colab": {
          "base_uri": "https://localhost:8080/"
        },
        "id": "RTsmmBQ-UYrP",
        "outputId": "baf96b61-921e-420f-cd80-cf5284e0ea93"
      },
      "execution_count": 98,
      "outputs": [
        {
          "output_type": "stream",
          "name": "stdout",
          "text": [
            "{'C': 1, 'gamma': 0.1}\n",
            "Accuracy score with Grid Search (SVM):  0.8260869565217391\n",
            "[[56 13]\n",
            " [11 58]]\n",
            "              precision    recall  f1-score   support\n",
            "\n",
            "           0       0.84      0.81      0.82        69\n",
            "           1       0.82      0.84      0.83        69\n",
            "\n",
            "    accuracy                           0.83       138\n",
            "   macro avg       0.83      0.83      0.83       138\n",
            "weighted avg       0.83      0.83      0.83       138\n",
            "\n"
          ]
        }
      ]
    },
    {
      "cell_type": "markdown",
      "source": [
        "Grid search on logistic regression"
      ],
      "metadata": {
        "id": "L_PtPWKVPiOA"
      }
    },
    {
      "cell_type": "code",
      "source": [
        "log_reg = LogisticRegression()#fit the model to the training data\n",
        "log_reg.fit(X_train, y_train)\n",
        "#use gridsearch to test different values \n",
        "params_log = {'C':[0.001,0.01,0.1,1,10,100,1000],'penalty':['l1', 'l2', 'elasticnet']}\n",
        "#fit model to training data\n",
        "log_gs = GridSearchCV(log_reg, params_log, cv=5)\n",
        "log_gs.fit(X_train, y_train)\n",
        "#save best model\n",
        "log_best = knn_gs.best_estimator_\n",
        "#check best n_estimators value\n",
        "print(log_gs.best_params_)\n",
        "y_pred_log_GS = log_best.predict(X_test)\n",
        "log_score_GS = accuracy_score(y_test, y_pred_log_GS)\n",
        "print(\"Accuracy score with Grid Search (Logistic Regression): \", log_score_GS)\n",
        "cm2_GS = confusion_matrix(y_test, y_pred_log_GS)\n",
        "print(cm2_GS)\n",
        "# log classification report with grid search\n",
        "print(classification_report(y_test, y_pred_log_GS)) "
      ],
      "metadata": {
        "colab": {
          "base_uri": "https://localhost:8080/"
        },
        "id": "LvtlCYCIPiwf",
        "outputId": "44aca5a9-3bb9-4c06-c3b3-9ff756aba8e3"
      },
      "execution_count": 99,
      "outputs": [
        {
          "output_type": "stream",
          "name": "stdout",
          "text": [
            "{'C': 1, 'penalty': 'l2'}\n",
            "Accuracy score with Grid Search (Logistic Regression):  0.782608695652174\n",
            "[[56 13]\n",
            " [17 52]]\n",
            "              precision    recall  f1-score   support\n",
            "\n",
            "           0       0.77      0.81      0.79        69\n",
            "           1       0.80      0.75      0.78        69\n",
            "\n",
            "    accuracy                           0.78       138\n",
            "   macro avg       0.78      0.78      0.78       138\n",
            "weighted avg       0.78      0.78      0.78       138\n",
            "\n"
          ]
        },
        {
          "output_type": "stream",
          "name": "stderr",
          "text": [
            "/usr/local/lib/python3.7/dist-packages/sklearn/model_selection/_validation.py:372: FitFailedWarning: \n",
            "70 fits failed out of a total of 105.\n",
            "The score on these train-test partitions for these parameters will be set to nan.\n",
            "If these failures are not expected, you can try to debug them by setting error_score='raise'.\n",
            "\n",
            "Below are more details about the failures:\n",
            "--------------------------------------------------------------------------------\n",
            "35 fits failed with the following error:\n",
            "Traceback (most recent call last):\n",
            "  File \"/usr/local/lib/python3.7/dist-packages/sklearn/model_selection/_validation.py\", line 680, in _fit_and_score\n",
            "    estimator.fit(X_train, y_train, **fit_params)\n",
            "  File \"/usr/local/lib/python3.7/dist-packages/sklearn/linear_model/_logistic.py\", line 1461, in fit\n",
            "    solver = _check_solver(self.solver, self.penalty, self.dual)\n",
            "  File \"/usr/local/lib/python3.7/dist-packages/sklearn/linear_model/_logistic.py\", line 449, in _check_solver\n",
            "    % (solver, penalty)\n",
            "ValueError: Solver lbfgs supports only 'l2' or 'none' penalties, got l1 penalty.\n",
            "\n",
            "--------------------------------------------------------------------------------\n",
            "35 fits failed with the following error:\n",
            "Traceback (most recent call last):\n",
            "  File \"/usr/local/lib/python3.7/dist-packages/sklearn/model_selection/_validation.py\", line 680, in _fit_and_score\n",
            "    estimator.fit(X_train, y_train, **fit_params)\n",
            "  File \"/usr/local/lib/python3.7/dist-packages/sklearn/linear_model/_logistic.py\", line 1461, in fit\n",
            "    solver = _check_solver(self.solver, self.penalty, self.dual)\n",
            "  File \"/usr/local/lib/python3.7/dist-packages/sklearn/linear_model/_logistic.py\", line 449, in _check_solver\n",
            "    % (solver, penalty)\n",
            "ValueError: Solver lbfgs supports only 'l2' or 'none' penalties, got elasticnet penalty.\n",
            "\n",
            "  warnings.warn(some_fits_failed_message, FitFailedWarning)\n",
            "/usr/local/lib/python3.7/dist-packages/sklearn/model_selection/_search.py:972: UserWarning: One or more of the test scores are non-finite: [     nan 0.709375      nan      nan 0.68125       nan      nan 0.7\n",
            "      nan      nan 0.71875       nan      nan 0.709375      nan      nan\n",
            " 0.70625       nan      nan 0.70625       nan]\n",
            "  category=UserWarning,\n"
          ]
        }
      ]
    },
    {
      "cell_type": "markdown",
      "source": [
        "Grid search on random forest"
      ],
      "metadata": {
        "id": "Y3V300xVTYKR"
      }
    },
    {
      "cell_type": "code",
      "source": [
        "rf = RandomForestClassifier()\n",
        "#create a dictionary of all values we want to test for n_estimators\n",
        "params_rf = {'n_estimators': [25,50, 100, 200]}\n",
        "#use gridsearch to test all values for n_estimators\n",
        "#fit model to training data\n",
        "rf_gs = GridSearchCV(rf, params_rf, cv=5)\n",
        "rf_gs.fit(X_train, y_train)\n",
        "#save best model\n",
        "rf_best = rf_gs.best_estimator_\n",
        "#check best n_estimators value\n",
        "print(rf_gs.best_params_)\n",
        "y_pred_rf_GS = rf_best.predict(X_test)\n",
        "rf_score_GS = accuracy_score(y_test, y_pred_rf_GS)\n",
        "print(\"Accuracy score with Grid Search (Random Forest): \", rf_score_GS)\n",
        "cm4_GS = confusion_matrix(y_test, y_pred_rf_GS)\n",
        "print(cm4_GS)\n",
        "# random forest classification report\n",
        "print(classification_report(y_test, y_pred_rf_GS)) "
      ],
      "metadata": {
        "colab": {
          "base_uri": "https://localhost:8080/"
        },
        "id": "r114rDBwTeUB",
        "outputId": "fba4563e-7f98-4659-c22b-71ade5d0b8f0"
      },
      "execution_count": 103,
      "outputs": [
        {
          "output_type": "stream",
          "name": "stdout",
          "text": [
            "{'n_estimators': 200}\n",
            "Accuracy score with Grid Search (Random Forest):  0.7753623188405797\n",
            "[[56 13]\n",
            " [18 51]]\n",
            "              precision    recall  f1-score   support\n",
            "\n",
            "           0       0.76      0.81      0.78        69\n",
            "           1       0.80      0.74      0.77        69\n",
            "\n",
            "    accuracy                           0.78       138\n",
            "   macro avg       0.78      0.78      0.78       138\n",
            "weighted avg       0.78      0.78      0.78       138\n",
            "\n"
          ]
        }
      ]
    },
    {
      "cell_type": "markdown",
      "source": [
        "Now we use grid search on our ensemble"
      ],
      "metadata": {
        "id": "QA-HDPYNU4r4"
      }
    },
    {
      "cell_type": "code",
      "source": [
        "from sklearn.metrics import RocCurveDisplay\n",
        "#create a dictionary of our models\n",
        "estimators_with_GS =[('knn', knn_best), ('rf', rf_best), ('log_reg', log_reg),('svm',svm_best)]\n",
        "#create our voting classifier, inputting our models\n",
        "ensemble_with_GS = VotingClassifier(estimators_with_GS , voting='soft')\n",
        "#fit model to training data\n",
        "ensemble_with_GS.fit(X_train, y_train)\n",
        "#test our model on the test data\n",
        "y_pred_ensemble_with_GS = ensemble_with_GS.predict(X_test)\n",
        "ensemble_score_with_GS = accuracy_score(y_test, y_pred_ensemble_with_GS)\n",
        "print(\"Accuracy score with grid search (Ensemble): \", ensemble_score_with_GS)\n",
        "cm5_gs = confusion_matrix(y_test, y_pred_ensemble_with_GS)\n",
        "print(cm5)\n",
        "# ensemble classification report\n",
        "print(classification_report(y_test, y_pred_ensemble_with_GS)) \n",
        "# Plot ROC Curve\n",
        "plt.clf()\n",
        "y_probas_ensemble_GS = ensemble_with_GS.predict_proba(X_test)\n",
        "skplt.metrics.plot_roc(y_test, y_probas_ensemble_GS, figsize=(10, 8))   \n",
        "#plot_roc_curve(ensemble_with_GS, X_test, y_test)\n",
        "plt.savefig('CW2_roc_ensemble_with_Gridsearch.png', dpi=1050)\n",
        "plt.show()\n",
        "\n"
      ],
      "metadata": {
        "colab": {
          "base_uri": "https://localhost:8080/"
        },
        "id": "qzRV4IYrmZc7",
        "outputId": "d799c800-f97f-4cf1-a622-45f3c3c534bc"
      },
      "execution_count": 104,
      "outputs": [
        {
          "output_type": "stream",
          "name": "stdout",
          "text": [
            "Accuracy score with grid search (Ensemble):  0.8188405797101449\n",
            "[[55 14]\n",
            " [12 57]]\n",
            "              precision    recall  f1-score   support\n",
            "\n",
            "           0       0.81      0.83      0.82        69\n",
            "           1       0.82      0.81      0.82        69\n",
            "\n",
            "    accuracy                           0.82       138\n",
            "   macro avg       0.82      0.82      0.82       138\n",
            "weighted avg       0.82      0.82      0.82       138\n",
            "\n"
          ]
        }
      ]
    }
  ]
}